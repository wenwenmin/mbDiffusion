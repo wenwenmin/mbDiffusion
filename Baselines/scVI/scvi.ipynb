{
 "cells": [
  {
   "cell_type": "code",
   "execution_count": 1,
   "id": "466eaa39",
   "metadata": {},
   "outputs": [
    {
     "name": "stderr",
     "output_type": "stream",
     "text": [
      "D:\\Anaconda\\envs\\scvi_test\\Lib\\site-packages\\tqdm\\auto.py:21: TqdmWarning: IProgress not found. Please update jupyter and ipywidgets. See https://ipywidgets.readthedocs.io/en/stable/user_install.html\n",
      "  from .autonotebook import tqdm as notebook_tqdm\n"
     ]
    }
   ],
   "source": [
    "import scvi"
   ]
  },
  {
   "cell_type": "code",
   "execution_count": 2,
   "id": "f9567a8c",
   "metadata": {},
   "outputs": [
    {
     "name": "stdout",
     "output_type": "stream",
     "text": [
      "1.1.1\n"
     ]
    }
   ],
   "source": [
    "print(scvi.__version__)"
   ]
  },
  {
   "cell_type": "code",
   "execution_count": 3,
   "id": "757f1193",
   "metadata": {},
   "outputs": [
    {
     "data": {
      "text/plain": [
       "'0.4.23'"
      ]
     },
     "execution_count": 3,
     "metadata": {},
     "output_type": "execute_result"
    }
   ],
   "source": [
    "import jaxlib\n",
    "jaxlib.__version__"
   ]
  },
  {
   "cell_type": "code",
   "execution_count": 4,
   "id": "2953238c",
   "metadata": {},
   "outputs": [],
   "source": [
    "import scanpy as sc\n",
    "from sklearn.model_selection import train_test_split"
   ]
  },
  {
   "cell_type": "code",
   "execution_count": 5,
   "id": "a18ec1c6",
   "metadata": {},
   "outputs": [],
   "source": [
    "import pandas as pd"
   ]
  },
  {
   "cell_type": "code",
   "execution_count": null,
   "id": "f1c4665d",
   "metadata": {},
   "outputs": [],
   "source": []
  },
  {
   "cell_type": "code",
   "execution_count": null,
   "id": "8d7aefef",
   "metadata": {},
   "outputs": [],
   "source": []
  },
  {
   "cell_type": "code",
   "execution_count": 6,
   "id": "7a1783c2",
   "metadata": {},
   "outputs": [
    {
     "name": "stderr",
     "output_type": "stream",
     "text": [
      "<>:1: SyntaxWarning: invalid escape sequence '\\m'\n",
      "<>:1: SyntaxWarning: invalid escape sequence '\\m'\n",
      "C:\\Users\\DELL\\AppData\\Local\\Temp\\ipykernel_13136\\422678120.py:1: SyntaxWarning: invalid escape sequence '\\m'\n",
      "  adata=sc.read('D:\\\\TCGA\\mbVDiT_data\\\\WXS\\\\blood\\\\coad\\\\microdata.h5ad')\n",
      "D:\\Anaconda\\envs\\scvi_test\\Lib\\site-packages\\anndata\\__init__.py:51: FutureWarning: `anndata.read` is deprecated, use `anndata.read_h5ad` instead. `ad.read` will be removed in mid 2024.\n",
      "  warnings.warn(\n",
      "D:\\Anaconda\\envs\\scvi_test\\Lib\\site-packages\\scanpy\\preprocessing\\_normalization.py:196: UserWarning: Some cells have zero counts\n",
      "  warn(UserWarning('Some cells have zero counts'))\n"
     ]
    },
    {
     "data": {
      "text/plain": [
       "(410, 106)"
      ]
     },
     "execution_count": 6,
     "metadata": {},
     "output_type": "execute_result"
    }
   ],
   "source": [
    "adata=sc.read('D:\\\\TCGA\\mbVDiT_data\\\\WXS\\\\blood\\\\stad\\\\microdata.h5ad')\n",
    "sc.pp.normalize_total(adata, target_sum=1e5)\n",
    "sc.pp.log1p(adata)\n",
    "origin_data = adata.X\n",
    "#origin_data, temp_data = train_test_split(origin_data, test_size=0.2, random_state=3407)\n",
    "origin_data.shape"
   ]
  },
  {
   "cell_type": "code",
   "execution_count": 7,
   "id": "e21ca704",
   "metadata": {},
   "outputs": [],
   "source": [
    "def mask_tensor_with_masks(X, mask_zero_ratio, mask_nonzero_ratio, decice = 'cuda:0'):\n",
    "\n",
    "    nonzero_mask = np.zeros((X.shape[0], X.shape[1]))\n",
    "    zero_mask = np.zeros((X.shape[0], X.shape[1]))\n",
    "\n",
    "    nonzero_indices = np.transpose(np.nonzero(X.cpu()))\n",
    "    num_indices_to_choose = int(mask_nonzero_ratio * len(nonzero_indices[0]))\n",
    "    # chosen_indices = np.random.choice(num_indices_to_choose, size=num_indices_to_choose, replace=False)\n",
    "    chosen_indices_row = np.random.choice(len(nonzero_indices[0]), size=num_indices_to_choose, replace=False)\n",
    "    #chosen_indices_col = np.random.choice(nonzero_indices[1], size=num_indices_to_choose, replace=False)\n",
    "\n",
    "    for idx in chosen_indices_row:\n",
    "        row, col = nonzero_indices[0][idx], nonzero_indices[1][idx]\n",
    "        nonzero_mask[row, col] = 1\n",
    "\n",
    "    zero_indices = np.where(X.cpu() == 0)\n",
    "    num_indices_to_choose = int(mask_zero_ratio * len(zero_indices[0]))\n",
    "    # chosen_indices = np.random.choice(num_indices_to_choose, size=num_indices_to_choose, replace=False)\n",
    "\n",
    "    chosen_indices_row = np.random.choice(len(zero_indices[0]), size=num_indices_to_choose, replace=False)\n",
    "    #chosen_indices_col = np.random.choice(zero_indices[1], size=num_indices_to_choose, replace=False)\n",
    "\n",
    "    for idx in chosen_indices_row:\n",
    "        row, col = zero_indices[0][idx], zero_indices[1][idx]\n",
    "        zero_mask[row, col] = 1\n",
    "\n",
    "    print()\n",
    "    # mask = np.bitwise_or(nonzero_mask.astype(int), zero_mask.astype(int))\n",
    "    # mask_X = X.cpu() * (1 - nonzero_mask)\n",
    "\n",
    "    all_mask = np.array(nonzero_mask)\n",
    "    mask = all_mask == 1\n",
    "    org_data = np.array(X.cpu())[mask]\n",
    "\n",
    "    mask_X = X.cpu() * (1 - nonzero_mask)\n",
    "\n",
    "    return mask_X, nonzero_mask, zero_mask, org_data"
   ]
  },
  {
   "cell_type": "code",
   "execution_count": 8,
   "id": "12c86e04",
   "metadata": {},
   "outputs": [
    {
     "data": {
      "text/plain": [
       "torch.Size([410, 106])"
      ]
     },
     "execution_count": 8,
     "metadata": {},
     "output_type": "execute_result"
    }
   ],
   "source": [
    "import torch\n",
    "x = torch.tensor(origin_data)\n",
    "x.shape"
   ]
  },
  {
   "cell_type": "code",
   "execution_count": 9,
   "id": "4fe2797a",
   "metadata": {},
   "outputs": [
    {
     "name": "stdout",
     "output_type": "stream",
     "text": [
      "\n"
     ]
    }
   ],
   "source": [
    "import numpy as np\n",
    "mask_x, nonzero_mask, zero_mask, org_data = mask_tensor_with_masks(x, 0, 0.3)"
   ]
  },
  {
   "cell_type": "code",
   "execution_count": 10,
   "id": "1ec2b188",
   "metadata": {},
   "outputs": [
    {
     "data": {
      "text/plain": [
       "array([[11.03992911,  0.        ,  0.        , ...,  0.        ,\n",
       "         0.        ,  0.        ],\n",
       "       [ 0.        ,  0.        ,  0.        , ...,  0.        ,\n",
       "         0.        ,  0.        ],\n",
       "       [ 0.        ,  0.        ,  0.        , ...,  0.        ,\n",
       "         0.        ,  0.        ],\n",
       "       ...,\n",
       "       [ 0.        ,  0.        ,  0.        , ...,  0.        ,\n",
       "         0.        ,  0.        ],\n",
       "       [ 0.        ,  0.        ,  0.        , ...,  0.        ,\n",
       "         0.        ,  0.        ],\n",
       "       [ 9.21935003,  0.        ,  0.        , ...,  0.        ,\n",
       "         0.        ,  0.        ]])"
      ]
     },
     "execution_count": 10,
     "metadata": {},
     "output_type": "execute_result"
    }
   ],
   "source": [
    "from anndata import AnnData\n",
    "adata = AnnData(X=np.array(mask_x))\n",
    "adata.X"
   ]
  },
  {
   "cell_type": "code",
   "execution_count": 11,
   "id": "29313cb6",
   "metadata": {},
   "outputs": [],
   "source": [
    "#adata.layers[\"counts\"] = adata.X.copy()\n",
    "#adata.layers[\"counts\"] = mask_x.copy()\n",
    "adata.layers[\"counts\"] = adata.X.copy()\n",
    "adata.layers[\"counts\"] = np.array(mask_x).copy()"
   ]
  },
  {
   "cell_type": "code",
   "execution_count": 12,
   "id": "7d5a3d9a",
   "metadata": {},
   "outputs": [
    {
     "name": "stdout",
     "output_type": "stream",
     "text": [
      "Layer 'counts' 存在\n"
     ]
    }
   ],
   "source": [
    "if 'counts' in adata.layers:\n",
    "    print(\"Layer 'counts' 存在\")\n",
    "else:\n",
    "    print(\"Layer 'counts' 不存在\")"
   ]
  },
  {
   "cell_type": "code",
   "execution_count": 13,
   "id": "3a609225",
   "metadata": {},
   "outputs": [
    {
     "name": "stdout",
     "output_type": "stream",
     "text": [
      "Condition number: 7.501996498272304e+65\n",
      "警告：数据的条件数非常大，可能存在数值不稳定性\n"
     ]
    }
   ],
   "source": [
    "# 计算数据的条件数\n",
    "condition_number = np.linalg.cond(adata.X)\n",
    "print(f\"Condition number: {condition_number}\")\n",
    "\n",
    "# 如果条件数非常大，可能需要进一步处理数据\n",
    "if condition_number > 1e10:\n",
    "    print(\"警告：数据的条件数非常大，可能存在数值不稳定性\")"
   ]
  },
  {
   "cell_type": "code",
   "execution_count": 14,
   "id": "cebd1f13",
   "metadata": {},
   "outputs": [],
   "source": [
    "if np.any(np.isnan(adata.X)):\n",
    "    print(\"警告：数据中存在NaN值\")"
   ]
  },
  {
   "cell_type": "code",
   "execution_count": null,
   "id": "0dc17d17",
   "metadata": {},
   "outputs": [],
   "source": []
  },
  {
   "cell_type": "code",
   "execution_count": null,
   "id": "6a5561f1",
   "metadata": {},
   "outputs": [],
   "source": []
  },
  {
   "cell_type": "code",
   "execution_count": 15,
   "id": "ee5e0589",
   "metadata": {},
   "outputs": [
    {
     "name": "stderr",
     "output_type": "stream",
     "text": [
      "D:\\Anaconda\\envs\\scvi_test\\Lib\\site-packages\\scanpy\\preprocessing\\_highly_variable_genes.py:64: UserWarning: `flavor='seurat_v3'` expects raw count data, but non-integers were found.\n",
      "  warnings.warn(\n"
     ]
    }
   ],
   "source": [
    "adata.raw = adata  # keep full dimension safe\n",
    "sc.pp.highly_variable_genes(\n",
    "    adata,\n",
    "    flavor=\"seurat_v3\",\n",
    "    n_top_genes=200,\n",
    "    layer=\"counts\",\n",
    "    subset=True\n",
    ")\n",
    "# sc.tl.pca(adata)\n",
    "# sc.pp.neighbors(adata)\n",
    "# sc.tl.umap(adata)\n",
    "# sc.pl.umap(adata,color=[\"celltype\",\"BATCH\"])"
   ]
  },
  {
   "cell_type": "code",
   "execution_count": 16,
   "id": "5f3c58b2",
   "metadata": {},
   "outputs": [
    {
     "name": "stderr",
     "output_type": "stream",
     "text": [
      "<frozen abc>:119: FutureWarning: SparseDataset is deprecated and will be removed in late 2024. It has been replaced by the public classes CSRDataset and CSCDataset.\n",
      "\n",
      "For instance checks, use `isinstance(X, (anndata.experimental.CSRDataset, anndata.experimental.CSCDataset))` instead.\n",
      "\n",
      "For creation, use `anndata.experimental.sparse_dataset(X)` instead.\n",
      "\n",
      "D:\\Anaconda\\envs\\scvi_test\\Lib\\site-packages\\scvi\\data\\fields\\_base_field.py:64: UserWarning: adata.layers[counts] does not contain unnormalized count data. Are you sure this is what you want?\n",
      "  self.validate_field(adata)\n"
     ]
    }
   ],
   "source": [
    "adata.layers[\"counts\"] = adata.X.copy()\n",
    "scvi.model.SCVI.setup_anndata(adata, layer=\"counts\")"
   ]
  },
  {
   "cell_type": "code",
   "execution_count": 17,
   "id": "adf6633a",
   "metadata": {},
   "outputs": [
    {
     "name": "stderr",
     "output_type": "stream",
     "text": [
      "D:\\Anaconda\\envs\\scvi_test\\Lib\\site-packages\\scvi\\model\\_scvi.py:155: UserWarning: This dataset has some empty cells, this might fail inference.Data should be filtered with `scanpy.pp.filter_cells()`\n",
      "  library_log_means, library_log_vars = _init_library_size(\n"
     ]
    },
    {
     "data": {
      "text/html": [
       "<pre style=\"white-space:pre;overflow-x:auto;line-height:normal;font-family:Menlo,'DejaVu Sans Mono',consolas,'Courier New',monospace\">SCVI model with the following parameters: \n",
       "n_hidden: <span style=\"color: #008080; text-decoration-color: #008080; font-weight: bold\">128</span>, n_latent: <span style=\"color: #008080; text-decoration-color: #008080; font-weight: bold\">10</span>, n_layers: <span style=\"color: #008080; text-decoration-color: #008080; font-weight: bold\">1</span>, dropout_rate: <span style=\"color: #008080; text-decoration-color: #008080; font-weight: bold\">0.1</span>, dispersion: gene, gene_likelihood: zinb, \n",
       "latent_distribution: normal.\n",
       "Training status: Not Trained\n",
       "Model's adata is minified?: <span style=\"color: #ff0000; text-decoration-color: #ff0000; font-style: italic\">False</span>\n",
       "</pre>\n"
      ],
      "text/plain": [
       "SCVI model with the following parameters: \n",
       "n_hidden: \u001b[1;36m128\u001b[0m, n_latent: \u001b[1;36m10\u001b[0m, n_layers: \u001b[1;36m1\u001b[0m, dropout_rate: \u001b[1;36m0.1\u001b[0m, dispersion: gene, gene_likelihood: zinb, \n",
       "latent_distribution: normal.\n",
       "Training status: Not Trained\n",
       "Model's adata is minified?: \u001b[3;91mFalse\u001b[0m\n"
      ]
     },
     "metadata": {},
     "output_type": "display_data"
    },
    {
     "data": {
      "text/plain": []
     },
     "execution_count": 17,
     "metadata": {},
     "output_type": "execute_result"
    }
   ],
   "source": [
    "vae = scvi.model.SCVI(adata)\n",
    "vae"
   ]
  },
  {
   "cell_type": "code",
   "execution_count": 18,
   "id": "b20e145a",
   "metadata": {},
   "outputs": [
    {
     "name": "stderr",
     "output_type": "stream",
     "text": [
      "GPU available: False, used: False\n",
      "TPU available: False, using: 0 TPU cores\n",
      "IPU available: False, using: 0 IPUs\n",
      "HPU available: False, using: 0 HPUs\n",
      "D:\\Anaconda\\envs\\scvi_test\\Lib\\site-packages\\lightning\\pytorch\\trainer\\connectors\\data_connector.py:441: The 'train_dataloader' does not have many workers which may be a bottleneck. Consider increasing the value of the `num_workers` argument` to `num_workers=23` in the `DataLoader` to improve performance.\n",
      "D:\\Anaconda\\envs\\scvi_test\\Lib\\site-packages\\lightning\\pytorch\\loops\\fit_loop.py:293: The number of training batches (3) is smaller than the logging interval Trainer(log_every_n_steps=10). Set a lower value for log_every_n_steps if you want to see logs for the training epoch.\n"
     ]
    },
    {
     "name": "stdout",
     "output_type": "stream",
     "text": [
      "Epoch 5/400:   1%|▏                | 5/400 [00:00<00:22, 17.73it/s, v_num=1, train_loss_step=27, train_loss_epoch=24.5]"
     ]
    },
    {
     "name": "stderr",
     "output_type": "stream",
     "text": [
      "D:\\Anaconda\\envs\\scvi_test\\Lib\\site-packages\\scvi\\module\\_vae.py:458: UserWarning: The value argument must be within the support of the distribution\n",
      "  reconst_loss = -generative_outputs[\"px\"].log_prob(x).sum(-1)\n",
      "D:\\Anaconda\\envs\\scvi_test\\Lib\\site-packages\\scvi\\module\\_vae.py:458: UserWarning: The value argument must be within the support of the distribution\n",
      "  reconst_loss = -generative_outputs[\"px\"].log_prob(x).sum(-1)\n",
      "D:\\Anaconda\\envs\\scvi_test\\Lib\\site-packages\\scvi\\module\\_vae.py:458: UserWarning: The value argument must be within the support of the distribution\n",
      "  reconst_loss = -generative_outputs[\"px\"].log_prob(x).sum(-1)\n",
      "D:\\Anaconda\\envs\\scvi_test\\Lib\\site-packages\\scvi\\module\\_vae.py:458: UserWarning: The value argument must be within the support of the distribution\n",
      "  reconst_loss = -generative_outputs[\"px\"].log_prob(x).sum(-1)\n",
      "D:\\Anaconda\\envs\\scvi_test\\Lib\\site-packages\\scvi\\module\\_vae.py:458: UserWarning: The value argument must be within the support of the distribution\n",
      "  reconst_loss = -generative_outputs[\"px\"].log_prob(x).sum(-1)\n",
      "D:\\Anaconda\\envs\\scvi_test\\Lib\\site-packages\\scvi\\module\\_vae.py:458: UserWarning: The value argument must be within the support of the distribution\n",
      "  reconst_loss = -generative_outputs[\"px\"].log_prob(x).sum(-1)\n"
     ]
    },
    {
     "name": "stdout",
     "output_type": "stream",
     "text": [
      "Epoch 7/400:   2%|▎              | 7/400 [00:00<00:13, 29.38it/s, v_num=1, train_loss_step=20.1, train_loss_epoch=22.4]"
     ]
    },
    {
     "name": "stderr",
     "output_type": "stream",
     "text": [
      "D:\\Anaconda\\envs\\scvi_test\\Lib\\site-packages\\scvi\\module\\_vae.py:458: UserWarning: The value argument must be within the support of the distribution\n",
      "  reconst_loss = -generative_outputs[\"px\"].log_prob(x).sum(-1)\n",
      "D:\\Anaconda\\envs\\scvi_test\\Lib\\site-packages\\scvi\\module\\_vae.py:458: UserWarning: The value argument must be within the support of the distribution\n",
      "  reconst_loss = -generative_outputs[\"px\"].log_prob(x).sum(-1)\n",
      "D:\\Anaconda\\envs\\scvi_test\\Lib\\site-packages\\scvi\\module\\_vae.py:458: UserWarning: The value argument must be within the support of the distribution\n",
      "  reconst_loss = -generative_outputs[\"px\"].log_prob(x).sum(-1)\n"
     ]
    },
    {
     "name": "stdout",
     "output_type": "stream",
     "text": [
      "Epoch 12/400:   3%|▍              | 12/400 [00:00<00:11, 33.37it/s, v_num=1, train_loss_step=18.5, train_loss_epoch=19]"
     ]
    },
    {
     "name": "stderr",
     "output_type": "stream",
     "text": [
      "D:\\Anaconda\\envs\\scvi_test\\Lib\\site-packages\\scvi\\module\\_vae.py:458: UserWarning: The value argument must be within the support of the distribution\n",
      "  reconst_loss = -generative_outputs[\"px\"].log_prob(x).sum(-1)\n",
      "D:\\Anaconda\\envs\\scvi_test\\Lib\\site-packages\\scvi\\module\\_vae.py:458: UserWarning: The value argument must be within the support of the distribution\n",
      "  reconst_loss = -generative_outputs[\"px\"].log_prob(x).sum(-1)\n",
      "D:\\Anaconda\\envs\\scvi_test\\Lib\\site-packages\\scvi\\module\\_vae.py:458: UserWarning: The value argument must be within the support of the distribution\n",
      "  reconst_loss = -generative_outputs[\"px\"].log_prob(x).sum(-1)\n",
      "D:\\Anaconda\\envs\\scvi_test\\Lib\\site-packages\\scvi\\module\\_vae.py:458: UserWarning: The value argument must be within the support of the distribution\n",
      "  reconst_loss = -generative_outputs[\"px\"].log_prob(x).sum(-1)\n",
      "D:\\Anaconda\\envs\\scvi_test\\Lib\\site-packages\\scvi\\module\\_vae.py:458: UserWarning: The value argument must be within the support of the distribution\n",
      "  reconst_loss = -generative_outputs[\"px\"].log_prob(x).sum(-1)\n"
     ]
    },
    {
     "name": "stdout",
     "output_type": "stream",
     "text": [
      "Epoch 15/400:   4%|▍            | 15/400 [00:00<00:10, 35.63it/s, v_num=1, train_loss_step=17.3, train_loss_epoch=17.8]"
     ]
    },
    {
     "name": "stderr",
     "output_type": "stream",
     "text": [
      "D:\\Anaconda\\envs\\scvi_test\\Lib\\site-packages\\scvi\\module\\_vae.py:458: UserWarning: The value argument must be within the support of the distribution\n",
      "  reconst_loss = -generative_outputs[\"px\"].log_prob(x).sum(-1)\n",
      "D:\\Anaconda\\envs\\scvi_test\\Lib\\site-packages\\scvi\\module\\_vae.py:458: UserWarning: The value argument must be within the support of the distribution\n",
      "  reconst_loss = -generative_outputs[\"px\"].log_prob(x).sum(-1)\n",
      "D:\\Anaconda\\envs\\scvi_test\\Lib\\site-packages\\scvi\\module\\_vae.py:458: UserWarning: The value argument must be within the support of the distribution\n",
      "  reconst_loss = -generative_outputs[\"px\"].log_prob(x).sum(-1)\n",
      "D:\\Anaconda\\envs\\scvi_test\\Lib\\site-packages\\scvi\\module\\_vae.py:458: UserWarning: The value argument must be within the support of the distribution\n",
      "  reconst_loss = -generative_outputs[\"px\"].log_prob(x).sum(-1)\n"
     ]
    },
    {
     "name": "stdout",
     "output_type": "stream",
     "text": [
      "Epoch 20/400:   5%|▋            | 20/400 [00:00<00:10, 36.78it/s, v_num=1, train_loss_step=13.5, train_loss_epoch=16.3]"
     ]
    },
    {
     "name": "stderr",
     "output_type": "stream",
     "text": [
      "D:\\Anaconda\\envs\\scvi_test\\Lib\\site-packages\\scvi\\module\\_vae.py:458: UserWarning: The value argument must be within the support of the distribution\n",
      "  reconst_loss = -generative_outputs[\"px\"].log_prob(x).sum(-1)\n",
      "D:\\Anaconda\\envs\\scvi_test\\Lib\\site-packages\\scvi\\module\\_vae.py:458: UserWarning: The value argument must be within the support of the distribution\n",
      "  reconst_loss = -generative_outputs[\"px\"].log_prob(x).sum(-1)\n",
      "D:\\Anaconda\\envs\\scvi_test\\Lib\\site-packages\\scvi\\module\\_vae.py:458: UserWarning: The value argument must be within the support of the distribution\n",
      "  reconst_loss = -generative_outputs[\"px\"].log_prob(x).sum(-1)\n",
      "D:\\Anaconda\\envs\\scvi_test\\Lib\\site-packages\\scvi\\module\\_vae.py:458: UserWarning: The value argument must be within the support of the distribution\n",
      "  reconst_loss = -generative_outputs[\"px\"].log_prob(x).sum(-1)\n",
      "D:\\Anaconda\\envs\\scvi_test\\Lib\\site-packages\\scvi\\module\\_vae.py:458: UserWarning: The value argument must be within the support of the distribution\n",
      "  reconst_loss = -generative_outputs[\"px\"].log_prob(x).sum(-1)\n",
      "D:\\Anaconda\\envs\\scvi_test\\Lib\\site-packages\\scvi\\module\\_vae.py:458: UserWarning: The value argument must be within the support of the distribution\n",
      "  reconst_loss = -generative_outputs[\"px\"].log_prob(x).sum(-1)\n"
     ]
    },
    {
     "name": "stdout",
     "output_type": "stream",
     "text": [
      "Epoch 23/400:   6%|▋            | 23/400 [00:00<00:10, 37.29it/s, v_num=1, train_loss_step=15.9, train_loss_epoch=15.7]"
     ]
    },
    {
     "name": "stderr",
     "output_type": "stream",
     "text": [
      "D:\\Anaconda\\envs\\scvi_test\\Lib\\site-packages\\scvi\\module\\_vae.py:458: UserWarning: The value argument must be within the support of the distribution\n",
      "  reconst_loss = -generative_outputs[\"px\"].log_prob(x).sum(-1)\n",
      "D:\\Anaconda\\envs\\scvi_test\\Lib\\site-packages\\scvi\\module\\_vae.py:458: UserWarning: The value argument must be within the support of the distribution\n",
      "  reconst_loss = -generative_outputs[\"px\"].log_prob(x).sum(-1)\n",
      "D:\\Anaconda\\envs\\scvi_test\\Lib\\site-packages\\scvi\\module\\_vae.py:458: UserWarning: The value argument must be within the support of the distribution\n",
      "  reconst_loss = -generative_outputs[\"px\"].log_prob(x).sum(-1)\n"
     ]
    },
    {
     "name": "stdout",
     "output_type": "stream",
     "text": [
      "Epoch 28/400:   7%|█              | 28/400 [00:00<00:09, 37.84it/s, v_num=1, train_loss_step=13.9, train_loss_epoch=15]"
     ]
    },
    {
     "name": "stderr",
     "output_type": "stream",
     "text": [
      "D:\\Anaconda\\envs\\scvi_test\\Lib\\site-packages\\scvi\\module\\_vae.py:458: UserWarning: The value argument must be within the support of the distribution\n",
      "  reconst_loss = -generative_outputs[\"px\"].log_prob(x).sum(-1)\n",
      "D:\\Anaconda\\envs\\scvi_test\\Lib\\site-packages\\scvi\\module\\_vae.py:458: UserWarning: The value argument must be within the support of the distribution\n",
      "  reconst_loss = -generative_outputs[\"px\"].log_prob(x).sum(-1)\n",
      "D:\\Anaconda\\envs\\scvi_test\\Lib\\site-packages\\scvi\\module\\_vae.py:458: UserWarning: The value argument must be within the support of the distribution\n",
      "  reconst_loss = -generative_outputs[\"px\"].log_prob(x).sum(-1)\n",
      "D:\\Anaconda\\envs\\scvi_test\\Lib\\site-packages\\scvi\\module\\_vae.py:458: UserWarning: The value argument must be within the support of the distribution\n",
      "  reconst_loss = -generative_outputs[\"px\"].log_prob(x).sum(-1)\n",
      "D:\\Anaconda\\envs\\scvi_test\\Lib\\site-packages\\scvi\\module\\_vae.py:458: UserWarning: The value argument must be within the support of the distribution\n",
      "  reconst_loss = -generative_outputs[\"px\"].log_prob(x).sum(-1)\n",
      "D:\\Anaconda\\envs\\scvi_test\\Lib\\site-packages\\scvi\\module\\_vae.py:458: UserWarning: The value argument must be within the support of the distribution\n",
      "  reconst_loss = -generative_outputs[\"px\"].log_prob(x).sum(-1)\n",
      "D:\\Anaconda\\envs\\scvi_test\\Lib\\site-packages\\scvi\\module\\_vae.py:458: UserWarning: The value argument must be within the support of the distribution\n",
      "  reconst_loss = -generative_outputs[\"px\"].log_prob(x).sum(-1)\n"
     ]
    },
    {
     "name": "stdout",
     "output_type": "stream",
     "text": [
      "Epoch 31/400:   8%|█            | 31/400 [00:00<00:09, 38.07it/s, v_num=1, train_loss_step=12.9, train_loss_epoch=14.6]"
     ]
    },
    {
     "name": "stderr",
     "output_type": "stream",
     "text": [
      "D:\\Anaconda\\envs\\scvi_test\\Lib\\site-packages\\scvi\\module\\_vae.py:458: UserWarning: The value argument must be within the support of the distribution\n",
      "  reconst_loss = -generative_outputs[\"px\"].log_prob(x).sum(-1)\n",
      "D:\\Anaconda\\envs\\scvi_test\\Lib\\site-packages\\scvi\\module\\_vae.py:458: UserWarning: The value argument must be within the support of the distribution\n",
      "  reconst_loss = -generative_outputs[\"px\"].log_prob(x).sum(-1)\n",
      "D:\\Anaconda\\envs\\scvi_test\\Lib\\site-packages\\scvi\\module\\_vae.py:458: UserWarning: The value argument must be within the support of the distribution\n",
      "  reconst_loss = -generative_outputs[\"px\"].log_prob(x).sum(-1)\n"
     ]
    },
    {
     "name": "stdout",
     "output_type": "stream",
     "text": [
      "Epoch 36/400:   9%|█▎             | 36/400 [00:00<00:09, 38.54it/s, v_num=1, train_loss_step=12, train_loss_epoch=14.2]"
     ]
    },
    {
     "name": "stderr",
     "output_type": "stream",
     "text": [
      "D:\\Anaconda\\envs\\scvi_test\\Lib\\site-packages\\scvi\\module\\_vae.py:458: UserWarning: The value argument must be within the support of the distribution\n",
      "  reconst_loss = -generative_outputs[\"px\"].log_prob(x).sum(-1)\n",
      "D:\\Anaconda\\envs\\scvi_test\\Lib\\site-packages\\scvi\\module\\_vae.py:458: UserWarning: The value argument must be within the support of the distribution\n",
      "  reconst_loss = -generative_outputs[\"px\"].log_prob(x).sum(-1)\n",
      "D:\\Anaconda\\envs\\scvi_test\\Lib\\site-packages\\scvi\\module\\_vae.py:458: UserWarning: The value argument must be within the support of the distribution\n",
      "  reconst_loss = -generative_outputs[\"px\"].log_prob(x).sum(-1)\n",
      "D:\\Anaconda\\envs\\scvi_test\\Lib\\site-packages\\scvi\\module\\_vae.py:458: UserWarning: The value argument must be within the support of the distribution\n",
      "  reconst_loss = -generative_outputs[\"px\"].log_prob(x).sum(-1)\n",
      "D:\\Anaconda\\envs\\scvi_test\\Lib\\site-packages\\scvi\\module\\_vae.py:458: UserWarning: The value argument must be within the support of the distribution\n",
      "  reconst_loss = -generative_outputs[\"px\"].log_prob(x).sum(-1)\n",
      "D:\\Anaconda\\envs\\scvi_test\\Lib\\site-packages\\scvi\\module\\_vae.py:458: UserWarning: The value argument must be within the support of the distribution\n",
      "  reconst_loss = -generative_outputs[\"px\"].log_prob(x).sum(-1)\n"
     ]
    },
    {
     "name": "stdout",
     "output_type": "stream",
     "text": [
      "Epoch 39/400:  10%|█▍             | 39/400 [00:01<00:09, 38.84it/s, v_num=1, train_loss_step=13.4, train_loss_epoch=14]"
     ]
    },
    {
     "name": "stderr",
     "output_type": "stream",
     "text": [
      "D:\\Anaconda\\envs\\scvi_test\\Lib\\site-packages\\scvi\\module\\_vae.py:458: UserWarning: The value argument must be within the support of the distribution\n",
      "  reconst_loss = -generative_outputs[\"px\"].log_prob(x).sum(-1)\n",
      "D:\\Anaconda\\envs\\scvi_test\\Lib\\site-packages\\scvi\\module\\_vae.py:458: UserWarning: The value argument must be within the support of the distribution\n",
      "  reconst_loss = -generative_outputs[\"px\"].log_prob(x).sum(-1)\n",
      "D:\\Anaconda\\envs\\scvi_test\\Lib\\site-packages\\scvi\\module\\_vae.py:458: UserWarning: The value argument must be within the support of the distribution\n",
      "  reconst_loss = -generative_outputs[\"px\"].log_prob(x).sum(-1)\n",
      "D:\\Anaconda\\envs\\scvi_test\\Lib\\site-packages\\scvi\\module\\_vae.py:458: UserWarning: The value argument must be within the support of the distribution\n",
      "  reconst_loss = -generative_outputs[\"px\"].log_prob(x).sum(-1)\n"
     ]
    },
    {
     "name": "stdout",
     "output_type": "stream",
     "text": [
      "Epoch 43/400:  11%|█▍           | 43/400 [00:01<00:09, 38.16it/s, v_num=1, train_loss_step=14.7, train_loss_epoch=13.7]"
     ]
    },
    {
     "name": "stderr",
     "output_type": "stream",
     "text": [
      "D:\\Anaconda\\envs\\scvi_test\\Lib\\site-packages\\scvi\\module\\_vae.py:458: UserWarning: The value argument must be within the support of the distribution\n",
      "  reconst_loss = -generative_outputs[\"px\"].log_prob(x).sum(-1)\n",
      "D:\\Anaconda\\envs\\scvi_test\\Lib\\site-packages\\scvi\\module\\_vae.py:458: UserWarning: The value argument must be within the support of the distribution\n",
      "  reconst_loss = -generative_outputs[\"px\"].log_prob(x).sum(-1)\n",
      "D:\\Anaconda\\envs\\scvi_test\\Lib\\site-packages\\scvi\\module\\_vae.py:458: UserWarning: The value argument must be within the support of the distribution\n",
      "  reconst_loss = -generative_outputs[\"px\"].log_prob(x).sum(-1)\n",
      "D:\\Anaconda\\envs\\scvi_test\\Lib\\site-packages\\scvi\\module\\_vae.py:458: UserWarning: The value argument must be within the support of the distribution\n",
      "  reconst_loss = -generative_outputs[\"px\"].log_prob(x).sum(-1)\n"
     ]
    },
    {
     "name": "stdout",
     "output_type": "stream",
     "text": [
      "Epoch 46/400:  12%|█▍           | 46/400 [00:01<00:09, 37.90it/s, v_num=1, train_loss_step=15.2, train_loss_epoch=13.6]"
     ]
    },
    {
     "name": "stderr",
     "output_type": "stream",
     "text": [
      "D:\\Anaconda\\envs\\scvi_test\\Lib\\site-packages\\scvi\\module\\_vae.py:458: UserWarning: The value argument must be within the support of the distribution\n",
      "  reconst_loss = -generative_outputs[\"px\"].log_prob(x).sum(-1)\n",
      "D:\\Anaconda\\envs\\scvi_test\\Lib\\site-packages\\scvi\\module\\_vae.py:458: UserWarning: The value argument must be within the support of the distribution\n",
      "  reconst_loss = -generative_outputs[\"px\"].log_prob(x).sum(-1)\n",
      "D:\\Anaconda\\envs\\scvi_test\\Lib\\site-packages\\scvi\\module\\_vae.py:458: UserWarning: The value argument must be within the support of the distribution\n",
      "  reconst_loss = -generative_outputs[\"px\"].log_prob(x).sum(-1)\n",
      "D:\\Anaconda\\envs\\scvi_test\\Lib\\site-packages\\scvi\\module\\_vae.py:458: UserWarning: The value argument must be within the support of the distribution\n",
      "  reconst_loss = -generative_outputs[\"px\"].log_prob(x).sum(-1)\n"
     ]
    },
    {
     "name": "stdout",
     "output_type": "stream",
     "text": [
      "Epoch 50/400:  12%|█▋           | 50/400 [00:01<00:09, 35.79it/s, v_num=1, train_loss_step=14.6, train_loss_epoch=13.5]"
     ]
    },
    {
     "name": "stderr",
     "output_type": "stream",
     "text": [
      "D:\\Anaconda\\envs\\scvi_test\\Lib\\site-packages\\scvi\\module\\_vae.py:458: UserWarning: The value argument must be within the support of the distribution\n",
      "  reconst_loss = -generative_outputs[\"px\"].log_prob(x).sum(-1)\n",
      "D:\\Anaconda\\envs\\scvi_test\\Lib\\site-packages\\scvi\\module\\_vae.py:458: UserWarning: The value argument must be within the support of the distribution\n",
      "  reconst_loss = -generative_outputs[\"px\"].log_prob(x).sum(-1)\n",
      "D:\\Anaconda\\envs\\scvi_test\\Lib\\site-packages\\scvi\\module\\_vae.py:458: UserWarning: The value argument must be within the support of the distribution\n",
      "  reconst_loss = -generative_outputs[\"px\"].log_prob(x).sum(-1)\n",
      "D:\\Anaconda\\envs\\scvi_test\\Lib\\site-packages\\scvi\\module\\_vae.py:458: UserWarning: The value argument must be within the support of the distribution\n",
      "  reconst_loss = -generative_outputs[\"px\"].log_prob(x).sum(-1)\n",
      "D:\\Anaconda\\envs\\scvi_test\\Lib\\site-packages\\scvi\\module\\_vae.py:458: UserWarning: The value argument must be within the support of the distribution\n",
      "  reconst_loss = -generative_outputs[\"px\"].log_prob(x).sum(-1)\n"
     ]
    },
    {
     "name": "stdout",
     "output_type": "stream",
     "text": [
      "Epoch 52/400:  13%|█▋           | 52/400 [00:01<00:09, 35.79it/s, v_num=1, train_loss_step=13.3, train_loss_epoch=13.2]"
     ]
    },
    {
     "name": "stderr",
     "output_type": "stream",
     "text": [
      "D:\\Anaconda\\envs\\scvi_test\\Lib\\site-packages\\scvi\\module\\_vae.py:458: UserWarning: The value argument must be within the support of the distribution\n",
      "  reconst_loss = -generative_outputs[\"px\"].log_prob(x).sum(-1)\n",
      "D:\\Anaconda\\envs\\scvi_test\\Lib\\site-packages\\scvi\\module\\_vae.py:458: UserWarning: The value argument must be within the support of the distribution\n",
      "  reconst_loss = -generative_outputs[\"px\"].log_prob(x).sum(-1)\n"
     ]
    },
    {
     "name": "stdout",
     "output_type": "stream",
     "text": [
      "Epoch 57/400:  14%|█▊           | 57/400 [00:01<00:09, 36.45it/s, v_num=1, train_loss_step=15.3, train_loss_epoch=13.2]"
     ]
    },
    {
     "name": "stderr",
     "output_type": "stream",
     "text": [
      "D:\\Anaconda\\envs\\scvi_test\\Lib\\site-packages\\scvi\\module\\_vae.py:458: UserWarning: The value argument must be within the support of the distribution\n",
      "  reconst_loss = -generative_outputs[\"px\"].log_prob(x).sum(-1)\n",
      "D:\\Anaconda\\envs\\scvi_test\\Lib\\site-packages\\scvi\\module\\_vae.py:458: UserWarning: The value argument must be within the support of the distribution\n",
      "  reconst_loss = -generative_outputs[\"px\"].log_prob(x).sum(-1)\n",
      "D:\\Anaconda\\envs\\scvi_test\\Lib\\site-packages\\scvi\\module\\_vae.py:458: UserWarning: The value argument must be within the support of the distribution\n",
      "  reconst_loss = -generative_outputs[\"px\"].log_prob(x).sum(-1)\n",
      "D:\\Anaconda\\envs\\scvi_test\\Lib\\site-packages\\scvi\\module\\_vae.py:458: UserWarning: The value argument must be within the support of the distribution\n",
      "  reconst_loss = -generative_outputs[\"px\"].log_prob(x).sum(-1)\n",
      "D:\\Anaconda\\envs\\scvi_test\\Lib\\site-packages\\scvi\\module\\_vae.py:458: UserWarning: The value argument must be within the support of the distribution\n",
      "  reconst_loss = -generative_outputs[\"px\"].log_prob(x).sum(-1)\n",
      "D:\\Anaconda\\envs\\scvi_test\\Lib\\site-packages\\scvi\\module\\_vae.py:458: UserWarning: The value argument must be within the support of the distribution\n",
      "  reconst_loss = -generative_outputs[\"px\"].log_prob(x).sum(-1)\n",
      "D:\\Anaconda\\envs\\scvi_test\\Lib\\site-packages\\scvi\\module\\_vae.py:458: UserWarning: The value argument must be within the support of the distribution\n",
      "  reconst_loss = -generative_outputs[\"px\"].log_prob(x).sum(-1)\n"
     ]
    },
    {
     "name": "stdout",
     "output_type": "stream",
     "text": [
      "Epoch 60/400:  15%|█▉           | 60/400 [00:01<00:09, 37.75it/s, v_num=1, train_loss_step=11.4, train_loss_epoch=13.1]"
     ]
    },
    {
     "name": "stderr",
     "output_type": "stream",
     "text": [
      "D:\\Anaconda\\envs\\scvi_test\\Lib\\site-packages\\scvi\\module\\_vae.py:458: UserWarning: The value argument must be within the support of the distribution\n",
      "  reconst_loss = -generative_outputs[\"px\"].log_prob(x).sum(-1)\n",
      "D:\\Anaconda\\envs\\scvi_test\\Lib\\site-packages\\scvi\\module\\_vae.py:458: UserWarning: The value argument must be within the support of the distribution\n",
      "  reconst_loss = -generative_outputs[\"px\"].log_prob(x).sum(-1)\n",
      "D:\\Anaconda\\envs\\scvi_test\\Lib\\site-packages\\scvi\\module\\_vae.py:458: UserWarning: The value argument must be within the support of the distribution\n",
      "  reconst_loss = -generative_outputs[\"px\"].log_prob(x).sum(-1)\n"
     ]
    },
    {
     "name": "stdout",
     "output_type": "stream",
     "text": [
      "Epoch 65/400:  16%|██▍            | 65/400 [00:01<00:08, 38.33it/s, v_num=1, train_loss_step=15.1, train_loss_epoch=13]"
     ]
    },
    {
     "name": "stderr",
     "output_type": "stream",
     "text": [
      "D:\\Anaconda\\envs\\scvi_test\\Lib\\site-packages\\scvi\\module\\_vae.py:458: UserWarning: The value argument must be within the support of the distribution\n",
      "  reconst_loss = -generative_outputs[\"px\"].log_prob(x).sum(-1)\n",
      "D:\\Anaconda\\envs\\scvi_test\\Lib\\site-packages\\scvi\\module\\_vae.py:458: UserWarning: The value argument must be within the support of the distribution\n",
      "  reconst_loss = -generative_outputs[\"px\"].log_prob(x).sum(-1)\n",
      "D:\\Anaconda\\envs\\scvi_test\\Lib\\site-packages\\scvi\\module\\_vae.py:458: UserWarning: The value argument must be within the support of the distribution\n",
      "  reconst_loss = -generative_outputs[\"px\"].log_prob(x).sum(-1)\n",
      "D:\\Anaconda\\envs\\scvi_test\\Lib\\site-packages\\scvi\\module\\_vae.py:458: UserWarning: The value argument must be within the support of the distribution\n",
      "  reconst_loss = -generative_outputs[\"px\"].log_prob(x).sum(-1)\n",
      "D:\\Anaconda\\envs\\scvi_test\\Lib\\site-packages\\scvi\\module\\_vae.py:458: UserWarning: The value argument must be within the support of the distribution\n",
      "  reconst_loss = -generative_outputs[\"px\"].log_prob(x).sum(-1)\n",
      "D:\\Anaconda\\envs\\scvi_test\\Lib\\site-packages\\scvi\\module\\_vae.py:458: UserWarning: The value argument must be within the support of the distribution\n",
      "  reconst_loss = -generative_outputs[\"px\"].log_prob(x).sum(-1)\n"
     ]
    },
    {
     "name": "stdout",
     "output_type": "stream",
     "text": [
      "Epoch 68/400:  17%|██▌            | 68/400 [00:01<00:08, 38.53it/s, v_num=1, train_loss_step=13, train_loss_epoch=12.9]"
     ]
    },
    {
     "name": "stderr",
     "output_type": "stream",
     "text": [
      "D:\\Anaconda\\envs\\scvi_test\\Lib\\site-packages\\scvi\\module\\_vae.py:458: UserWarning: The value argument must be within the support of the distribution\n",
      "  reconst_loss = -generative_outputs[\"px\"].log_prob(x).sum(-1)\n",
      "D:\\Anaconda\\envs\\scvi_test\\Lib\\site-packages\\scvi\\module\\_vae.py:458: UserWarning: The value argument must be within the support of the distribution\n",
      "  reconst_loss = -generative_outputs[\"px\"].log_prob(x).sum(-1)\n",
      "D:\\Anaconda\\envs\\scvi_test\\Lib\\site-packages\\scvi\\module\\_vae.py:458: UserWarning: The value argument must be within the support of the distribution\n",
      "  reconst_loss = -generative_outputs[\"px\"].log_prob(x).sum(-1)\n",
      "D:\\Anaconda\\envs\\scvi_test\\Lib\\site-packages\\scvi\\module\\_vae.py:458: UserWarning: The value argument must be within the support of the distribution\n",
      "  reconst_loss = -generative_outputs[\"px\"].log_prob(x).sum(-1)\n"
     ]
    },
    {
     "name": "stdout",
     "output_type": "stream",
     "text": [
      "Epoch 73/400:  18%|██▎          | 73/400 [00:01<00:08, 38.70it/s, v_num=1, train_loss_step=12.4, train_loss_epoch=12.8]"
     ]
    },
    {
     "name": "stderr",
     "output_type": "stream",
     "text": [
      "D:\\Anaconda\\envs\\scvi_test\\Lib\\site-packages\\scvi\\module\\_vae.py:458: UserWarning: The value argument must be within the support of the distribution\n",
      "  reconst_loss = -generative_outputs[\"px\"].log_prob(x).sum(-1)\n",
      "D:\\Anaconda\\envs\\scvi_test\\Lib\\site-packages\\scvi\\module\\_vae.py:458: UserWarning: The value argument must be within the support of the distribution\n",
      "  reconst_loss = -generative_outputs[\"px\"].log_prob(x).sum(-1)\n",
      "D:\\Anaconda\\envs\\scvi_test\\Lib\\site-packages\\scvi\\module\\_vae.py:458: UserWarning: The value argument must be within the support of the distribution\n",
      "  reconst_loss = -generative_outputs[\"px\"].log_prob(x).sum(-1)\n",
      "D:\\Anaconda\\envs\\scvi_test\\Lib\\site-packages\\scvi\\module\\_vae.py:458: UserWarning: The value argument must be within the support of the distribution\n",
      "  reconst_loss = -generative_outputs[\"px\"].log_prob(x).sum(-1)\n",
      "D:\\Anaconda\\envs\\scvi_test\\Lib\\site-packages\\scvi\\module\\_vae.py:458: UserWarning: The value argument must be within the support of the distribution\n",
      "  reconst_loss = -generative_outputs[\"px\"].log_prob(x).sum(-1)\n"
     ]
    },
    {
     "name": "stdout",
     "output_type": "stream",
     "text": [
      "Epoch 76/400:  19%|██▍          | 75/400 [00:02<00:08, 37.72it/s, v_num=1, train_loss_step=14.1, train_loss_epoch=12.8]"
     ]
    },
    {
     "name": "stderr",
     "output_type": "stream",
     "text": [
      "D:\\Anaconda\\envs\\scvi_test\\Lib\\site-packages\\scvi\\module\\_vae.py:458: UserWarning: The value argument must be within the support of the distribution\n",
      "  reconst_loss = -generative_outputs[\"px\"].log_prob(x).sum(-1)\n",
      "D:\\Anaconda\\envs\\scvi_test\\Lib\\site-packages\\scvi\\module\\_vae.py:458: UserWarning: The value argument must be within the support of the distribution\n",
      "  reconst_loss = -generative_outputs[\"px\"].log_prob(x).sum(-1)\n",
      "D:\\Anaconda\\envs\\scvi_test\\Lib\\site-packages\\scvi\\module\\_vae.py:458: UserWarning: The value argument must be within the support of the distribution\n",
      "  reconst_loss = -generative_outputs[\"px\"].log_prob(x).sum(-1)\n"
     ]
    },
    {
     "name": "stdout",
     "output_type": "stream",
     "text": [
      "Epoch 80/400:  20%|██▌          | 80/400 [00:02<00:08, 36.90it/s, v_num=1, train_loss_step=12.1, train_loss_epoch=12.8]"
     ]
    },
    {
     "name": "stderr",
     "output_type": "stream",
     "text": [
      "D:\\Anaconda\\envs\\scvi_test\\Lib\\site-packages\\scvi\\module\\_vae.py:458: UserWarning: The value argument must be within the support of the distribution\n",
      "  reconst_loss = -generative_outputs[\"px\"].log_prob(x).sum(-1)\n",
      "D:\\Anaconda\\envs\\scvi_test\\Lib\\site-packages\\scvi\\module\\_vae.py:458: UserWarning: The value argument must be within the support of the distribution\n",
      "  reconst_loss = -generative_outputs[\"px\"].log_prob(x).sum(-1)\n",
      "D:\\Anaconda\\envs\\scvi_test\\Lib\\site-packages\\scvi\\module\\_vae.py:458: UserWarning: The value argument must be within the support of the distribution\n",
      "  reconst_loss = -generative_outputs[\"px\"].log_prob(x).sum(-1)\n",
      "D:\\Anaconda\\envs\\scvi_test\\Lib\\site-packages\\scvi\\module\\_vae.py:458: UserWarning: The value argument must be within the support of the distribution\n",
      "  reconst_loss = -generative_outputs[\"px\"].log_prob(x).sum(-1)\n",
      "D:\\Anaconda\\envs\\scvi_test\\Lib\\site-packages\\scvi\\module\\_vae.py:458: UserWarning: The value argument must be within the support of the distribution\n",
      "  reconst_loss = -generative_outputs[\"px\"].log_prob(x).sum(-1)\n",
      "D:\\Anaconda\\envs\\scvi_test\\Lib\\site-packages\\scvi\\module\\_vae.py:458: UserWarning: The value argument must be within the support of the distribution\n",
      "  reconst_loss = -generative_outputs[\"px\"].log_prob(x).sum(-1)\n"
     ]
    },
    {
     "name": "stdout",
     "output_type": "stream",
     "text": [
      "Epoch 82/400:  20%|██▋          | 82/400 [00:02<00:08, 36.90it/s, v_num=1, train_loss_step=14.9, train_loss_epoch=12.8]"
     ]
    },
    {
     "name": "stderr",
     "output_type": "stream",
     "text": [
      "D:\\Anaconda\\envs\\scvi_test\\Lib\\site-packages\\scvi\\module\\_vae.py:458: UserWarning: The value argument must be within the support of the distribution\n",
      "  reconst_loss = -generative_outputs[\"px\"].log_prob(x).sum(-1)\n",
      "D:\\Anaconda\\envs\\scvi_test\\Lib\\site-packages\\scvi\\module\\_vae.py:458: UserWarning: The value argument must be within the support of the distribution\n",
      "  reconst_loss = -generative_outputs[\"px\"].log_prob(x).sum(-1)\n"
     ]
    },
    {
     "name": "stdout",
     "output_type": "stream",
     "text": [
      "Epoch 87/400:  22%|██▊          | 87/400 [00:02<00:08, 36.75it/s, v_num=1, train_loss_step=14.6, train_loss_epoch=12.8]"
     ]
    },
    {
     "name": "stderr",
     "output_type": "stream",
     "text": [
      "D:\\Anaconda\\envs\\scvi_test\\Lib\\site-packages\\scvi\\module\\_vae.py:458: UserWarning: The value argument must be within the support of the distribution\n",
      "  reconst_loss = -generative_outputs[\"px\"].log_prob(x).sum(-1)\n",
      "D:\\Anaconda\\envs\\scvi_test\\Lib\\site-packages\\scvi\\module\\_vae.py:458: UserWarning: The value argument must be within the support of the distribution\n",
      "  reconst_loss = -generative_outputs[\"px\"].log_prob(x).sum(-1)\n",
      "D:\\Anaconda\\envs\\scvi_test\\Lib\\site-packages\\scvi\\module\\_vae.py:458: UserWarning: The value argument must be within the support of the distribution\n",
      "  reconst_loss = -generative_outputs[\"px\"].log_prob(x).sum(-1)\n",
      "D:\\Anaconda\\envs\\scvi_test\\Lib\\site-packages\\scvi\\module\\_vae.py:458: UserWarning: The value argument must be within the support of the distribution\n",
      "  reconst_loss = -generative_outputs[\"px\"].log_prob(x).sum(-1)\n",
      "D:\\Anaconda\\envs\\scvi_test\\Lib\\site-packages\\scvi\\module\\_vae.py:458: UserWarning: The value argument must be within the support of the distribution\n",
      "  reconst_loss = -generative_outputs[\"px\"].log_prob(x).sum(-1)\n",
      "D:\\Anaconda\\envs\\scvi_test\\Lib\\site-packages\\scvi\\module\\_vae.py:458: UserWarning: The value argument must be within the support of the distribution\n",
      "  reconst_loss = -generative_outputs[\"px\"].log_prob(x).sum(-1)\n",
      "D:\\Anaconda\\envs\\scvi_test\\Lib\\site-packages\\scvi\\module\\_vae.py:458: UserWarning: The value argument must be within the support of the distribution\n",
      "  reconst_loss = -generative_outputs[\"px\"].log_prob(x).sum(-1)\n"
     ]
    },
    {
     "name": "stdout",
     "output_type": "stream",
     "text": [
      "Epoch 90/400:  22%|██▉          | 90/400 [00:02<00:08, 36.75it/s, v_num=1, train_loss_step=15.9, train_loss_epoch=12.7]"
     ]
    },
    {
     "name": "stderr",
     "output_type": "stream",
     "text": [
      "D:\\Anaconda\\envs\\scvi_test\\Lib\\site-packages\\scvi\\module\\_vae.py:458: UserWarning: The value argument must be within the support of the distribution\n",
      "  reconst_loss = -generative_outputs[\"px\"].log_prob(x).sum(-1)\n",
      "D:\\Anaconda\\envs\\scvi_test\\Lib\\site-packages\\scvi\\module\\_vae.py:458: UserWarning: The value argument must be within the support of the distribution\n",
      "  reconst_loss = -generative_outputs[\"px\"].log_prob(x).sum(-1)\n",
      "D:\\Anaconda\\envs\\scvi_test\\Lib\\site-packages\\scvi\\module\\_vae.py:458: UserWarning: The value argument must be within the support of the distribution\n",
      "  reconst_loss = -generative_outputs[\"px\"].log_prob(x).sum(-1)\n"
     ]
    },
    {
     "name": "stdout",
     "output_type": "stream",
     "text": [
      "Epoch 94/400:  24%|███          | 94/400 [00:02<00:08, 36.74it/s, v_num=1, train_loss_step=13.5, train_loss_epoch=12.7]"
     ]
    },
    {
     "name": "stderr",
     "output_type": "stream",
     "text": [
      "D:\\Anaconda\\envs\\scvi_test\\Lib\\site-packages\\scvi\\module\\_vae.py:458: UserWarning: The value argument must be within the support of the distribution\n",
      "  reconst_loss = -generative_outputs[\"px\"].log_prob(x).sum(-1)\n",
      "D:\\Anaconda\\envs\\scvi_test\\Lib\\site-packages\\scvi\\module\\_vae.py:458: UserWarning: The value argument must be within the support of the distribution\n",
      "  reconst_loss = -generative_outputs[\"px\"].log_prob(x).sum(-1)\n",
      "D:\\Anaconda\\envs\\scvi_test\\Lib\\site-packages\\scvi\\module\\_vae.py:458: UserWarning: The value argument must be within the support of the distribution\n",
      "  reconst_loss = -generative_outputs[\"px\"].log_prob(x).sum(-1)\n",
      "D:\\Anaconda\\envs\\scvi_test\\Lib\\site-packages\\scvi\\module\\_vae.py:458: UserWarning: The value argument must be within the support of the distribution\n",
      "  reconst_loss = -generative_outputs[\"px\"].log_prob(x).sum(-1)\n",
      "D:\\Anaconda\\envs\\scvi_test\\Lib\\site-packages\\scvi\\module\\_vae.py:458: UserWarning: The value argument must be within the support of the distribution\n",
      "  reconst_loss = -generative_outputs[\"px\"].log_prob(x).sum(-1)\n"
     ]
    },
    {
     "name": "stdout",
     "output_type": "stream",
     "text": [
      "Epoch 97/400:  24%|███▏         | 97/400 [00:02<00:08, 37.19it/s, v_num=1, train_loss_step=14.2, train_loss_epoch=12.6]"
     ]
    },
    {
     "name": "stderr",
     "output_type": "stream",
     "text": [
      "D:\\Anaconda\\envs\\scvi_test\\Lib\\site-packages\\scvi\\module\\_vae.py:458: UserWarning: The value argument must be within the support of the distribution\n",
      "  reconst_loss = -generative_outputs[\"px\"].log_prob(x).sum(-1)\n",
      "D:\\Anaconda\\envs\\scvi_test\\Lib\\site-packages\\scvi\\module\\_vae.py:458: UserWarning: The value argument must be within the support of the distribution\n",
      "  reconst_loss = -generative_outputs[\"px\"].log_prob(x).sum(-1)\n",
      "D:\\Anaconda\\envs\\scvi_test\\Lib\\site-packages\\scvi\\module\\_vae.py:458: UserWarning: The value argument must be within the support of the distribution\n",
      "  reconst_loss = -generative_outputs[\"px\"].log_prob(x).sum(-1)\n",
      "D:\\Anaconda\\envs\\scvi_test\\Lib\\site-packages\\scvi\\module\\_vae.py:458: UserWarning: The value argument must be within the support of the distribution\n",
      "  reconst_loss = -generative_outputs[\"px\"].log_prob(x).sum(-1)\n"
     ]
    },
    {
     "name": "stdout",
     "output_type": "stream",
     "text": [
      "Epoch 102/400:  26%|██▊        | 102/400 [00:02<00:07, 37.94it/s, v_num=1, train_loss_step=11.8, train_loss_epoch=12.7]"
     ]
    },
    {
     "name": "stderr",
     "output_type": "stream",
     "text": [
      "D:\\Anaconda\\envs\\scvi_test\\Lib\\site-packages\\scvi\\module\\_vae.py:458: UserWarning: The value argument must be within the support of the distribution\n",
      "  reconst_loss = -generative_outputs[\"px\"].log_prob(x).sum(-1)\n",
      "D:\\Anaconda\\envs\\scvi_test\\Lib\\site-packages\\scvi\\module\\_vae.py:458: UserWarning: The value argument must be within the support of the distribution\n",
      "  reconst_loss = -generative_outputs[\"px\"].log_prob(x).sum(-1)\n",
      "D:\\Anaconda\\envs\\scvi_test\\Lib\\site-packages\\scvi\\module\\_vae.py:458: UserWarning: The value argument must be within the support of the distribution\n",
      "  reconst_loss = -generative_outputs[\"px\"].log_prob(x).sum(-1)\n",
      "D:\\Anaconda\\envs\\scvi_test\\Lib\\site-packages\\scvi\\module\\_vae.py:458: UserWarning: The value argument must be within the support of the distribution\n",
      "  reconst_loss = -generative_outputs[\"px\"].log_prob(x).sum(-1)\n",
      "D:\\Anaconda\\envs\\scvi_test\\Lib\\site-packages\\scvi\\module\\_vae.py:458: UserWarning: The value argument must be within the support of the distribution\n",
      "  reconst_loss = -generative_outputs[\"px\"].log_prob(x).sum(-1)\n"
     ]
    },
    {
     "name": "stdout",
     "output_type": "stream",
     "text": [
      "Epoch 104/400:  26%|██▊        | 104/400 [00:02<00:07, 37.57it/s, v_num=1, train_loss_step=10.9, train_loss_epoch=12.6]"
     ]
    },
    {
     "name": "stderr",
     "output_type": "stream",
     "text": [
      "D:\\Anaconda\\envs\\scvi_test\\Lib\\site-packages\\scvi\\module\\_vae.py:458: UserWarning: The value argument must be within the support of the distribution\n",
      "  reconst_loss = -generative_outputs[\"px\"].log_prob(x).sum(-1)\n",
      "D:\\Anaconda\\envs\\scvi_test\\Lib\\site-packages\\scvi\\module\\_vae.py:458: UserWarning: The value argument must be within the support of the distribution\n",
      "  reconst_loss = -generative_outputs[\"px\"].log_prob(x).sum(-1)\n",
      "D:\\Anaconda\\envs\\scvi_test\\Lib\\site-packages\\scvi\\module\\_vae.py:458: UserWarning: The value argument must be within the support of the distribution\n",
      "  reconst_loss = -generative_outputs[\"px\"].log_prob(x).sum(-1)\n"
     ]
    },
    {
     "name": "stdout",
     "output_type": "stream",
     "text": [
      "Epoch 109/400:  27%|██▉        | 109/400 [00:02<00:07, 36.92it/s, v_num=1, train_loss_step=9.37, train_loss_epoch=12.6]"
     ]
    },
    {
     "name": "stderr",
     "output_type": "stream",
     "text": [
      "D:\\Anaconda\\envs\\scvi_test\\Lib\\site-packages\\scvi\\module\\_vae.py:458: UserWarning: The value argument must be within the support of the distribution\n",
      "  reconst_loss = -generative_outputs[\"px\"].log_prob(x).sum(-1)\n",
      "D:\\Anaconda\\envs\\scvi_test\\Lib\\site-packages\\scvi\\module\\_vae.py:458: UserWarning: The value argument must be within the support of the distribution\n",
      "  reconst_loss = -generative_outputs[\"px\"].log_prob(x).sum(-1)\n",
      "D:\\Anaconda\\envs\\scvi_test\\Lib\\site-packages\\scvi\\module\\_vae.py:458: UserWarning: The value argument must be within the support of the distribution\n",
      "  reconst_loss = -generative_outputs[\"px\"].log_prob(x).sum(-1)\n",
      "D:\\Anaconda\\envs\\scvi_test\\Lib\\site-packages\\scvi\\module\\_vae.py:458: UserWarning: The value argument must be within the support of the distribution\n",
      "  reconst_loss = -generative_outputs[\"px\"].log_prob(x).sum(-1)\n",
      "D:\\Anaconda\\envs\\scvi_test\\Lib\\site-packages\\scvi\\module\\_vae.py:458: UserWarning: The value argument must be within the support of the distribution\n",
      "  reconst_loss = -generative_outputs[\"px\"].log_prob(x).sum(-1)\n",
      "D:\\Anaconda\\envs\\scvi_test\\Lib\\site-packages\\scvi\\module\\_vae.py:458: UserWarning: The value argument must be within the support of the distribution\n",
      "  reconst_loss = -generative_outputs[\"px\"].log_prob(x).sum(-1)\n"
     ]
    },
    {
     "name": "stdout",
     "output_type": "stream",
     "text": [
      "Epoch 111/400:  28%|███        | 111/400 [00:03<00:07, 37.40it/s, v_num=1, train_loss_step=12.2, train_loss_epoch=12.6]"
     ]
    },
    {
     "name": "stderr",
     "output_type": "stream",
     "text": [
      "D:\\Anaconda\\envs\\scvi_test\\Lib\\site-packages\\scvi\\module\\_vae.py:458: UserWarning: The value argument must be within the support of the distribution\n",
      "  reconst_loss = -generative_outputs[\"px\"].log_prob(x).sum(-1)\n",
      "D:\\Anaconda\\envs\\scvi_test\\Lib\\site-packages\\scvi\\module\\_vae.py:458: UserWarning: The value argument must be within the support of the distribution\n",
      "  reconst_loss = -generative_outputs[\"px\"].log_prob(x).sum(-1)\n"
     ]
    },
    {
     "name": "stdout",
     "output_type": "stream",
     "text": [
      "Epoch 117/400:  29%|███▏       | 117/400 [00:03<00:07, 37.61it/s, v_num=1, train_loss_step=15.2, train_loss_epoch=12.6]"
     ]
    },
    {
     "name": "stderr",
     "output_type": "stream",
     "text": [
      "D:\\Anaconda\\envs\\scvi_test\\Lib\\site-packages\\scvi\\module\\_vae.py:458: UserWarning: The value argument must be within the support of the distribution\n",
      "  reconst_loss = -generative_outputs[\"px\"].log_prob(x).sum(-1)\n",
      "D:\\Anaconda\\envs\\scvi_test\\Lib\\site-packages\\scvi\\module\\_vae.py:458: UserWarning: The value argument must be within the support of the distribution\n",
      "  reconst_loss = -generative_outputs[\"px\"].log_prob(x).sum(-1)\n",
      "D:\\Anaconda\\envs\\scvi_test\\Lib\\site-packages\\scvi\\module\\_vae.py:458: UserWarning: The value argument must be within the support of the distribution\n",
      "  reconst_loss = -generative_outputs[\"px\"].log_prob(x).sum(-1)\n",
      "D:\\Anaconda\\envs\\scvi_test\\Lib\\site-packages\\scvi\\module\\_vae.py:458: UserWarning: The value argument must be within the support of the distribution\n",
      "  reconst_loss = -generative_outputs[\"px\"].log_prob(x).sum(-1)\n",
      "D:\\Anaconda\\envs\\scvi_test\\Lib\\site-packages\\scvi\\module\\_vae.py:458: UserWarning: The value argument must be within the support of the distribution\n",
      "  reconst_loss = -generative_outputs[\"px\"].log_prob(x).sum(-1)\n",
      "D:\\Anaconda\\envs\\scvi_test\\Lib\\site-packages\\scvi\\module\\_vae.py:458: UserWarning: The value argument must be within the support of the distribution\n",
      "  reconst_loss = -generative_outputs[\"px\"].log_prob(x).sum(-1)\n",
      "D:\\Anaconda\\envs\\scvi_test\\Lib\\site-packages\\scvi\\module\\_vae.py:458: UserWarning: The value argument must be within the support of the distribution\n",
      "  reconst_loss = -generative_outputs[\"px\"].log_prob(x).sum(-1)\n",
      "D:\\Anaconda\\envs\\scvi_test\\Lib\\site-packages\\scvi\\module\\_vae.py:458: UserWarning: The value argument must be within the support of the distribution\n",
      "  reconst_loss = -generative_outputs[\"px\"].log_prob(x).sum(-1)\n"
     ]
    },
    {
     "name": "stdout",
     "output_type": "stream",
     "text": [
      "Epoch 119/400:  30%|███▎       | 119/400 [00:03<00:07, 38.09it/s, v_num=1, train_loss_step=11.5, train_loss_epoch=12.5]"
     ]
    },
    {
     "name": "stderr",
     "output_type": "stream",
     "text": [
      "D:\\Anaconda\\envs\\scvi_test\\Lib\\site-packages\\scvi\\module\\_vae.py:458: UserWarning: The value argument must be within the support of the distribution\n",
      "  reconst_loss = -generative_outputs[\"px\"].log_prob(x).sum(-1)\n",
      "D:\\Anaconda\\envs\\scvi_test\\Lib\\site-packages\\scvi\\module\\_vae.py:458: UserWarning: The value argument must be within the support of the distribution\n",
      "  reconst_loss = -generative_outputs[\"px\"].log_prob(x).sum(-1)\n"
     ]
    },
    {
     "name": "stdout",
     "output_type": "stream",
     "text": [
      "Epoch 125/400:  31%|███▍       | 124/400 [00:03<00:07, 38.11it/s, v_num=1, train_loss_step=15.4, train_loss_epoch=12.6]"
     ]
    },
    {
     "name": "stderr",
     "output_type": "stream",
     "text": [
      "D:\\Anaconda\\envs\\scvi_test\\Lib\\site-packages\\scvi\\module\\_vae.py:458: UserWarning: The value argument must be within the support of the distribution\n",
      "  reconst_loss = -generative_outputs[\"px\"].log_prob(x).sum(-1)\n",
      "D:\\Anaconda\\envs\\scvi_test\\Lib\\site-packages\\scvi\\module\\_vae.py:458: UserWarning: The value argument must be within the support of the distribution\n",
      "  reconst_loss = -generative_outputs[\"px\"].log_prob(x).sum(-1)\n",
      "D:\\Anaconda\\envs\\scvi_test\\Lib\\site-packages\\scvi\\module\\_vae.py:458: UserWarning: The value argument must be within the support of the distribution\n",
      "  reconst_loss = -generative_outputs[\"px\"].log_prob(x).sum(-1)\n",
      "D:\\Anaconda\\envs\\scvi_test\\Lib\\site-packages\\scvi\\module\\_vae.py:458: UserWarning: The value argument must be within the support of the distribution\n",
      "  reconst_loss = -generative_outputs[\"px\"].log_prob(x).sum(-1)\n",
      "D:\\Anaconda\\envs\\scvi_test\\Lib\\site-packages\\scvi\\module\\_vae.py:458: UserWarning: The value argument must be within the support of the distribution\n",
      "  reconst_loss = -generative_outputs[\"px\"].log_prob(x).sum(-1)\n",
      "D:\\Anaconda\\envs\\scvi_test\\Lib\\site-packages\\scvi\\module\\_vae.py:458: UserWarning: The value argument must be within the support of the distribution\n",
      "  reconst_loss = -generative_outputs[\"px\"].log_prob(x).sum(-1)\n"
     ]
    },
    {
     "name": "stdout",
     "output_type": "stream",
     "text": [
      "Epoch 126/400:  32%|████         | 126/400 [00:03<00:07, 38.11it/s, v_num=1, train_loss_step=17, train_loss_epoch=12.6]"
     ]
    },
    {
     "name": "stderr",
     "output_type": "stream",
     "text": [
      "D:\\Anaconda\\envs\\scvi_test\\Lib\\site-packages\\scvi\\module\\_vae.py:458: UserWarning: The value argument must be within the support of the distribution\n",
      "  reconst_loss = -generative_outputs[\"px\"].log_prob(x).sum(-1)\n",
      "D:\\Anaconda\\envs\\scvi_test\\Lib\\site-packages\\scvi\\module\\_vae.py:458: UserWarning: The value argument must be within the support of the distribution\n",
      "  reconst_loss = -generative_outputs[\"px\"].log_prob(x).sum(-1)\n"
     ]
    },
    {
     "name": "stdout",
     "output_type": "stream",
     "text": [
      "Epoch 132/400:  33%|███▋       | 132/400 [00:03<00:06, 38.59it/s, v_num=1, train_loss_step=11.9, train_loss_epoch=12.6]"
     ]
    },
    {
     "name": "stderr",
     "output_type": "stream",
     "text": [
      "D:\\Anaconda\\envs\\scvi_test\\Lib\\site-packages\\scvi\\module\\_vae.py:458: UserWarning: The value argument must be within the support of the distribution\n",
      "  reconst_loss = -generative_outputs[\"px\"].log_prob(x).sum(-1)\n",
      "D:\\Anaconda\\envs\\scvi_test\\Lib\\site-packages\\scvi\\module\\_vae.py:458: UserWarning: The value argument must be within the support of the distribution\n",
      "  reconst_loss = -generative_outputs[\"px\"].log_prob(x).sum(-1)\n",
      "D:\\Anaconda\\envs\\scvi_test\\Lib\\site-packages\\scvi\\module\\_vae.py:458: UserWarning: The value argument must be within the support of the distribution\n",
      "  reconst_loss = -generative_outputs[\"px\"].log_prob(x).sum(-1)\n",
      "D:\\Anaconda\\envs\\scvi_test\\Lib\\site-packages\\scvi\\module\\_vae.py:458: UserWarning: The value argument must be within the support of the distribution\n",
      "  reconst_loss = -generative_outputs[\"px\"].log_prob(x).sum(-1)\n",
      "D:\\Anaconda\\envs\\scvi_test\\Lib\\site-packages\\scvi\\module\\_vae.py:458: UserWarning: The value argument must be within the support of the distribution\n",
      "  reconst_loss = -generative_outputs[\"px\"].log_prob(x).sum(-1)\n",
      "D:\\Anaconda\\envs\\scvi_test\\Lib\\site-packages\\scvi\\module\\_vae.py:458: UserWarning: The value argument must be within the support of the distribution\n",
      "  reconst_loss = -generative_outputs[\"px\"].log_prob(x).sum(-1)\n",
      "D:\\Anaconda\\envs\\scvi_test\\Lib\\site-packages\\scvi\\module\\_vae.py:458: UserWarning: The value argument must be within the support of the distribution\n",
      "  reconst_loss = -generative_outputs[\"px\"].log_prob(x).sum(-1)\n"
     ]
    },
    {
     "name": "stdout",
     "output_type": "stream",
     "text": [
      "Epoch 134/400:  34%|███▋       | 134/400 [00:03<00:06, 38.59it/s, v_num=1, train_loss_step=11.4, train_loss_epoch=12.5]"
     ]
    },
    {
     "name": "stderr",
     "output_type": "stream",
     "text": [
      "D:\\Anaconda\\envs\\scvi_test\\Lib\\site-packages\\scvi\\module\\_vae.py:458: UserWarning: The value argument must be within the support of the distribution\n",
      "  reconst_loss = -generative_outputs[\"px\"].log_prob(x).sum(-1)\n",
      "D:\\Anaconda\\envs\\scvi_test\\Lib\\site-packages\\scvi\\module\\_vae.py:458: UserWarning: The value argument must be within the support of the distribution\n",
      "  reconst_loss = -generative_outputs[\"px\"].log_prob(x).sum(-1)\n",
      "D:\\Anaconda\\envs\\scvi_test\\Lib\\site-packages\\scvi\\module\\_vae.py:458: UserWarning: The value argument must be within the support of the distribution\n",
      "  reconst_loss = -generative_outputs[\"px\"].log_prob(x).sum(-1)\n"
     ]
    },
    {
     "name": "stdout",
     "output_type": "stream",
     "text": [
      "Epoch 140/400:  35%|███▊       | 140/400 [00:03<00:06, 38.89it/s, v_num=1, train_loss_step=9.93, train_loss_epoch=12.5]"
     ]
    },
    {
     "name": "stderr",
     "output_type": "stream",
     "text": [
      "D:\\Anaconda\\envs\\scvi_test\\Lib\\site-packages\\scvi\\module\\_vae.py:458: UserWarning: The value argument must be within the support of the distribution\n",
      "  reconst_loss = -generative_outputs[\"px\"].log_prob(x).sum(-1)\n",
      "D:\\Anaconda\\envs\\scvi_test\\Lib\\site-packages\\scvi\\module\\_vae.py:458: UserWarning: The value argument must be within the support of the distribution\n",
      "  reconst_loss = -generative_outputs[\"px\"].log_prob(x).sum(-1)\n",
      "D:\\Anaconda\\envs\\scvi_test\\Lib\\site-packages\\scvi\\module\\_vae.py:458: UserWarning: The value argument must be within the support of the distribution\n",
      "  reconst_loss = -generative_outputs[\"px\"].log_prob(x).sum(-1)\n",
      "D:\\Anaconda\\envs\\scvi_test\\Lib\\site-packages\\scvi\\module\\_vae.py:458: UserWarning: The value argument must be within the support of the distribution\n",
      "  reconst_loss = -generative_outputs[\"px\"].log_prob(x).sum(-1)\n",
      "D:\\Anaconda\\envs\\scvi_test\\Lib\\site-packages\\scvi\\module\\_vae.py:458: UserWarning: The value argument must be within the support of the distribution\n",
      "  reconst_loss = -generative_outputs[\"px\"].log_prob(x).sum(-1)\n",
      "D:\\Anaconda\\envs\\scvi_test\\Lib\\site-packages\\scvi\\module\\_vae.py:458: UserWarning: The value argument must be within the support of the distribution\n",
      "  reconst_loss = -generative_outputs[\"px\"].log_prob(x).sum(-1)\n",
      "D:\\Anaconda\\envs\\scvi_test\\Lib\\site-packages\\scvi\\module\\_vae.py:458: UserWarning: The value argument must be within the support of the distribution\n",
      "  reconst_loss = -generative_outputs[\"px\"].log_prob(x).sum(-1)\n"
     ]
    },
    {
     "name": "stdout",
     "output_type": "stream",
     "text": [
      "Epoch 142/400:  36%|███▉       | 142/400 [00:03<00:06, 38.89it/s, v_num=1, train_loss_step=11.3, train_loss_epoch=12.5]"
     ]
    },
    {
     "name": "stderr",
     "output_type": "stream",
     "text": [
      "D:\\Anaconda\\envs\\scvi_test\\Lib\\site-packages\\scvi\\module\\_vae.py:458: UserWarning: The value argument must be within the support of the distribution\n",
      "  reconst_loss = -generative_outputs[\"px\"].log_prob(x).sum(-1)\n",
      "D:\\Anaconda\\envs\\scvi_test\\Lib\\site-packages\\scvi\\module\\_vae.py:458: UserWarning: The value argument must be within the support of the distribution\n",
      "  reconst_loss = -generative_outputs[\"px\"].log_prob(x).sum(-1)\n"
     ]
    },
    {
     "name": "stdout",
     "output_type": "stream",
     "text": [
      "Epoch 148/400:  37%|████       | 148/400 [00:03<00:06, 39.13it/s, v_num=1, train_loss_step=9.11, train_loss_epoch=12.6]"
     ]
    },
    {
     "name": "stderr",
     "output_type": "stream",
     "text": [
      "D:\\Anaconda\\envs\\scvi_test\\Lib\\site-packages\\scvi\\module\\_vae.py:458: UserWarning: The value argument must be within the support of the distribution\n",
      "  reconst_loss = -generative_outputs[\"px\"].log_prob(x).sum(-1)\n",
      "D:\\Anaconda\\envs\\scvi_test\\Lib\\site-packages\\scvi\\module\\_vae.py:458: UserWarning: The value argument must be within the support of the distribution\n",
      "  reconst_loss = -generative_outputs[\"px\"].log_prob(x).sum(-1)\n",
      "D:\\Anaconda\\envs\\scvi_test\\Lib\\site-packages\\scvi\\module\\_vae.py:458: UserWarning: The value argument must be within the support of the distribution\n",
      "  reconst_loss = -generative_outputs[\"px\"].log_prob(x).sum(-1)\n",
      "D:\\Anaconda\\envs\\scvi_test\\Lib\\site-packages\\scvi\\module\\_vae.py:458: UserWarning: The value argument must be within the support of the distribution\n",
      "  reconst_loss = -generative_outputs[\"px\"].log_prob(x).sum(-1)\n",
      "D:\\Anaconda\\envs\\scvi_test\\Lib\\site-packages\\scvi\\module\\_vae.py:458: UserWarning: The value argument must be within the support of the distribution\n",
      "  reconst_loss = -generative_outputs[\"px\"].log_prob(x).sum(-1)\n",
      "D:\\Anaconda\\envs\\scvi_test\\Lib\\site-packages\\scvi\\module\\_vae.py:458: UserWarning: The value argument must be within the support of the distribution\n",
      "  reconst_loss = -generative_outputs[\"px\"].log_prob(x).sum(-1)\n",
      "D:\\Anaconda\\envs\\scvi_test\\Lib\\site-packages\\scvi\\module\\_vae.py:458: UserWarning: The value argument must be within the support of the distribution\n",
      "  reconst_loss = -generative_outputs[\"px\"].log_prob(x).sum(-1)\n",
      "D:\\Anaconda\\envs\\scvi_test\\Lib\\site-packages\\scvi\\module\\_vae.py:458: UserWarning: The value argument must be within the support of the distribution\n",
      "  reconst_loss = -generative_outputs[\"px\"].log_prob(x).sum(-1)\n"
     ]
    },
    {
     "name": "stdout",
     "output_type": "stream",
     "text": [
      "Epoch 150/400:  38%|████▏      | 150/400 [00:04<00:06, 39.13it/s, v_num=1, train_loss_step=13.4, train_loss_epoch=12.4]"
     ]
    },
    {
     "name": "stderr",
     "output_type": "stream",
     "text": [
      "D:\\Anaconda\\envs\\scvi_test\\Lib\\site-packages\\scvi\\module\\_vae.py:458: UserWarning: The value argument must be within the support of the distribution\n",
      "  reconst_loss = -generative_outputs[\"px\"].log_prob(x).sum(-1)\n",
      "D:\\Anaconda\\envs\\scvi_test\\Lib\\site-packages\\scvi\\module\\_vae.py:458: UserWarning: The value argument must be within the support of the distribution\n",
      "  reconst_loss = -generative_outputs[\"px\"].log_prob(x).sum(-1)\n"
     ]
    },
    {
     "name": "stdout",
     "output_type": "stream",
     "text": [
      "Epoch 156/400:  39%|████▎      | 155/400 [00:04<00:06, 38.55it/s, v_num=1, train_loss_step=10.9, train_loss_epoch=12.5]"
     ]
    },
    {
     "name": "stderr",
     "output_type": "stream",
     "text": [
      "D:\\Anaconda\\envs\\scvi_test\\Lib\\site-packages\\scvi\\module\\_vae.py:458: UserWarning: The value argument must be within the support of the distribution\n",
      "  reconst_loss = -generative_outputs[\"px\"].log_prob(x).sum(-1)\n",
      "D:\\Anaconda\\envs\\scvi_test\\Lib\\site-packages\\scvi\\module\\_vae.py:458: UserWarning: The value argument must be within the support of the distribution\n",
      "  reconst_loss = -generative_outputs[\"px\"].log_prob(x).sum(-1)\n",
      "D:\\Anaconda\\envs\\scvi_test\\Lib\\site-packages\\scvi\\module\\_vae.py:458: UserWarning: The value argument must be within the support of the distribution\n",
      "  reconst_loss = -generative_outputs[\"px\"].log_prob(x).sum(-1)\n",
      "D:\\Anaconda\\envs\\scvi_test\\Lib\\site-packages\\scvi\\module\\_vae.py:458: UserWarning: The value argument must be within the support of the distribution\n",
      "  reconst_loss = -generative_outputs[\"px\"].log_prob(x).sum(-1)\n",
      "D:\\Anaconda\\envs\\scvi_test\\Lib\\site-packages\\scvi\\module\\_vae.py:458: UserWarning: The value argument must be within the support of the distribution\n",
      "  reconst_loss = -generative_outputs[\"px\"].log_prob(x).sum(-1)\n",
      "D:\\Anaconda\\envs\\scvi_test\\Lib\\site-packages\\scvi\\module\\_vae.py:458: UserWarning: The value argument must be within the support of the distribution\n",
      "  reconst_loss = -generative_outputs[\"px\"].log_prob(x).sum(-1)\n"
     ]
    },
    {
     "name": "stdout",
     "output_type": "stream",
     "text": [
      "Epoch 158/400:  40%|████▎      | 158/400 [00:04<00:06, 38.55it/s, v_num=1, train_loss_step=10.9, train_loss_epoch=12.5]"
     ]
    },
    {
     "name": "stderr",
     "output_type": "stream",
     "text": [
      "D:\\Anaconda\\envs\\scvi_test\\Lib\\site-packages\\scvi\\module\\_vae.py:458: UserWarning: The value argument must be within the support of the distribution\n",
      "  reconst_loss = -generative_outputs[\"px\"].log_prob(x).sum(-1)\n",
      "D:\\Anaconda\\envs\\scvi_test\\Lib\\site-packages\\scvi\\module\\_vae.py:458: UserWarning: The value argument must be within the support of the distribution\n",
      "  reconst_loss = -generative_outputs[\"px\"].log_prob(x).sum(-1)\n",
      "D:\\Anaconda\\envs\\scvi_test\\Lib\\site-packages\\scvi\\module\\_vae.py:458: UserWarning: The value argument must be within the support of the distribution\n",
      "  reconst_loss = -generative_outputs[\"px\"].log_prob(x).sum(-1)\n",
      "D:\\Anaconda\\envs\\scvi_test\\Lib\\site-packages\\scvi\\module\\_vae.py:458: UserWarning: The value argument must be within the support of the distribution\n",
      "  reconst_loss = -generative_outputs[\"px\"].log_prob(x).sum(-1)\n"
     ]
    },
    {
     "name": "stdout",
     "output_type": "stream",
     "text": [
      "Epoch 163/400:  41%|████▍      | 163/400 [00:04<00:06, 39.16it/s, v_num=1, train_loss_step=15.5, train_loss_epoch=12.6]"
     ]
    },
    {
     "name": "stderr",
     "output_type": "stream",
     "text": [
      "D:\\Anaconda\\envs\\scvi_test\\Lib\\site-packages\\scvi\\module\\_vae.py:458: UserWarning: The value argument must be within the support of the distribution\n",
      "  reconst_loss = -generative_outputs[\"px\"].log_prob(x).sum(-1)\n",
      "D:\\Anaconda\\envs\\scvi_test\\Lib\\site-packages\\scvi\\module\\_vae.py:458: UserWarning: The value argument must be within the support of the distribution\n",
      "  reconst_loss = -generative_outputs[\"px\"].log_prob(x).sum(-1)\n",
      "D:\\Anaconda\\envs\\scvi_test\\Lib\\site-packages\\scvi\\module\\_vae.py:458: UserWarning: The value argument must be within the support of the distribution\n",
      "  reconst_loss = -generative_outputs[\"px\"].log_prob(x).sum(-1)\n",
      "D:\\Anaconda\\envs\\scvi_test\\Lib\\site-packages\\scvi\\module\\_vae.py:458: UserWarning: The value argument must be within the support of the distribution\n",
      "  reconst_loss = -generative_outputs[\"px\"].log_prob(x).sum(-1)\n",
      "D:\\Anaconda\\envs\\scvi_test\\Lib\\site-packages\\scvi\\module\\_vae.py:458: UserWarning: The value argument must be within the support of the distribution\n",
      "  reconst_loss = -generative_outputs[\"px\"].log_prob(x).sum(-1)\n"
     ]
    },
    {
     "name": "stdout",
     "output_type": "stream",
     "text": [
      "Epoch 166/400:  42%|████▌      | 166/400 [00:04<00:05, 39.16it/s, v_num=1, train_loss_step=12.3, train_loss_epoch=12.5]"
     ]
    },
    {
     "name": "stderr",
     "output_type": "stream",
     "text": [
      "D:\\Anaconda\\envs\\scvi_test\\Lib\\site-packages\\scvi\\module\\_vae.py:458: UserWarning: The value argument must be within the support of the distribution\n",
      "  reconst_loss = -generative_outputs[\"px\"].log_prob(x).sum(-1)\n",
      "D:\\Anaconda\\envs\\scvi_test\\Lib\\site-packages\\scvi\\module\\_vae.py:458: UserWarning: The value argument must be within the support of the distribution\n",
      "  reconst_loss = -generative_outputs[\"px\"].log_prob(x).sum(-1)\n",
      "D:\\Anaconda\\envs\\scvi_test\\Lib\\site-packages\\scvi\\module\\_vae.py:458: UserWarning: The value argument must be within the support of the distribution\n",
      "  reconst_loss = -generative_outputs[\"px\"].log_prob(x).sum(-1)\n",
      "D:\\Anaconda\\envs\\scvi_test\\Lib\\site-packages\\scvi\\module\\_vae.py:458: UserWarning: The value argument must be within the support of the distribution\n",
      "  reconst_loss = -generative_outputs[\"px\"].log_prob(x).sum(-1)\n"
     ]
    },
    {
     "name": "stdout",
     "output_type": "stream",
     "text": [
      "Epoch 170/400:  42%|█████▌       | 170/400 [00:04<00:05, 38.49it/s, v_num=1, train_loss_step=16, train_loss_epoch=12.6]"
     ]
    },
    {
     "name": "stderr",
     "output_type": "stream",
     "text": [
      "D:\\Anaconda\\envs\\scvi_test\\Lib\\site-packages\\scvi\\module\\_vae.py:458: UserWarning: The value argument must be within the support of the distribution\n",
      "  reconst_loss = -generative_outputs[\"px\"].log_prob(x).sum(-1)\n",
      "D:\\Anaconda\\envs\\scvi_test\\Lib\\site-packages\\scvi\\module\\_vae.py:458: UserWarning: The value argument must be within the support of the distribution\n",
      "  reconst_loss = -generative_outputs[\"px\"].log_prob(x).sum(-1)\n",
      "D:\\Anaconda\\envs\\scvi_test\\Lib\\site-packages\\scvi\\module\\_vae.py:458: UserWarning: The value argument must be within the support of the distribution\n",
      "  reconst_loss = -generative_outputs[\"px\"].log_prob(x).sum(-1)\n",
      "D:\\Anaconda\\envs\\scvi_test\\Lib\\site-packages\\scvi\\module\\_vae.py:458: UserWarning: The value argument must be within the support of the distribution\n",
      "  reconst_loss = -generative_outputs[\"px\"].log_prob(x).sum(-1)\n",
      "D:\\Anaconda\\envs\\scvi_test\\Lib\\site-packages\\scvi\\module\\_vae.py:458: UserWarning: The value argument must be within the support of the distribution\n",
      "  reconst_loss = -generative_outputs[\"px\"].log_prob(x).sum(-1)\n"
     ]
    },
    {
     "name": "stdout",
     "output_type": "stream",
     "text": [
      "Epoch 173/400:  43%|████▊      | 173/400 [00:04<00:06, 37.32it/s, v_num=1, train_loss_step=12.5, train_loss_epoch=12.5]"
     ]
    },
    {
     "name": "stderr",
     "output_type": "stream",
     "text": [
      "D:\\Anaconda\\envs\\scvi_test\\Lib\\site-packages\\scvi\\module\\_vae.py:458: UserWarning: The value argument must be within the support of the distribution\n",
      "  reconst_loss = -generative_outputs[\"px\"].log_prob(x).sum(-1)\n",
      "D:\\Anaconda\\envs\\scvi_test\\Lib\\site-packages\\scvi\\module\\_vae.py:458: UserWarning: The value argument must be within the support of the distribution\n",
      "  reconst_loss = -generative_outputs[\"px\"].log_prob(x).sum(-1)\n",
      "D:\\Anaconda\\envs\\scvi_test\\Lib\\site-packages\\scvi\\module\\_vae.py:458: UserWarning: The value argument must be within the support of the distribution\n",
      "  reconst_loss = -generative_outputs[\"px\"].log_prob(x).sum(-1)\n"
     ]
    },
    {
     "name": "stdout",
     "output_type": "stream",
     "text": [
      "Epoch 177/400:  44%|████▊      | 177/400 [00:04<00:05, 37.52it/s, v_num=1, train_loss_step=13.1, train_loss_epoch=12.5]"
     ]
    },
    {
     "name": "stderr",
     "output_type": "stream",
     "text": [
      "D:\\Anaconda\\envs\\scvi_test\\Lib\\site-packages\\scvi\\module\\_vae.py:458: UserWarning: The value argument must be within the support of the distribution\n",
      "  reconst_loss = -generative_outputs[\"px\"].log_prob(x).sum(-1)\n",
      "D:\\Anaconda\\envs\\scvi_test\\Lib\\site-packages\\scvi\\module\\_vae.py:458: UserWarning: The value argument must be within the support of the distribution\n",
      "  reconst_loss = -generative_outputs[\"px\"].log_prob(x).sum(-1)\n",
      "D:\\Anaconda\\envs\\scvi_test\\Lib\\site-packages\\scvi\\module\\_vae.py:458: UserWarning: The value argument must be within the support of the distribution\n",
      "  reconst_loss = -generative_outputs[\"px\"].log_prob(x).sum(-1)\n",
      "D:\\Anaconda\\envs\\scvi_test\\Lib\\site-packages\\scvi\\module\\_vae.py:458: UserWarning: The value argument must be within the support of the distribution\n",
      "  reconst_loss = -generative_outputs[\"px\"].log_prob(x).sum(-1)\n",
      "D:\\Anaconda\\envs\\scvi_test\\Lib\\site-packages\\scvi\\module\\_vae.py:458: UserWarning: The value argument must be within the support of the distribution\n",
      "  reconst_loss = -generative_outputs[\"px\"].log_prob(x).sum(-1)\n",
      "D:\\Anaconda\\envs\\scvi_test\\Lib\\site-packages\\scvi\\module\\_vae.py:458: UserWarning: The value argument must be within the support of the distribution\n",
      "  reconst_loss = -generative_outputs[\"px\"].log_prob(x).sum(-1)\n"
     ]
    },
    {
     "name": "stdout",
     "output_type": "stream",
     "text": [
      "Epoch 180/400:  45%|████▉      | 180/400 [00:04<00:05, 37.63it/s, v_num=1, train_loss_step=10.8, train_loss_epoch=12.6]"
     ]
    },
    {
     "name": "stderr",
     "output_type": "stream",
     "text": [
      "D:\\Anaconda\\envs\\scvi_test\\Lib\\site-packages\\scvi\\module\\_vae.py:458: UserWarning: The value argument must be within the support of the distribution\n",
      "  reconst_loss = -generative_outputs[\"px\"].log_prob(x).sum(-1)\n",
      "D:\\Anaconda\\envs\\scvi_test\\Lib\\site-packages\\scvi\\module\\_vae.py:458: UserWarning: The value argument must be within the support of the distribution\n",
      "  reconst_loss = -generative_outputs[\"px\"].log_prob(x).sum(-1)\n",
      "D:\\Anaconda\\envs\\scvi_test\\Lib\\site-packages\\scvi\\module\\_vae.py:458: UserWarning: The value argument must be within the support of the distribution\n",
      "  reconst_loss = -generative_outputs[\"px\"].log_prob(x).sum(-1)\n"
     ]
    },
    {
     "name": "stdout",
     "output_type": "stream",
     "text": [
      "Epoch 185/400:  46%|█████      | 185/400 [00:04<00:05, 38.00it/s, v_num=1, train_loss_step=12.5, train_loss_epoch=12.6]"
     ]
    },
    {
     "name": "stderr",
     "output_type": "stream",
     "text": [
      "D:\\Anaconda\\envs\\scvi_test\\Lib\\site-packages\\scvi\\module\\_vae.py:458: UserWarning: The value argument must be within the support of the distribution\n",
      "  reconst_loss = -generative_outputs[\"px\"].log_prob(x).sum(-1)\n",
      "D:\\Anaconda\\envs\\scvi_test\\Lib\\site-packages\\scvi\\module\\_vae.py:458: UserWarning: The value argument must be within the support of the distribution\n",
      "  reconst_loss = -generative_outputs[\"px\"].log_prob(x).sum(-1)\n",
      "D:\\Anaconda\\envs\\scvi_test\\Lib\\site-packages\\scvi\\module\\_vae.py:458: UserWarning: The value argument must be within the support of the distribution\n",
      "  reconst_loss = -generative_outputs[\"px\"].log_prob(x).sum(-1)\n",
      "D:\\Anaconda\\envs\\scvi_test\\Lib\\site-packages\\scvi\\module\\_vae.py:458: UserWarning: The value argument must be within the support of the distribution\n",
      "  reconst_loss = -generative_outputs[\"px\"].log_prob(x).sum(-1)\n",
      "D:\\Anaconda\\envs\\scvi_test\\Lib\\site-packages\\scvi\\module\\_vae.py:458: UserWarning: The value argument must be within the support of the distribution\n",
      "  reconst_loss = -generative_outputs[\"px\"].log_prob(x).sum(-1)\n",
      "D:\\Anaconda\\envs\\scvi_test\\Lib\\site-packages\\scvi\\module\\_vae.py:458: UserWarning: The value argument must be within the support of the distribution\n",
      "  reconst_loss = -generative_outputs[\"px\"].log_prob(x).sum(-1)\n"
     ]
    },
    {
     "name": "stdout",
     "output_type": "stream",
     "text": [
      "Epoch 188/400:  47%|█████▏     | 187/400 [00:04<00:05, 37.93it/s, v_num=1, train_loss_step=10.8, train_loss_epoch=12.6]"
     ]
    },
    {
     "name": "stderr",
     "output_type": "stream",
     "text": [
      "D:\\Anaconda\\envs\\scvi_test\\Lib\\site-packages\\scvi\\module\\_vae.py:458: UserWarning: The value argument must be within the support of the distribution\n",
      "  reconst_loss = -generative_outputs[\"px\"].log_prob(x).sum(-1)\n",
      "D:\\Anaconda\\envs\\scvi_test\\Lib\\site-packages\\scvi\\module\\_vae.py:458: UserWarning: The value argument must be within the support of the distribution\n",
      "  reconst_loss = -generative_outputs[\"px\"].log_prob(x).sum(-1)\n",
      "D:\\Anaconda\\envs\\scvi_test\\Lib\\site-packages\\scvi\\module\\_vae.py:458: UserWarning: The value argument must be within the support of the distribution\n",
      "  reconst_loss = -generative_outputs[\"px\"].log_prob(x).sum(-1)\n"
     ]
    },
    {
     "name": "stdout",
     "output_type": "stream",
     "text": [
      "Epoch 192/400:  48%|█████▎     | 192/400 [00:05<00:05, 37.41it/s, v_num=1, train_loss_step=13.9, train_loss_epoch=12.6]"
     ]
    },
    {
     "name": "stderr",
     "output_type": "stream",
     "text": [
      "D:\\Anaconda\\envs\\scvi_test\\Lib\\site-packages\\scvi\\module\\_vae.py:458: UserWarning: The value argument must be within the support of the distribution\n",
      "  reconst_loss = -generative_outputs[\"px\"].log_prob(x).sum(-1)\n",
      "D:\\Anaconda\\envs\\scvi_test\\Lib\\site-packages\\scvi\\module\\_vae.py:458: UserWarning: The value argument must be within the support of the distribution\n",
      "  reconst_loss = -generative_outputs[\"px\"].log_prob(x).sum(-1)\n",
      "D:\\Anaconda\\envs\\scvi_test\\Lib\\site-packages\\scvi\\module\\_vae.py:458: UserWarning: The value argument must be within the support of the distribution\n",
      "  reconst_loss = -generative_outputs[\"px\"].log_prob(x).sum(-1)\n",
      "D:\\Anaconda\\envs\\scvi_test\\Lib\\site-packages\\scvi\\module\\_vae.py:458: UserWarning: The value argument must be within the support of the distribution\n",
      "  reconst_loss = -generative_outputs[\"px\"].log_prob(x).sum(-1)\n",
      "D:\\Anaconda\\envs\\scvi_test\\Lib\\site-packages\\scvi\\module\\_vae.py:458: UserWarning: The value argument must be within the support of the distribution\n",
      "  reconst_loss = -generative_outputs[\"px\"].log_prob(x).sum(-1)\n"
     ]
    },
    {
     "name": "stdout",
     "output_type": "stream",
     "text": [
      "Epoch 194/400:  48%|█████▎     | 194/400 [00:05<00:05, 37.41it/s, v_num=1, train_loss_step=18.7, train_loss_epoch=12.8]"
     ]
    },
    {
     "name": "stderr",
     "output_type": "stream",
     "text": [
      "D:\\Anaconda\\envs\\scvi_test\\Lib\\site-packages\\scvi\\module\\_vae.py:458: UserWarning: The value argument must be within the support of the distribution\n",
      "  reconst_loss = -generative_outputs[\"px\"].log_prob(x).sum(-1)\n",
      "D:\\Anaconda\\envs\\scvi_test\\Lib\\site-packages\\scvi\\module\\_vae.py:458: UserWarning: The value argument must be within the support of the distribution\n",
      "  reconst_loss = -generative_outputs[\"px\"].log_prob(x).sum(-1)\n",
      "D:\\Anaconda\\envs\\scvi_test\\Lib\\site-packages\\scvi\\module\\_vae.py:458: UserWarning: The value argument must be within the support of the distribution\n",
      "  reconst_loss = -generative_outputs[\"px\"].log_prob(x).sum(-1)\n"
     ]
    },
    {
     "name": "stdout",
     "output_type": "stream",
     "text": [
      "Epoch 199/400:  50%|█████▍     | 199/400 [00:05<00:05, 36.30it/s, v_num=1, train_loss_step=11.9, train_loss_epoch=12.6]"
     ]
    },
    {
     "name": "stderr",
     "output_type": "stream",
     "text": [
      "D:\\Anaconda\\envs\\scvi_test\\Lib\\site-packages\\scvi\\module\\_vae.py:458: UserWarning: The value argument must be within the support of the distribution\n",
      "  reconst_loss = -generative_outputs[\"px\"].log_prob(x).sum(-1)\n",
      "D:\\Anaconda\\envs\\scvi_test\\Lib\\site-packages\\scvi\\module\\_vae.py:458: UserWarning: The value argument must be within the support of the distribution\n",
      "  reconst_loss = -generative_outputs[\"px\"].log_prob(x).sum(-1)\n",
      "D:\\Anaconda\\envs\\scvi_test\\Lib\\site-packages\\scvi\\module\\_vae.py:458: UserWarning: The value argument must be within the support of the distribution\n",
      "  reconst_loss = -generative_outputs[\"px\"].log_prob(x).sum(-1)\n",
      "D:\\Anaconda\\envs\\scvi_test\\Lib\\site-packages\\scvi\\module\\_vae.py:458: UserWarning: The value argument must be within the support of the distribution\n",
      "  reconst_loss = -generative_outputs[\"px\"].log_prob(x).sum(-1)\n",
      "D:\\Anaconda\\envs\\scvi_test\\Lib\\site-packages\\scvi\\module\\_vae.py:458: UserWarning: The value argument must be within the support of the distribution\n",
      "  reconst_loss = -generative_outputs[\"px\"].log_prob(x).sum(-1)\n",
      "D:\\Anaconda\\envs\\scvi_test\\Lib\\site-packages\\scvi\\module\\_vae.py:458: UserWarning: The value argument must be within the support of the distribution\n",
      "  reconst_loss = -generative_outputs[\"px\"].log_prob(x).sum(-1)\n"
     ]
    },
    {
     "name": "stdout",
     "output_type": "stream",
     "text": [
      "Epoch 201/400:  50%|██████▌      | 201/400 [00:05<00:05, 36.30it/s, v_num=1, train_loss_step=11, train_loss_epoch=12.6]"
     ]
    },
    {
     "name": "stderr",
     "output_type": "stream",
     "text": [
      "D:\\Anaconda\\envs\\scvi_test\\Lib\\site-packages\\scvi\\module\\_vae.py:458: UserWarning: The value argument must be within the support of the distribution\n",
      "  reconst_loss = -generative_outputs[\"px\"].log_prob(x).sum(-1)\n",
      "D:\\Anaconda\\envs\\scvi_test\\Lib\\site-packages\\scvi\\module\\_vae.py:458: UserWarning: The value argument must be within the support of the distribution\n",
      "  reconst_loss = -generative_outputs[\"px\"].log_prob(x).sum(-1)\n"
     ]
    },
    {
     "name": "stdout",
     "output_type": "stream",
     "text": [
      "Epoch 206/400:  52%|█████▋     | 206/400 [00:05<00:05, 36.38it/s, v_num=1, train_loss_step=14.9, train_loss_epoch=12.7]"
     ]
    },
    {
     "name": "stderr",
     "output_type": "stream",
     "text": [
      "D:\\Anaconda\\envs\\scvi_test\\Lib\\site-packages\\scvi\\module\\_vae.py:458: UserWarning: The value argument must be within the support of the distribution\n",
      "  reconst_loss = -generative_outputs[\"px\"].log_prob(x).sum(-1)\n",
      "D:\\Anaconda\\envs\\scvi_test\\Lib\\site-packages\\scvi\\module\\_vae.py:458: UserWarning: The value argument must be within the support of the distribution\n",
      "  reconst_loss = -generative_outputs[\"px\"].log_prob(x).sum(-1)\n",
      "D:\\Anaconda\\envs\\scvi_test\\Lib\\site-packages\\scvi\\module\\_vae.py:458: UserWarning: The value argument must be within the support of the distribution\n",
      "  reconst_loss = -generative_outputs[\"px\"].log_prob(x).sum(-1)\n",
      "D:\\Anaconda\\envs\\scvi_test\\Lib\\site-packages\\scvi\\module\\_vae.py:458: UserWarning: The value argument must be within the support of the distribution\n",
      "  reconst_loss = -generative_outputs[\"px\"].log_prob(x).sum(-1)\n",
      "D:\\Anaconda\\envs\\scvi_test\\Lib\\site-packages\\scvi\\module\\_vae.py:458: UserWarning: The value argument must be within the support of the distribution\n",
      "  reconst_loss = -generative_outputs[\"px\"].log_prob(x).sum(-1)\n",
      "D:\\Anaconda\\envs\\scvi_test\\Lib\\site-packages\\scvi\\module\\_vae.py:458: UserWarning: The value argument must be within the support of the distribution\n",
      "  reconst_loss = -generative_outputs[\"px\"].log_prob(x).sum(-1)\n"
     ]
    },
    {
     "name": "stdout",
     "output_type": "stream",
     "text": [
      "Epoch 209/400:  52%|█████▋     | 209/400 [00:05<00:05, 37.01it/s, v_num=1, train_loss_step=10.1, train_loss_epoch=12.6]"
     ]
    },
    {
     "name": "stderr",
     "output_type": "stream",
     "text": [
      "D:\\Anaconda\\envs\\scvi_test\\Lib\\site-packages\\scvi\\module\\_vae.py:458: UserWarning: The value argument must be within the support of the distribution\n",
      "  reconst_loss = -generative_outputs[\"px\"].log_prob(x).sum(-1)\n",
      "D:\\Anaconda\\envs\\scvi_test\\Lib\\site-packages\\scvi\\module\\_vae.py:458: UserWarning: The value argument must be within the support of the distribution\n",
      "  reconst_loss = -generative_outputs[\"px\"].log_prob(x).sum(-1)\n",
      "D:\\Anaconda\\envs\\scvi_test\\Lib\\site-packages\\scvi\\module\\_vae.py:458: UserWarning: The value argument must be within the support of the distribution\n",
      "  reconst_loss = -generative_outputs[\"px\"].log_prob(x).sum(-1)\n",
      "D:\\Anaconda\\envs\\scvi_test\\Lib\\site-packages\\scvi\\module\\_vae.py:458: UserWarning: The value argument must be within the support of the distribution\n",
      "  reconst_loss = -generative_outputs[\"px\"].log_prob(x).sum(-1)\n"
     ]
    },
    {
     "name": "stdout",
     "output_type": "stream",
     "text": [
      "Epoch 213/400:  53%|█████▊     | 213/400 [00:05<00:04, 37.42it/s, v_num=1, train_loss_step=13.5, train_loss_epoch=12.7]"
     ]
    },
    {
     "name": "stderr",
     "output_type": "stream",
     "text": [
      "D:\\Anaconda\\envs\\scvi_test\\Lib\\site-packages\\scvi\\module\\_vae.py:458: UserWarning: The value argument must be within the support of the distribution\n",
      "  reconst_loss = -generative_outputs[\"px\"].log_prob(x).sum(-1)\n",
      "D:\\Anaconda\\envs\\scvi_test\\Lib\\site-packages\\scvi\\module\\_vae.py:458: UserWarning: The value argument must be within the support of the distribution\n",
      "  reconst_loss = -generative_outputs[\"px\"].log_prob(x).sum(-1)\n",
      "D:\\Anaconda\\envs\\scvi_test\\Lib\\site-packages\\scvi\\module\\_vae.py:458: UserWarning: The value argument must be within the support of the distribution\n",
      "  reconst_loss = -generative_outputs[\"px\"].log_prob(x).sum(-1)\n",
      "D:\\Anaconda\\envs\\scvi_test\\Lib\\site-packages\\scvi\\module\\_vae.py:458: UserWarning: The value argument must be within the support of the distribution\n",
      "  reconst_loss = -generative_outputs[\"px\"].log_prob(x).sum(-1)\n"
     ]
    },
    {
     "name": "stdout",
     "output_type": "stream",
     "text": [
      "Epoch 216/400:  54%|█████▉     | 216/400 [00:05<00:04, 37.73it/s, v_num=1, train_loss_step=12.6, train_loss_epoch=12.5]"
     ]
    },
    {
     "name": "stderr",
     "output_type": "stream",
     "text": [
      "D:\\Anaconda\\envs\\scvi_test\\Lib\\site-packages\\scvi\\module\\_vae.py:458: UserWarning: The value argument must be within the support of the distribution\n",
      "  reconst_loss = -generative_outputs[\"px\"].log_prob(x).sum(-1)\n",
      "D:\\Anaconda\\envs\\scvi_test\\Lib\\site-packages\\scvi\\module\\_vae.py:458: UserWarning: The value argument must be within the support of the distribution\n",
      "  reconst_loss = -generative_outputs[\"px\"].log_prob(x).sum(-1)\n",
      "D:\\Anaconda\\envs\\scvi_test\\Lib\\site-packages\\scvi\\module\\_vae.py:458: UserWarning: The value argument must be within the support of the distribution\n",
      "  reconst_loss = -generative_outputs[\"px\"].log_prob(x).sum(-1)\n",
      "D:\\Anaconda\\envs\\scvi_test\\Lib\\site-packages\\scvi\\module\\_vae.py:458: UserWarning: The value argument must be within the support of the distribution\n",
      "  reconst_loss = -generative_outputs[\"px\"].log_prob(x).sum(-1)\n"
     ]
    },
    {
     "name": "stdout",
     "output_type": "stream",
     "text": [
      "Epoch 221/400:  55%|██████     | 220/400 [00:05<00:04, 37.84it/s, v_num=1, train_loss_step=13.4, train_loss_epoch=12.6]"
     ]
    },
    {
     "name": "stderr",
     "output_type": "stream",
     "text": [
      "D:\\Anaconda\\envs\\scvi_test\\Lib\\site-packages\\scvi\\module\\_vae.py:458: UserWarning: The value argument must be within the support of the distribution\n",
      "  reconst_loss = -generative_outputs[\"px\"].log_prob(x).sum(-1)\n",
      "D:\\Anaconda\\envs\\scvi_test\\Lib\\site-packages\\scvi\\module\\_vae.py:458: UserWarning: The value argument must be within the support of the distribution\n",
      "  reconst_loss = -generative_outputs[\"px\"].log_prob(x).sum(-1)\n",
      "D:\\Anaconda\\envs\\scvi_test\\Lib\\site-packages\\scvi\\module\\_vae.py:458: UserWarning: The value argument must be within the support of the distribution\n",
      "  reconst_loss = -generative_outputs[\"px\"].log_prob(x).sum(-1)\n",
      "D:\\Anaconda\\envs\\scvi_test\\Lib\\site-packages\\scvi\\module\\_vae.py:458: UserWarning: The value argument must be within the support of the distribution\n",
      "  reconst_loss = -generative_outputs[\"px\"].log_prob(x).sum(-1)\n",
      "D:\\Anaconda\\envs\\scvi_test\\Lib\\site-packages\\scvi\\module\\_vae.py:458: UserWarning: The value argument must be within the support of the distribution\n",
      "  reconst_loss = -generative_outputs[\"px\"].log_prob(x).sum(-1)\n"
     ]
    },
    {
     "name": "stdout",
     "output_type": "stream",
     "text": [
      "Epoch 224/400:  56%|██████▏    | 224/400 [00:05<00:04, 38.13it/s, v_num=1, train_loss_step=13.1, train_loss_epoch=12.7]"
     ]
    },
    {
     "name": "stderr",
     "output_type": "stream",
     "text": [
      "D:\\Anaconda\\envs\\scvi_test\\Lib\\site-packages\\scvi\\module\\_vae.py:458: UserWarning: The value argument must be within the support of the distribution\n",
      "  reconst_loss = -generative_outputs[\"px\"].log_prob(x).sum(-1)\n",
      "D:\\Anaconda\\envs\\scvi_test\\Lib\\site-packages\\scvi\\module\\_vae.py:458: UserWarning: The value argument must be within the support of the distribution\n",
      "  reconst_loss = -generative_outputs[\"px\"].log_prob(x).sum(-1)\n",
      "D:\\Anaconda\\envs\\scvi_test\\Lib\\site-packages\\scvi\\module\\_vae.py:458: UserWarning: The value argument must be within the support of the distribution\n",
      "  reconst_loss = -generative_outputs[\"px\"].log_prob(x).sum(-1)\n",
      "D:\\Anaconda\\envs\\scvi_test\\Lib\\site-packages\\scvi\\module\\_vae.py:458: UserWarning: The value argument must be within the support of the distribution\n",
      "  reconst_loss = -generative_outputs[\"px\"].log_prob(x).sum(-1)\n",
      "D:\\Anaconda\\envs\\scvi_test\\Lib\\site-packages\\scvi\\module\\_vae.py:458: UserWarning: The value argument must be within the support of the distribution\n",
      "  reconst_loss = -generative_outputs[\"px\"].log_prob(x).sum(-1)\n"
     ]
    },
    {
     "name": "stdout",
     "output_type": "stream",
     "text": [
      "Epoch 228/400:  57%|██████▎    | 228/400 [00:06<00:04, 37.81it/s, v_num=1, train_loss_step=13.3, train_loss_epoch=12.7]"
     ]
    },
    {
     "name": "stderr",
     "output_type": "stream",
     "text": [
      "D:\\Anaconda\\envs\\scvi_test\\Lib\\site-packages\\scvi\\module\\_vae.py:458: UserWarning: The value argument must be within the support of the distribution\n",
      "  reconst_loss = -generative_outputs[\"px\"].log_prob(x).sum(-1)\n",
      "D:\\Anaconda\\envs\\scvi_test\\Lib\\site-packages\\scvi\\module\\_vae.py:458: UserWarning: The value argument must be within the support of the distribution\n",
      "  reconst_loss = -generative_outputs[\"px\"].log_prob(x).sum(-1)\n",
      "D:\\Anaconda\\envs\\scvi_test\\Lib\\site-packages\\scvi\\module\\_vae.py:458: UserWarning: The value argument must be within the support of the distribution\n",
      "  reconst_loss = -generative_outputs[\"px\"].log_prob(x).sum(-1)\n",
      "D:\\Anaconda\\envs\\scvi_test\\Lib\\site-packages\\scvi\\module\\_vae.py:458: UserWarning: The value argument must be within the support of the distribution\n",
      "  reconst_loss = -generative_outputs[\"px\"].log_prob(x).sum(-1)\n",
      "D:\\Anaconda\\envs\\scvi_test\\Lib\\site-packages\\scvi\\module\\_vae.py:458: UserWarning: The value argument must be within the support of the distribution\n",
      "  reconst_loss = -generative_outputs[\"px\"].log_prob(x).sum(-1)\n"
     ]
    },
    {
     "name": "stdout",
     "output_type": "stream",
     "text": [
      "Epoch 231/400:  58%|██████▎    | 231/400 [00:06<00:04, 37.57it/s, v_num=1, train_loss_step=12.5, train_loss_epoch=12.7]"
     ]
    },
    {
     "name": "stderr",
     "output_type": "stream",
     "text": [
      "D:\\Anaconda\\envs\\scvi_test\\Lib\\site-packages\\scvi\\module\\_vae.py:458: UserWarning: The value argument must be within the support of the distribution\n",
      "  reconst_loss = -generative_outputs[\"px\"].log_prob(x).sum(-1)\n",
      "D:\\Anaconda\\envs\\scvi_test\\Lib\\site-packages\\scvi\\module\\_vae.py:458: UserWarning: The value argument must be within the support of the distribution\n",
      "  reconst_loss = -generative_outputs[\"px\"].log_prob(x).sum(-1)\n",
      "D:\\Anaconda\\envs\\scvi_test\\Lib\\site-packages\\scvi\\module\\_vae.py:458: UserWarning: The value argument must be within the support of the distribution\n",
      "  reconst_loss = -generative_outputs[\"px\"].log_prob(x).sum(-1)\n"
     ]
    },
    {
     "name": "stdout",
     "output_type": "stream",
     "text": [
      "Epoch 235/400:  59%|██████▍    | 235/400 [00:06<00:04, 38.17it/s, v_num=1, train_loss_step=12.5, train_loss_epoch=12.6]"
     ]
    },
    {
     "name": "stderr",
     "output_type": "stream",
     "text": [
      "D:\\Anaconda\\envs\\scvi_test\\Lib\\site-packages\\scvi\\module\\_vae.py:458: UserWarning: The value argument must be within the support of the distribution\n",
      "  reconst_loss = -generative_outputs[\"px\"].log_prob(x).sum(-1)\n",
      "D:\\Anaconda\\envs\\scvi_test\\Lib\\site-packages\\scvi\\module\\_vae.py:458: UserWarning: The value argument must be within the support of the distribution\n",
      "  reconst_loss = -generative_outputs[\"px\"].log_prob(x).sum(-1)\n",
      "D:\\Anaconda\\envs\\scvi_test\\Lib\\site-packages\\scvi\\module\\_vae.py:458: UserWarning: The value argument must be within the support of the distribution\n",
      "  reconst_loss = -generative_outputs[\"px\"].log_prob(x).sum(-1)\n",
      "D:\\Anaconda\\envs\\scvi_test\\Lib\\site-packages\\scvi\\module\\_vae.py:458: UserWarning: The value argument must be within the support of the distribution\n",
      "  reconst_loss = -generative_outputs[\"px\"].log_prob(x).sum(-1)\n",
      "D:\\Anaconda\\envs\\scvi_test\\Lib\\site-packages\\scvi\\module\\_vae.py:458: UserWarning: The value argument must be within the support of the distribution\n",
      "  reconst_loss = -generative_outputs[\"px\"].log_prob(x).sum(-1)\n"
     ]
    },
    {
     "name": "stdout",
     "output_type": "stream",
     "text": [
      "Epoch 239/400:  60%|███████▏    | 238/400 [00:06<00:04, 38.17it/s, v_num=1, train_loss_step=9.2, train_loss_epoch=12.6]"
     ]
    },
    {
     "name": "stderr",
     "output_type": "stream",
     "text": [
      "D:\\Anaconda\\envs\\scvi_test\\Lib\\site-packages\\scvi\\module\\_vae.py:458: UserWarning: The value argument must be within the support of the distribution\n",
      "  reconst_loss = -generative_outputs[\"px\"].log_prob(x).sum(-1)\n",
      "D:\\Anaconda\\envs\\scvi_test\\Lib\\site-packages\\scvi\\module\\_vae.py:458: UserWarning: The value argument must be within the support of the distribution\n",
      "  reconst_loss = -generative_outputs[\"px\"].log_prob(x).sum(-1)\n",
      "D:\\Anaconda\\envs\\scvi_test\\Lib\\site-packages\\scvi\\module\\_vae.py:458: UserWarning: The value argument must be within the support of the distribution\n",
      "  reconst_loss = -generative_outputs[\"px\"].log_prob(x).sum(-1)\n",
      "D:\\Anaconda\\envs\\scvi_test\\Lib\\site-packages\\scvi\\module\\_vae.py:458: UserWarning: The value argument must be within the support of the distribution\n",
      "  reconst_loss = -generative_outputs[\"px\"].log_prob(x).sum(-1)\n"
     ]
    },
    {
     "name": "stdout",
     "output_type": "stream",
     "text": [
      "Epoch 243/400:  61%|██████▋    | 243/400 [00:06<00:04, 38.61it/s, v_num=1, train_loss_step=12.6, train_loss_epoch=12.8]"
     ]
    },
    {
     "name": "stderr",
     "output_type": "stream",
     "text": [
      "D:\\Anaconda\\envs\\scvi_test\\Lib\\site-packages\\scvi\\module\\_vae.py:458: UserWarning: The value argument must be within the support of the distribution\n",
      "  reconst_loss = -generative_outputs[\"px\"].log_prob(x).sum(-1)\n",
      "D:\\Anaconda\\envs\\scvi_test\\Lib\\site-packages\\scvi\\module\\_vae.py:458: UserWarning: The value argument must be within the support of the distribution\n",
      "  reconst_loss = -generative_outputs[\"px\"].log_prob(x).sum(-1)\n",
      "D:\\Anaconda\\envs\\scvi_test\\Lib\\site-packages\\scvi\\module\\_vae.py:458: UserWarning: The value argument must be within the support of the distribution\n",
      "  reconst_loss = -generative_outputs[\"px\"].log_prob(x).sum(-1)\n",
      "D:\\Anaconda\\envs\\scvi_test\\Lib\\site-packages\\scvi\\module\\_vae.py:458: UserWarning: The value argument must be within the support of the distribution\n",
      "  reconst_loss = -generative_outputs[\"px\"].log_prob(x).sum(-1)\n",
      "D:\\Anaconda\\envs\\scvi_test\\Lib\\site-packages\\scvi\\module\\_vae.py:458: UserWarning: The value argument must be within the support of the distribution\n",
      "  reconst_loss = -generative_outputs[\"px\"].log_prob(x).sum(-1)\n"
     ]
    },
    {
     "name": "stdout",
     "output_type": "stream",
     "text": [
      "Epoch 246/400:  62%|███████▉     | 246/400 [00:06<00:03, 38.61it/s, v_num=1, train_loss_step=11, train_loss_epoch=12.7]"
     ]
    },
    {
     "name": "stderr",
     "output_type": "stream",
     "text": [
      "D:\\Anaconda\\envs\\scvi_test\\Lib\\site-packages\\scvi\\module\\_vae.py:458: UserWarning: The value argument must be within the support of the distribution\n",
      "  reconst_loss = -generative_outputs[\"px\"].log_prob(x).sum(-1)\n",
      "D:\\Anaconda\\envs\\scvi_test\\Lib\\site-packages\\scvi\\module\\_vae.py:458: UserWarning: The value argument must be within the support of the distribution\n",
      "  reconst_loss = -generative_outputs[\"px\"].log_prob(x).sum(-1)\n",
      "D:\\Anaconda\\envs\\scvi_test\\Lib\\site-packages\\scvi\\module\\_vae.py:458: UserWarning: The value argument must be within the support of the distribution\n",
      "  reconst_loss = -generative_outputs[\"px\"].log_prob(x).sum(-1)\n",
      "D:\\Anaconda\\envs\\scvi_test\\Lib\\site-packages\\scvi\\module\\_vae.py:458: UserWarning: The value argument must be within the support of the distribution\n",
      "  reconst_loss = -generative_outputs[\"px\"].log_prob(x).sum(-1)\n"
     ]
    },
    {
     "name": "stdout",
     "output_type": "stream",
     "text": [
      "Epoch 251/400:  63%|██████▉    | 251/400 [00:06<00:03, 38.49it/s, v_num=1, train_loss_step=12.1, train_loss_epoch=12.9]"
     ]
    },
    {
     "name": "stderr",
     "output_type": "stream",
     "text": [
      "D:\\Anaconda\\envs\\scvi_test\\Lib\\site-packages\\scvi\\module\\_vae.py:458: UserWarning: The value argument must be within the support of the distribution\n",
      "  reconst_loss = -generative_outputs[\"px\"].log_prob(x).sum(-1)\n",
      "D:\\Anaconda\\envs\\scvi_test\\Lib\\site-packages\\scvi\\module\\_vae.py:458: UserWarning: The value argument must be within the support of the distribution\n",
      "  reconst_loss = -generative_outputs[\"px\"].log_prob(x).sum(-1)\n",
      "D:\\Anaconda\\envs\\scvi_test\\Lib\\site-packages\\scvi\\module\\_vae.py:458: UserWarning: The value argument must be within the support of the distribution\n",
      "  reconst_loss = -generative_outputs[\"px\"].log_prob(x).sum(-1)\n",
      "D:\\Anaconda\\envs\\scvi_test\\Lib\\site-packages\\scvi\\module\\_vae.py:458: UserWarning: The value argument must be within the support of the distribution\n",
      "  reconst_loss = -generative_outputs[\"px\"].log_prob(x).sum(-1)\n",
      "D:\\Anaconda\\envs\\scvi_test\\Lib\\site-packages\\scvi\\module\\_vae.py:458: UserWarning: The value argument must be within the support of the distribution\n",
      "  reconst_loss = -generative_outputs[\"px\"].log_prob(x).sum(-1)\n",
      "D:\\Anaconda\\envs\\scvi_test\\Lib\\site-packages\\scvi\\module\\_vae.py:458: UserWarning: The value argument must be within the support of the distribution\n",
      "  reconst_loss = -generative_outputs[\"px\"].log_prob(x).sum(-1)\n"
     ]
    },
    {
     "name": "stdout",
     "output_type": "stream",
     "text": [
      "Epoch 254/400:  64%|██████▉    | 254/400 [00:06<00:03, 38.49it/s, v_num=1, train_loss_step=11.2, train_loss_epoch=12.8]"
     ]
    },
    {
     "name": "stderr",
     "output_type": "stream",
     "text": [
      "D:\\Anaconda\\envs\\scvi_test\\Lib\\site-packages\\scvi\\module\\_vae.py:458: UserWarning: The value argument must be within the support of the distribution\n",
      "  reconst_loss = -generative_outputs[\"px\"].log_prob(x).sum(-1)\n",
      "D:\\Anaconda\\envs\\scvi_test\\Lib\\site-packages\\scvi\\module\\_vae.py:458: UserWarning: The value argument must be within the support of the distribution\n",
      "  reconst_loss = -generative_outputs[\"px\"].log_prob(x).sum(-1)\n",
      "D:\\Anaconda\\envs\\scvi_test\\Lib\\site-packages\\scvi\\module\\_vae.py:458: UserWarning: The value argument must be within the support of the distribution\n",
      "  reconst_loss = -generative_outputs[\"px\"].log_prob(x).sum(-1)\n",
      "D:\\Anaconda\\envs\\scvi_test\\Lib\\site-packages\\scvi\\module\\_vae.py:458: UserWarning: The value argument must be within the support of the distribution\n",
      "  reconst_loss = -generative_outputs[\"px\"].log_prob(x).sum(-1)\n"
     ]
    },
    {
     "name": "stdout",
     "output_type": "stream",
     "text": [
      "Epoch 258/400:  64%|███████    | 258/400 [00:06<00:03, 38.42it/s, v_num=1, train_loss_step=11.8, train_loss_epoch=12.9]"
     ]
    },
    {
     "name": "stderr",
     "output_type": "stream",
     "text": [
      "D:\\Anaconda\\envs\\scvi_test\\Lib\\site-packages\\scvi\\module\\_vae.py:458: UserWarning: The value argument must be within the support of the distribution\n",
      "  reconst_loss = -generative_outputs[\"px\"].log_prob(x).sum(-1)\n",
      "D:\\Anaconda\\envs\\scvi_test\\Lib\\site-packages\\scvi\\module\\_vae.py:458: UserWarning: The value argument must be within the support of the distribution\n",
      "  reconst_loss = -generative_outputs[\"px\"].log_prob(x).sum(-1)\n",
      "D:\\Anaconda\\envs\\scvi_test\\Lib\\site-packages\\scvi\\module\\_vae.py:458: UserWarning: The value argument must be within the support of the distribution\n",
      "  reconst_loss = -generative_outputs[\"px\"].log_prob(x).sum(-1)\n",
      "D:\\Anaconda\\envs\\scvi_test\\Lib\\site-packages\\scvi\\module\\_vae.py:458: UserWarning: The value argument must be within the support of the distribution\n",
      "  reconst_loss = -generative_outputs[\"px\"].log_prob(x).sum(-1)\n",
      "D:\\Anaconda\\envs\\scvi_test\\Lib\\site-packages\\scvi\\module\\_vae.py:458: UserWarning: The value argument must be within the support of the distribution\n",
      "  reconst_loss = -generative_outputs[\"px\"].log_prob(x).sum(-1)\n"
     ]
    },
    {
     "name": "stdout",
     "output_type": "stream",
     "text": [
      "Epoch 261/400:  65%|███████▏   | 261/400 [00:06<00:03, 38.28it/s, v_num=1, train_loss_step=12.1, train_loss_epoch=12.8]"
     ]
    },
    {
     "name": "stderr",
     "output_type": "stream",
     "text": [
      "D:\\Anaconda\\envs\\scvi_test\\Lib\\site-packages\\scvi\\module\\_vae.py:458: UserWarning: The value argument must be within the support of the distribution\n",
      "  reconst_loss = -generative_outputs[\"px\"].log_prob(x).sum(-1)\n",
      "D:\\Anaconda\\envs\\scvi_test\\Lib\\site-packages\\scvi\\module\\_vae.py:458: UserWarning: The value argument must be within the support of the distribution\n",
      "  reconst_loss = -generative_outputs[\"px\"].log_prob(x).sum(-1)\n",
      "D:\\Anaconda\\envs\\scvi_test\\Lib\\site-packages\\scvi\\module\\_vae.py:458: UserWarning: The value argument must be within the support of the distribution\n",
      "  reconst_loss = -generative_outputs[\"px\"].log_prob(x).sum(-1)\n"
     ]
    },
    {
     "name": "stdout",
     "output_type": "stream",
     "text": [
      "Epoch 265/400:  66%|███████▎   | 265/400 [00:07<00:03, 38.41it/s, v_num=1, train_loss_step=11.5, train_loss_epoch=12.9]"
     ]
    },
    {
     "name": "stderr",
     "output_type": "stream",
     "text": [
      "D:\\Anaconda\\envs\\scvi_test\\Lib\\site-packages\\scvi\\module\\_vae.py:458: UserWarning: The value argument must be within the support of the distribution\n",
      "  reconst_loss = -generative_outputs[\"px\"].log_prob(x).sum(-1)\n",
      "D:\\Anaconda\\envs\\scvi_test\\Lib\\site-packages\\scvi\\module\\_vae.py:458: UserWarning: The value argument must be within the support of the distribution\n",
      "  reconst_loss = -generative_outputs[\"px\"].log_prob(x).sum(-1)\n",
      "D:\\Anaconda\\envs\\scvi_test\\Lib\\site-packages\\scvi\\module\\_vae.py:458: UserWarning: The value argument must be within the support of the distribution\n",
      "  reconst_loss = -generative_outputs[\"px\"].log_prob(x).sum(-1)\n",
      "D:\\Anaconda\\envs\\scvi_test\\Lib\\site-packages\\scvi\\module\\_vae.py:458: UserWarning: The value argument must be within the support of the distribution\n",
      "  reconst_loss = -generative_outputs[\"px\"].log_prob(x).sum(-1)\n",
      "D:\\Anaconda\\envs\\scvi_test\\Lib\\site-packages\\scvi\\module\\_vae.py:458: UserWarning: The value argument must be within the support of the distribution\n",
      "  reconst_loss = -generative_outputs[\"px\"].log_prob(x).sum(-1)\n"
     ]
    },
    {
     "name": "stdout",
     "output_type": "stream",
     "text": [
      "Epoch 268/400:  67%|███████▎   | 268/400 [00:07<00:03, 37.47it/s, v_num=1, train_loss_step=14.1, train_loss_epoch=12.6]"
     ]
    },
    {
     "name": "stderr",
     "output_type": "stream",
     "text": [
      "D:\\Anaconda\\envs\\scvi_test\\Lib\\site-packages\\scvi\\module\\_vae.py:458: UserWarning: The value argument must be within the support of the distribution\n",
      "  reconst_loss = -generative_outputs[\"px\"].log_prob(x).sum(-1)\n",
      "D:\\Anaconda\\envs\\scvi_test\\Lib\\site-packages\\scvi\\module\\_vae.py:458: UserWarning: The value argument must be within the support of the distribution\n",
      "  reconst_loss = -generative_outputs[\"px\"].log_prob(x).sum(-1)\n",
      "D:\\Anaconda\\envs\\scvi_test\\Lib\\site-packages\\scvi\\module\\_vae.py:458: UserWarning: The value argument must be within the support of the distribution\n",
      "  reconst_loss = -generative_outputs[\"px\"].log_prob(x).sum(-1)\n",
      "D:\\Anaconda\\envs\\scvi_test\\Lib\\site-packages\\scvi\\module\\_vae.py:458: UserWarning: The value argument must be within the support of the distribution\n",
      "  reconst_loss = -generative_outputs[\"px\"].log_prob(x).sum(-1)\n"
     ]
    },
    {
     "name": "stdout",
     "output_type": "stream",
     "text": [
      "Epoch 273/400:  68%|███████▍   | 272/400 [00:07<00:03, 37.85it/s, v_num=1, train_loss_step=12.7, train_loss_epoch=12.8]"
     ]
    },
    {
     "name": "stderr",
     "output_type": "stream",
     "text": [
      "D:\\Anaconda\\envs\\scvi_test\\Lib\\site-packages\\scvi\\module\\_vae.py:458: UserWarning: The value argument must be within the support of the distribution\n",
      "  reconst_loss = -generative_outputs[\"px\"].log_prob(x).sum(-1)\n",
      "D:\\Anaconda\\envs\\scvi_test\\Lib\\site-packages\\scvi\\module\\_vae.py:458: UserWarning: The value argument must be within the support of the distribution\n",
      "  reconst_loss = -generative_outputs[\"px\"].log_prob(x).sum(-1)\n",
      "D:\\Anaconda\\envs\\scvi_test\\Lib\\site-packages\\scvi\\module\\_vae.py:458: UserWarning: The value argument must be within the support of the distribution\n",
      "  reconst_loss = -generative_outputs[\"px\"].log_prob(x).sum(-1)\n",
      "D:\\Anaconda\\envs\\scvi_test\\Lib\\site-packages\\scvi\\module\\_vae.py:458: UserWarning: The value argument must be within the support of the distribution\n",
      "  reconst_loss = -generative_outputs[\"px\"].log_prob(x).sum(-1)\n"
     ]
    },
    {
     "name": "stdout",
     "output_type": "stream",
     "text": [
      "Epoch 275/400:  69%|███████▌   | 275/400 [00:07<00:03, 37.73it/s, v_num=1, train_loss_step=13.1, train_loss_epoch=12.7]"
     ]
    },
    {
     "name": "stderr",
     "output_type": "stream",
     "text": [
      "D:\\Anaconda\\envs\\scvi_test\\Lib\\site-packages\\scvi\\module\\_vae.py:458: UserWarning: The value argument must be within the support of the distribution\n",
      "  reconst_loss = -generative_outputs[\"px\"].log_prob(x).sum(-1)\n",
      "D:\\Anaconda\\envs\\scvi_test\\Lib\\site-packages\\scvi\\module\\_vae.py:458: UserWarning: The value argument must be within the support of the distribution\n",
      "  reconst_loss = -generative_outputs[\"px\"].log_prob(x).sum(-1)\n",
      "D:\\Anaconda\\envs\\scvi_test\\Lib\\site-packages\\scvi\\module\\_vae.py:458: UserWarning: The value argument must be within the support of the distribution\n",
      "  reconst_loss = -generative_outputs[\"px\"].log_prob(x).sum(-1)\n",
      "D:\\Anaconda\\envs\\scvi_test\\Lib\\site-packages\\scvi\\module\\_vae.py:458: UserWarning: The value argument must be within the support of the distribution\n",
      "  reconst_loss = -generative_outputs[\"px\"].log_prob(x).sum(-1)\n"
     ]
    },
    {
     "name": "stdout",
     "output_type": "stream",
     "text": [
      "Epoch 280/400:  70%|███████▋   | 280/400 [00:07<00:03, 38.00it/s, v_num=1, train_loss_step=12.5, train_loss_epoch=12.7]"
     ]
    },
    {
     "name": "stderr",
     "output_type": "stream",
     "text": [
      "D:\\Anaconda\\envs\\scvi_test\\Lib\\site-packages\\scvi\\module\\_vae.py:458: UserWarning: The value argument must be within the support of the distribution\n",
      "  reconst_loss = -generative_outputs[\"px\"].log_prob(x).sum(-1)\n",
      "D:\\Anaconda\\envs\\scvi_test\\Lib\\site-packages\\scvi\\module\\_vae.py:458: UserWarning: The value argument must be within the support of the distribution\n",
      "  reconst_loss = -generative_outputs[\"px\"].log_prob(x).sum(-1)\n",
      "D:\\Anaconda\\envs\\scvi_test\\Lib\\site-packages\\scvi\\module\\_vae.py:458: UserWarning: The value argument must be within the support of the distribution\n",
      "  reconst_loss = -generative_outputs[\"px\"].log_prob(x).sum(-1)\n",
      "D:\\Anaconda\\envs\\scvi_test\\Lib\\site-packages\\scvi\\module\\_vae.py:458: UserWarning: The value argument must be within the support of the distribution\n",
      "  reconst_loss = -generative_outputs[\"px\"].log_prob(x).sum(-1)\n",
      "D:\\Anaconda\\envs\\scvi_test\\Lib\\site-packages\\scvi\\module\\_vae.py:458: UserWarning: The value argument must be within the support of the distribution\n",
      "  reconst_loss = -generative_outputs[\"px\"].log_prob(x).sum(-1)\n",
      "D:\\Anaconda\\envs\\scvi_test\\Lib\\site-packages\\scvi\\module\\_vae.py:458: UserWarning: The value argument must be within the support of the distribution\n",
      "  reconst_loss = -generative_outputs[\"px\"].log_prob(x).sum(-1)\n"
     ]
    },
    {
     "name": "stdout",
     "output_type": "stream",
     "text": [
      "Epoch 282/400:  70%|███████▊   | 282/400 [00:07<00:03, 38.00it/s, v_num=1, train_loss_step=12.6, train_loss_epoch=12.8]"
     ]
    },
    {
     "name": "stderr",
     "output_type": "stream",
     "text": [
      "D:\\Anaconda\\envs\\scvi_test\\Lib\\site-packages\\scvi\\module\\_vae.py:458: UserWarning: The value argument must be within the support of the distribution\n",
      "  reconst_loss = -generative_outputs[\"px\"].log_prob(x).sum(-1)\n",
      "D:\\Anaconda\\envs\\scvi_test\\Lib\\site-packages\\scvi\\module\\_vae.py:458: UserWarning: The value argument must be within the support of the distribution\n",
      "  reconst_loss = -generative_outputs[\"px\"].log_prob(x).sum(-1)\n"
     ]
    },
    {
     "name": "stdout",
     "output_type": "stream",
     "text": [
      "Epoch 287/400:  72%|███████▉   | 287/400 [00:07<00:03, 36.61it/s, v_num=1, train_loss_step=10.6, train_loss_epoch=13.1]"
     ]
    },
    {
     "name": "stderr",
     "output_type": "stream",
     "text": [
      "D:\\Anaconda\\envs\\scvi_test\\Lib\\site-packages\\scvi\\module\\_vae.py:458: UserWarning: The value argument must be within the support of the distribution\n",
      "  reconst_loss = -generative_outputs[\"px\"].log_prob(x).sum(-1)\n",
      "D:\\Anaconda\\envs\\scvi_test\\Lib\\site-packages\\scvi\\module\\_vae.py:458: UserWarning: The value argument must be within the support of the distribution\n",
      "  reconst_loss = -generative_outputs[\"px\"].log_prob(x).sum(-1)\n",
      "D:\\Anaconda\\envs\\scvi_test\\Lib\\site-packages\\scvi\\module\\_vae.py:458: UserWarning: The value argument must be within the support of the distribution\n",
      "  reconst_loss = -generative_outputs[\"px\"].log_prob(x).sum(-1)\n",
      "D:\\Anaconda\\envs\\scvi_test\\Lib\\site-packages\\scvi\\module\\_vae.py:458: UserWarning: The value argument must be within the support of the distribution\n",
      "  reconst_loss = -generative_outputs[\"px\"].log_prob(x).sum(-1)\n",
      "D:\\Anaconda\\envs\\scvi_test\\Lib\\site-packages\\scvi\\module\\_vae.py:458: UserWarning: The value argument must be within the support of the distribution\n",
      "  reconst_loss = -generative_outputs[\"px\"].log_prob(x).sum(-1)\n",
      "D:\\Anaconda\\envs\\scvi_test\\Lib\\site-packages\\scvi\\module\\_vae.py:458: UserWarning: The value argument must be within the support of the distribution\n",
      "  reconst_loss = -generative_outputs[\"px\"].log_prob(x).sum(-1)\n",
      "D:\\Anaconda\\envs\\scvi_test\\Lib\\site-packages\\scvi\\module\\_vae.py:458: UserWarning: The value argument must be within the support of the distribution\n",
      "  reconst_loss = -generative_outputs[\"px\"].log_prob(x).sum(-1)\n"
     ]
    },
    {
     "name": "stdout",
     "output_type": "stream",
     "text": [
      "Epoch 289/400:  72%|███████▉   | 289/400 [00:07<00:03, 36.61it/s, v_num=1, train_loss_step=9.24, train_loss_epoch=12.8]"
     ]
    },
    {
     "name": "stderr",
     "output_type": "stream",
     "text": [
      "D:\\Anaconda\\envs\\scvi_test\\Lib\\site-packages\\scvi\\module\\_vae.py:458: UserWarning: The value argument must be within the support of the distribution\n",
      "  reconst_loss = -generative_outputs[\"px\"].log_prob(x).sum(-1)\n",
      "D:\\Anaconda\\envs\\scvi_test\\Lib\\site-packages\\scvi\\module\\_vae.py:458: UserWarning: The value argument must be within the support of the distribution\n",
      "  reconst_loss = -generative_outputs[\"px\"].log_prob(x).sum(-1)\n"
     ]
    },
    {
     "name": "stdout",
     "output_type": "stream",
     "text": [
      "Epoch 295/400:  74%|████████   | 295/400 [00:07<00:02, 37.54it/s, v_num=1, train_loss_step=10.3, train_loss_epoch=12.9]"
     ]
    },
    {
     "name": "stderr",
     "output_type": "stream",
     "text": [
      "D:\\Anaconda\\envs\\scvi_test\\Lib\\site-packages\\scvi\\module\\_vae.py:458: UserWarning: The value argument must be within the support of the distribution\n",
      "  reconst_loss = -generative_outputs[\"px\"].log_prob(x).sum(-1)\n",
      "D:\\Anaconda\\envs\\scvi_test\\Lib\\site-packages\\scvi\\module\\_vae.py:458: UserWarning: The value argument must be within the support of the distribution\n",
      "  reconst_loss = -generative_outputs[\"px\"].log_prob(x).sum(-1)\n",
      "D:\\Anaconda\\envs\\scvi_test\\Lib\\site-packages\\scvi\\module\\_vae.py:458: UserWarning: The value argument must be within the support of the distribution\n",
      "  reconst_loss = -generative_outputs[\"px\"].log_prob(x).sum(-1)\n",
      "D:\\Anaconda\\envs\\scvi_test\\Lib\\site-packages\\scvi\\module\\_vae.py:458: UserWarning: The value argument must be within the support of the distribution\n",
      "  reconst_loss = -generative_outputs[\"px\"].log_prob(x).sum(-1)\n",
      "D:\\Anaconda\\envs\\scvi_test\\Lib\\site-packages\\scvi\\module\\_vae.py:458: UserWarning: The value argument must be within the support of the distribution\n",
      "  reconst_loss = -generative_outputs[\"px\"].log_prob(x).sum(-1)\n",
      "D:\\Anaconda\\envs\\scvi_test\\Lib\\site-packages\\scvi\\module\\_vae.py:458: UserWarning: The value argument must be within the support of the distribution\n",
      "  reconst_loss = -generative_outputs[\"px\"].log_prob(x).sum(-1)\n",
      "D:\\Anaconda\\envs\\scvi_test\\Lib\\site-packages\\scvi\\module\\_vae.py:458: UserWarning: The value argument must be within the support of the distribution\n",
      "  reconst_loss = -generative_outputs[\"px\"].log_prob(x).sum(-1)\n"
     ]
    },
    {
     "name": "stdout",
     "output_type": "stream",
     "text": [
      "Epoch 296/400:  74%|████████▏  | 296/400 [00:07<00:02, 37.54it/s, v_num=1, train_loss_step=13.6, train_loss_epoch=12.9]"
     ]
    },
    {
     "name": "stderr",
     "output_type": "stream",
     "text": [
      "D:\\Anaconda\\envs\\scvi_test\\Lib\\site-packages\\scvi\\module\\_vae.py:458: UserWarning: The value argument must be within the support of the distribution\n",
      "  reconst_loss = -generative_outputs[\"px\"].log_prob(x).sum(-1)\n"
     ]
    },
    {
     "name": "stdout",
     "output_type": "stream",
     "text": [
      "Epoch 302/400:  76%|████████▎  | 302/400 [00:08<00:02, 37.63it/s, v_num=1, train_loss_step=12.6, train_loss_epoch=12.8]"
     ]
    },
    {
     "name": "stderr",
     "output_type": "stream",
     "text": [
      "D:\\Anaconda\\envs\\scvi_test\\Lib\\site-packages\\scvi\\module\\_vae.py:458: UserWarning: The value argument must be within the support of the distribution\n",
      "  reconst_loss = -generative_outputs[\"px\"].log_prob(x).sum(-1)\n",
      "D:\\Anaconda\\envs\\scvi_test\\Lib\\site-packages\\scvi\\module\\_vae.py:458: UserWarning: The value argument must be within the support of the distribution\n",
      "  reconst_loss = -generative_outputs[\"px\"].log_prob(x).sum(-1)\n",
      "D:\\Anaconda\\envs\\scvi_test\\Lib\\site-packages\\scvi\\module\\_vae.py:458: UserWarning: The value argument must be within the support of the distribution\n",
      "  reconst_loss = -generative_outputs[\"px\"].log_prob(x).sum(-1)\n",
      "D:\\Anaconda\\envs\\scvi_test\\Lib\\site-packages\\scvi\\module\\_vae.py:458: UserWarning: The value argument must be within the support of the distribution\n",
      "  reconst_loss = -generative_outputs[\"px\"].log_prob(x).sum(-1)\n",
      "D:\\Anaconda\\envs\\scvi_test\\Lib\\site-packages\\scvi\\module\\_vae.py:458: UserWarning: The value argument must be within the support of the distribution\n",
      "  reconst_loss = -generative_outputs[\"px\"].log_prob(x).sum(-1)\n",
      "D:\\Anaconda\\envs\\scvi_test\\Lib\\site-packages\\scvi\\module\\_vae.py:458: UserWarning: The value argument must be within the support of the distribution\n",
      "  reconst_loss = -generative_outputs[\"px\"].log_prob(x).sum(-1)\n",
      "D:\\Anaconda\\envs\\scvi_test\\Lib\\site-packages\\scvi\\module\\_vae.py:458: UserWarning: The value argument must be within the support of the distribution\n",
      "  reconst_loss = -generative_outputs[\"px\"].log_prob(x).sum(-1)\n"
     ]
    },
    {
     "name": "stdout",
     "output_type": "stream",
     "text": [
      "Epoch 303/400:  76%|████████▎  | 303/400 [00:08<00:02, 37.68it/s, v_num=1, train_loss_step=12.6, train_loss_epoch=12.8]"
     ]
    },
    {
     "name": "stderr",
     "output_type": "stream",
     "text": [
      "D:\\Anaconda\\envs\\scvi_test\\Lib\\site-packages\\scvi\\module\\_vae.py:458: UserWarning: The value argument must be within the support of the distribution\n",
      "  reconst_loss = -generative_outputs[\"px\"].log_prob(x).sum(-1)\n"
     ]
    },
    {
     "name": "stdout",
     "output_type": "stream",
     "text": [
      "Epoch 309/400:  77%|███████████▌   | 309/400 [00:08<00:02, 36.72it/s, v_num=1, train_loss_step=15, train_loss_epoch=13]"
     ]
    },
    {
     "name": "stderr",
     "output_type": "stream",
     "text": [
      "D:\\Anaconda\\envs\\scvi_test\\Lib\\site-packages\\scvi\\module\\_vae.py:458: UserWarning: The value argument must be within the support of the distribution\n",
      "  reconst_loss = -generative_outputs[\"px\"].log_prob(x).sum(-1)\n",
      "D:\\Anaconda\\envs\\scvi_test\\Lib\\site-packages\\scvi\\module\\_vae.py:458: UserWarning: The value argument must be within the support of the distribution\n",
      "  reconst_loss = -generative_outputs[\"px\"].log_prob(x).sum(-1)\n",
      "D:\\Anaconda\\envs\\scvi_test\\Lib\\site-packages\\scvi\\module\\_vae.py:458: UserWarning: The value argument must be within the support of the distribution\n",
      "  reconst_loss = -generative_outputs[\"px\"].log_prob(x).sum(-1)\n",
      "D:\\Anaconda\\envs\\scvi_test\\Lib\\site-packages\\scvi\\module\\_vae.py:458: UserWarning: The value argument must be within the support of the distribution\n",
      "  reconst_loss = -generative_outputs[\"px\"].log_prob(x).sum(-1)\n",
      "D:\\Anaconda\\envs\\scvi_test\\Lib\\site-packages\\scvi\\module\\_vae.py:458: UserWarning: The value argument must be within the support of the distribution\n",
      "  reconst_loss = -generative_outputs[\"px\"].log_prob(x).sum(-1)\n",
      "D:\\Anaconda\\envs\\scvi_test\\Lib\\site-packages\\scvi\\module\\_vae.py:458: UserWarning: The value argument must be within the support of the distribution\n",
      "  reconst_loss = -generative_outputs[\"px\"].log_prob(x).sum(-1)\n",
      "D:\\Anaconda\\envs\\scvi_test\\Lib\\site-packages\\scvi\\module\\_vae.py:458: UserWarning: The value argument must be within the support of the distribution\n",
      "  reconst_loss = -generative_outputs[\"px\"].log_prob(x).sum(-1)\n",
      "D:\\Anaconda\\envs\\scvi_test\\Lib\\site-packages\\scvi\\module\\_vae.py:458: UserWarning: The value argument must be within the support of the distribution\n",
      "  reconst_loss = -generative_outputs[\"px\"].log_prob(x).sum(-1)\n"
     ]
    },
    {
     "name": "stdout",
     "output_type": "stream",
     "text": [
      "Epoch 310/400:  78%|██████████   | 310/400 [00:08<00:02, 36.72it/s, v_num=1, train_loss_step=11.8, train_loss_epoch=13]"
     ]
    },
    {
     "name": "stderr",
     "output_type": "stream",
     "text": [
      "D:\\Anaconda\\envs\\scvi_test\\Lib\\site-packages\\scvi\\module\\_vae.py:458: UserWarning: The value argument must be within the support of the distribution\n",
      "  reconst_loss = -generative_outputs[\"px\"].log_prob(x).sum(-1)\n"
     ]
    },
    {
     "name": "stdout",
     "output_type": "stream",
     "text": [
      "Epoch 317/400:  79%|████████▋  | 317/400 [00:08<00:02, 37.49it/s, v_num=1, train_loss_step=9.89, train_loss_epoch=12.9]"
     ]
    },
    {
     "name": "stderr",
     "output_type": "stream",
     "text": [
      "D:\\Anaconda\\envs\\scvi_test\\Lib\\site-packages\\scvi\\module\\_vae.py:458: UserWarning: The value argument must be within the support of the distribution\n",
      "  reconst_loss = -generative_outputs[\"px\"].log_prob(x).sum(-1)\n",
      "D:\\Anaconda\\envs\\scvi_test\\Lib\\site-packages\\scvi\\module\\_vae.py:458: UserWarning: The value argument must be within the support of the distribution\n",
      "  reconst_loss = -generative_outputs[\"px\"].log_prob(x).sum(-1)\n",
      "D:\\Anaconda\\envs\\scvi_test\\Lib\\site-packages\\scvi\\module\\_vae.py:458: UserWarning: The value argument must be within the support of the distribution\n",
      "  reconst_loss = -generative_outputs[\"px\"].log_prob(x).sum(-1)\n",
      "D:\\Anaconda\\envs\\scvi_test\\Lib\\site-packages\\scvi\\module\\_vae.py:458: UserWarning: The value argument must be within the support of the distribution\n",
      "  reconst_loss = -generative_outputs[\"px\"].log_prob(x).sum(-1)\n",
      "D:\\Anaconda\\envs\\scvi_test\\Lib\\site-packages\\scvi\\module\\_vae.py:458: UserWarning: The value argument must be within the support of the distribution\n",
      "  reconst_loss = -generative_outputs[\"px\"].log_prob(x).sum(-1)\n",
      "D:\\Anaconda\\envs\\scvi_test\\Lib\\site-packages\\scvi\\module\\_vae.py:458: UserWarning: The value argument must be within the support of the distribution\n",
      "  reconst_loss = -generative_outputs[\"px\"].log_prob(x).sum(-1)\n",
      "D:\\Anaconda\\envs\\scvi_test\\Lib\\site-packages\\scvi\\module\\_vae.py:458: UserWarning: The value argument must be within the support of the distribution\n",
      "  reconst_loss = -generative_outputs[\"px\"].log_prob(x).sum(-1)\n",
      "D:\\Anaconda\\envs\\scvi_test\\Lib\\site-packages\\scvi\\module\\_vae.py:458: UserWarning: The value argument must be within the support of the distribution\n",
      "  reconst_loss = -generative_outputs[\"px\"].log_prob(x).sum(-1)\n",
      "D:\\Anaconda\\envs\\scvi_test\\Lib\\site-packages\\scvi\\module\\_vae.py:458: UserWarning: The value argument must be within the support of the distribution\n",
      "  reconst_loss = -generative_outputs[\"px\"].log_prob(x).sum(-1)\n"
     ]
    },
    {
     "name": "stdout",
     "output_type": "stream",
     "text": [
      "Epoch 325/400:  81%|████████▉  | 325/400 [00:08<00:01, 38.49it/s, v_num=1, train_loss_step=12.2, train_loss_epoch=12.8]"
     ]
    },
    {
     "name": "stderr",
     "output_type": "stream",
     "text": [
      "D:\\Anaconda\\envs\\scvi_test\\Lib\\site-packages\\scvi\\module\\_vae.py:458: UserWarning: The value argument must be within the support of the distribution\n",
      "  reconst_loss = -generative_outputs[\"px\"].log_prob(x).sum(-1)\n",
      "D:\\Anaconda\\envs\\scvi_test\\Lib\\site-packages\\scvi\\module\\_vae.py:458: UserWarning: The value argument must be within the support of the distribution\n",
      "  reconst_loss = -generative_outputs[\"px\"].log_prob(x).sum(-1)\n",
      "D:\\Anaconda\\envs\\scvi_test\\Lib\\site-packages\\scvi\\module\\_vae.py:458: UserWarning: The value argument must be within the support of the distribution\n",
      "  reconst_loss = -generative_outputs[\"px\"].log_prob(x).sum(-1)\n",
      "D:\\Anaconda\\envs\\scvi_test\\Lib\\site-packages\\scvi\\module\\_vae.py:458: UserWarning: The value argument must be within the support of the distribution\n",
      "  reconst_loss = -generative_outputs[\"px\"].log_prob(x).sum(-1)\n",
      "D:\\Anaconda\\envs\\scvi_test\\Lib\\site-packages\\scvi\\module\\_vae.py:458: UserWarning: The value argument must be within the support of the distribution\n",
      "  reconst_loss = -generative_outputs[\"px\"].log_prob(x).sum(-1)\n",
      "D:\\Anaconda\\envs\\scvi_test\\Lib\\site-packages\\scvi\\module\\_vae.py:458: UserWarning: The value argument must be within the support of the distribution\n",
      "  reconst_loss = -generative_outputs[\"px\"].log_prob(x).sum(-1)\n",
      "D:\\Anaconda\\envs\\scvi_test\\Lib\\site-packages\\scvi\\module\\_vae.py:458: UserWarning: The value argument must be within the support of the distribution\n",
      "  reconst_loss = -generative_outputs[\"px\"].log_prob(x).sum(-1)\n",
      "D:\\Anaconda\\envs\\scvi_test\\Lib\\site-packages\\scvi\\module\\_vae.py:458: UserWarning: The value argument must be within the support of the distribution\n",
      "  reconst_loss = -generative_outputs[\"px\"].log_prob(x).sum(-1)\n",
      "D:\\Anaconda\\envs\\scvi_test\\Lib\\site-packages\\scvi\\module\\_vae.py:458: UserWarning: The value argument must be within the support of the distribution\n",
      "  reconst_loss = -generative_outputs[\"px\"].log_prob(x).sum(-1)\n"
     ]
    },
    {
     "name": "stdout",
     "output_type": "stream",
     "text": [
      "Epoch 333/400:  83%|█████████▏ | 333/400 [00:08<00:01, 38.49it/s, v_num=1, train_loss_step=11.4, train_loss_epoch=13.1]"
     ]
    },
    {
     "name": "stderr",
     "output_type": "stream",
     "text": [
      "D:\\Anaconda\\envs\\scvi_test\\Lib\\site-packages\\scvi\\module\\_vae.py:458: UserWarning: The value argument must be within the support of the distribution\n",
      "  reconst_loss = -generative_outputs[\"px\"].log_prob(x).sum(-1)\n",
      "D:\\Anaconda\\envs\\scvi_test\\Lib\\site-packages\\scvi\\module\\_vae.py:458: UserWarning: The value argument must be within the support of the distribution\n",
      "  reconst_loss = -generative_outputs[\"px\"].log_prob(x).sum(-1)\n",
      "D:\\Anaconda\\envs\\scvi_test\\Lib\\site-packages\\scvi\\module\\_vae.py:458: UserWarning: The value argument must be within the support of the distribution\n",
      "  reconst_loss = -generative_outputs[\"px\"].log_prob(x).sum(-1)\n",
      "D:\\Anaconda\\envs\\scvi_test\\Lib\\site-packages\\scvi\\module\\_vae.py:458: UserWarning: The value argument must be within the support of the distribution\n",
      "  reconst_loss = -generative_outputs[\"px\"].log_prob(x).sum(-1)\n",
      "D:\\Anaconda\\envs\\scvi_test\\Lib\\site-packages\\scvi\\module\\_vae.py:458: UserWarning: The value argument must be within the support of the distribution\n",
      "  reconst_loss = -generative_outputs[\"px\"].log_prob(x).sum(-1)\n",
      "D:\\Anaconda\\envs\\scvi_test\\Lib\\site-packages\\scvi\\module\\_vae.py:458: UserWarning: The value argument must be within the support of the distribution\n",
      "  reconst_loss = -generative_outputs[\"px\"].log_prob(x).sum(-1)\n",
      "D:\\Anaconda\\envs\\scvi_test\\Lib\\site-packages\\scvi\\module\\_vae.py:458: UserWarning: The value argument must be within the support of the distribution\n",
      "  reconst_loss = -generative_outputs[\"px\"].log_prob(x).sum(-1)\n",
      "D:\\Anaconda\\envs\\scvi_test\\Lib\\site-packages\\scvi\\module\\_vae.py:458: UserWarning: The value argument must be within the support of the distribution\n",
      "  reconst_loss = -generative_outputs[\"px\"].log_prob(x).sum(-1)\n",
      "D:\\Anaconda\\envs\\scvi_test\\Lib\\site-packages\\scvi\\module\\_vae.py:458: UserWarning: The value argument must be within the support of the distribution\n",
      "  reconst_loss = -generative_outputs[\"px\"].log_prob(x).sum(-1)\n"
     ]
    },
    {
     "name": "stdout",
     "output_type": "stream",
     "text": [
      "Epoch 340/400:  85%|█████████▎ | 340/400 [00:09<00:01, 38.20it/s, v_num=1, train_loss_step=12.7, train_loss_epoch=13.1]"
     ]
    },
    {
     "name": "stderr",
     "output_type": "stream",
     "text": [
      "D:\\Anaconda\\envs\\scvi_test\\Lib\\site-packages\\scvi\\module\\_vae.py:458: UserWarning: The value argument must be within the support of the distribution\n",
      "  reconst_loss = -generative_outputs[\"px\"].log_prob(x).sum(-1)\n",
      "D:\\Anaconda\\envs\\scvi_test\\Lib\\site-packages\\scvi\\module\\_vae.py:458: UserWarning: The value argument must be within the support of the distribution\n",
      "  reconst_loss = -generative_outputs[\"px\"].log_prob(x).sum(-1)\n",
      "D:\\Anaconda\\envs\\scvi_test\\Lib\\site-packages\\scvi\\module\\_vae.py:458: UserWarning: The value argument must be within the support of the distribution\n",
      "  reconst_loss = -generative_outputs[\"px\"].log_prob(x).sum(-1)\n",
      "D:\\Anaconda\\envs\\scvi_test\\Lib\\site-packages\\scvi\\module\\_vae.py:458: UserWarning: The value argument must be within the support of the distribution\n",
      "  reconst_loss = -generative_outputs[\"px\"].log_prob(x).sum(-1)\n",
      "D:\\Anaconda\\envs\\scvi_test\\Lib\\site-packages\\scvi\\module\\_vae.py:458: UserWarning: The value argument must be within the support of the distribution\n",
      "  reconst_loss = -generative_outputs[\"px\"].log_prob(x).sum(-1)\n",
      "D:\\Anaconda\\envs\\scvi_test\\Lib\\site-packages\\scvi\\module\\_vae.py:458: UserWarning: The value argument must be within the support of the distribution\n",
      "  reconst_loss = -generative_outputs[\"px\"].log_prob(x).sum(-1)\n",
      "D:\\Anaconda\\envs\\scvi_test\\Lib\\site-packages\\scvi\\module\\_vae.py:458: UserWarning: The value argument must be within the support of the distribution\n",
      "  reconst_loss = -generative_outputs[\"px\"].log_prob(x).sum(-1)\n",
      "D:\\Anaconda\\envs\\scvi_test\\Lib\\site-packages\\scvi\\module\\_vae.py:458: UserWarning: The value argument must be within the support of the distribution\n",
      "  reconst_loss = -generative_outputs[\"px\"].log_prob(x).sum(-1)\n",
      "D:\\Anaconda\\envs\\scvi_test\\Lib\\site-packages\\scvi\\module\\_vae.py:458: UserWarning: The value argument must be within the support of the distribution\n",
      "  reconst_loss = -generative_outputs[\"px\"].log_prob(x).sum(-1)\n"
     ]
    },
    {
     "name": "stdout",
     "output_type": "stream",
     "text": [
      "Epoch 347/400:  87%|███████████▎ | 347/400 [00:09<00:01, 37.73it/s, v_num=1, train_loss_step=9.68, train_loss_epoch=13]"
     ]
    },
    {
     "name": "stderr",
     "output_type": "stream",
     "text": [
      "D:\\Anaconda\\envs\\scvi_test\\Lib\\site-packages\\scvi\\module\\_vae.py:458: UserWarning: The value argument must be within the support of the distribution\n",
      "  reconst_loss = -generative_outputs[\"px\"].log_prob(x).sum(-1)\n",
      "D:\\Anaconda\\envs\\scvi_test\\Lib\\site-packages\\scvi\\module\\_vae.py:458: UserWarning: The value argument must be within the support of the distribution\n",
      "  reconst_loss = -generative_outputs[\"px\"].log_prob(x).sum(-1)\n",
      "D:\\Anaconda\\envs\\scvi_test\\Lib\\site-packages\\scvi\\module\\_vae.py:458: UserWarning: The value argument must be within the support of the distribution\n",
      "  reconst_loss = -generative_outputs[\"px\"].log_prob(x).sum(-1)\n",
      "D:\\Anaconda\\envs\\scvi_test\\Lib\\site-packages\\scvi\\module\\_vae.py:458: UserWarning: The value argument must be within the support of the distribution\n",
      "  reconst_loss = -generative_outputs[\"px\"].log_prob(x).sum(-1)\n",
      "D:\\Anaconda\\envs\\scvi_test\\Lib\\site-packages\\scvi\\module\\_vae.py:458: UserWarning: The value argument must be within the support of the distribution\n",
      "  reconst_loss = -generative_outputs[\"px\"].log_prob(x).sum(-1)\n",
      "D:\\Anaconda\\envs\\scvi_test\\Lib\\site-packages\\scvi\\module\\_vae.py:458: UserWarning: The value argument must be within the support of the distribution\n",
      "  reconst_loss = -generative_outputs[\"px\"].log_prob(x).sum(-1)\n",
      "D:\\Anaconda\\envs\\scvi_test\\Lib\\site-packages\\scvi\\module\\_vae.py:458: UserWarning: The value argument must be within the support of the distribution\n",
      "  reconst_loss = -generative_outputs[\"px\"].log_prob(x).sum(-1)\n",
      "D:\\Anaconda\\envs\\scvi_test\\Lib\\site-packages\\scvi\\module\\_vae.py:458: UserWarning: The value argument must be within the support of the distribution\n",
      "  reconst_loss = -generative_outputs[\"px\"].log_prob(x).sum(-1)\n",
      "D:\\Anaconda\\envs\\scvi_test\\Lib\\site-packages\\scvi\\module\\_vae.py:458: UserWarning: The value argument must be within the support of the distribution\n",
      "  reconst_loss = -generative_outputs[\"px\"].log_prob(x).sum(-1)\n"
     ]
    },
    {
     "name": "stdout",
     "output_type": "stream",
     "text": [
      "Epoch 354/400:  88%|█████████▋ | 354/400 [00:09<00:01, 36.27it/s, v_num=1, train_loss_step=16.4, train_loss_epoch=13.2]"
     ]
    },
    {
     "name": "stderr",
     "output_type": "stream",
     "text": [
      "D:\\Anaconda\\envs\\scvi_test\\Lib\\site-packages\\scvi\\module\\_vae.py:458: UserWarning: The value argument must be within the support of the distribution\n",
      "  reconst_loss = -generative_outputs[\"px\"].log_prob(x).sum(-1)\n",
      "D:\\Anaconda\\envs\\scvi_test\\Lib\\site-packages\\scvi\\module\\_vae.py:458: UserWarning: The value argument must be within the support of the distribution\n",
      "  reconst_loss = -generative_outputs[\"px\"].log_prob(x).sum(-1)\n",
      "D:\\Anaconda\\envs\\scvi_test\\Lib\\site-packages\\scvi\\module\\_vae.py:458: UserWarning: The value argument must be within the support of the distribution\n",
      "  reconst_loss = -generative_outputs[\"px\"].log_prob(x).sum(-1)\n",
      "D:\\Anaconda\\envs\\scvi_test\\Lib\\site-packages\\scvi\\module\\_vae.py:458: UserWarning: The value argument must be within the support of the distribution\n",
      "  reconst_loss = -generative_outputs[\"px\"].log_prob(x).sum(-1)\n",
      "D:\\Anaconda\\envs\\scvi_test\\Lib\\site-packages\\scvi\\module\\_vae.py:458: UserWarning: The value argument must be within the support of the distribution\n",
      "  reconst_loss = -generative_outputs[\"px\"].log_prob(x).sum(-1)\n",
      "D:\\Anaconda\\envs\\scvi_test\\Lib\\site-packages\\scvi\\module\\_vae.py:458: UserWarning: The value argument must be within the support of the distribution\n",
      "  reconst_loss = -generative_outputs[\"px\"].log_prob(x).sum(-1)\n",
      "D:\\Anaconda\\envs\\scvi_test\\Lib\\site-packages\\scvi\\module\\_vae.py:458: UserWarning: The value argument must be within the support of the distribution\n",
      "  reconst_loss = -generative_outputs[\"px\"].log_prob(x).sum(-1)\n",
      "D:\\Anaconda\\envs\\scvi_test\\Lib\\site-packages\\scvi\\module\\_vae.py:458: UserWarning: The value argument must be within the support of the distribution\n",
      "  reconst_loss = -generative_outputs[\"px\"].log_prob(x).sum(-1)\n"
     ]
    },
    {
     "name": "stdout",
     "output_type": "stream",
     "text": [
      "Epoch 362/400:  90%|█████████▉ | 361/400 [00:09<00:01, 37.08it/s, v_num=1, train_loss_step=10.7, train_loss_epoch=13.3]"
     ]
    },
    {
     "name": "stderr",
     "output_type": "stream",
     "text": [
      "D:\\Anaconda\\envs\\scvi_test\\Lib\\site-packages\\scvi\\module\\_vae.py:458: UserWarning: The value argument must be within the support of the distribution\n",
      "  reconst_loss = -generative_outputs[\"px\"].log_prob(x).sum(-1)\n",
      "D:\\Anaconda\\envs\\scvi_test\\Lib\\site-packages\\scvi\\module\\_vae.py:458: UserWarning: The value argument must be within the support of the distribution\n",
      "  reconst_loss = -generative_outputs[\"px\"].log_prob(x).sum(-1)\n",
      "D:\\Anaconda\\envs\\scvi_test\\Lib\\site-packages\\scvi\\module\\_vae.py:458: UserWarning: The value argument must be within the support of the distribution\n",
      "  reconst_loss = -generative_outputs[\"px\"].log_prob(x).sum(-1)\n",
      "D:\\Anaconda\\envs\\scvi_test\\Lib\\site-packages\\scvi\\module\\_vae.py:458: UserWarning: The value argument must be within the support of the distribution\n",
      "  reconst_loss = -generative_outputs[\"px\"].log_prob(x).sum(-1)\n",
      "D:\\Anaconda\\envs\\scvi_test\\Lib\\site-packages\\scvi\\module\\_vae.py:458: UserWarning: The value argument must be within the support of the distribution\n",
      "  reconst_loss = -generative_outputs[\"px\"].log_prob(x).sum(-1)\n",
      "D:\\Anaconda\\envs\\scvi_test\\Lib\\site-packages\\scvi\\module\\_vae.py:458: UserWarning: The value argument must be within the support of the distribution\n",
      "  reconst_loss = -generative_outputs[\"px\"].log_prob(x).sum(-1)\n",
      "D:\\Anaconda\\envs\\scvi_test\\Lib\\site-packages\\scvi\\module\\_vae.py:458: UserWarning: The value argument must be within the support of the distribution\n",
      "  reconst_loss = -generative_outputs[\"px\"].log_prob(x).sum(-1)\n",
      "D:\\Anaconda\\envs\\scvi_test\\Lib\\site-packages\\scvi\\module\\_vae.py:458: UserWarning: The value argument must be within the support of the distribution\n",
      "  reconst_loss = -generative_outputs[\"px\"].log_prob(x).sum(-1)\n"
     ]
    },
    {
     "name": "stdout",
     "output_type": "stream",
     "text": [
      "Epoch 369/400:  92%|██████████▏| 369/400 [00:09<00:00, 38.39it/s, v_num=1, train_loss_step=11.6, train_loss_epoch=13.1]"
     ]
    },
    {
     "name": "stderr",
     "output_type": "stream",
     "text": [
      "D:\\Anaconda\\envs\\scvi_test\\Lib\\site-packages\\scvi\\module\\_vae.py:458: UserWarning: The value argument must be within the support of the distribution\n",
      "  reconst_loss = -generative_outputs[\"px\"].log_prob(x).sum(-1)\n",
      "D:\\Anaconda\\envs\\scvi_test\\Lib\\site-packages\\scvi\\module\\_vae.py:458: UserWarning: The value argument must be within the support of the distribution\n",
      "  reconst_loss = -generative_outputs[\"px\"].log_prob(x).sum(-1)\n",
      "D:\\Anaconda\\envs\\scvi_test\\Lib\\site-packages\\scvi\\module\\_vae.py:458: UserWarning: The value argument must be within the support of the distribution\n",
      "  reconst_loss = -generative_outputs[\"px\"].log_prob(x).sum(-1)\n",
      "D:\\Anaconda\\envs\\scvi_test\\Lib\\site-packages\\scvi\\module\\_vae.py:458: UserWarning: The value argument must be within the support of the distribution\n",
      "  reconst_loss = -generative_outputs[\"px\"].log_prob(x).sum(-1)\n",
      "D:\\Anaconda\\envs\\scvi_test\\Lib\\site-packages\\scvi\\module\\_vae.py:458: UserWarning: The value argument must be within the support of the distribution\n",
      "  reconst_loss = -generative_outputs[\"px\"].log_prob(x).sum(-1)\n",
      "D:\\Anaconda\\envs\\scvi_test\\Lib\\site-packages\\scvi\\module\\_vae.py:458: UserWarning: The value argument must be within the support of the distribution\n",
      "  reconst_loss = -generative_outputs[\"px\"].log_prob(x).sum(-1)\n",
      "D:\\Anaconda\\envs\\scvi_test\\Lib\\site-packages\\scvi\\module\\_vae.py:458: UserWarning: The value argument must be within the support of the distribution\n",
      "  reconst_loss = -generative_outputs[\"px\"].log_prob(x).sum(-1)\n",
      "D:\\Anaconda\\envs\\scvi_test\\Lib\\site-packages\\scvi\\module\\_vae.py:458: UserWarning: The value argument must be within the support of the distribution\n",
      "  reconst_loss = -generative_outputs[\"px\"].log_prob(x).sum(-1)\n",
      "D:\\Anaconda\\envs\\scvi_test\\Lib\\site-packages\\scvi\\module\\_vae.py:458: UserWarning: The value argument must be within the support of the distribution\n",
      "  reconst_loss = -generative_outputs[\"px\"].log_prob(x).sum(-1)\n",
      "D:\\Anaconda\\envs\\scvi_test\\Lib\\site-packages\\scvi\\module\\_vae.py:458: UserWarning: The value argument must be within the support of the distribution\n",
      "  reconst_loss = -generative_outputs[\"px\"].log_prob(x).sum(-1)\n"
     ]
    },
    {
     "name": "stdout",
     "output_type": "stream",
     "text": [
      "Epoch 376/400:  94%|██████████▎| 376/400 [00:09<00:00, 37.98it/s, v_num=1, train_loss_step=11.5, train_loss_epoch=13.1]"
     ]
    },
    {
     "name": "stderr",
     "output_type": "stream",
     "text": [
      "D:\\Anaconda\\envs\\scvi_test\\Lib\\site-packages\\scvi\\module\\_vae.py:458: UserWarning: The value argument must be within the support of the distribution\n",
      "  reconst_loss = -generative_outputs[\"px\"].log_prob(x).sum(-1)\n",
      "D:\\Anaconda\\envs\\scvi_test\\Lib\\site-packages\\scvi\\module\\_vae.py:458: UserWarning: The value argument must be within the support of the distribution\n",
      "  reconst_loss = -generative_outputs[\"px\"].log_prob(x).sum(-1)\n",
      "D:\\Anaconda\\envs\\scvi_test\\Lib\\site-packages\\scvi\\module\\_vae.py:458: UserWarning: The value argument must be within the support of the distribution\n",
      "  reconst_loss = -generative_outputs[\"px\"].log_prob(x).sum(-1)\n",
      "D:\\Anaconda\\envs\\scvi_test\\Lib\\site-packages\\scvi\\module\\_vae.py:458: UserWarning: The value argument must be within the support of the distribution\n",
      "  reconst_loss = -generative_outputs[\"px\"].log_prob(x).sum(-1)\n",
      "D:\\Anaconda\\envs\\scvi_test\\Lib\\site-packages\\scvi\\module\\_vae.py:458: UserWarning: The value argument must be within the support of the distribution\n",
      "  reconst_loss = -generative_outputs[\"px\"].log_prob(x).sum(-1)\n",
      "D:\\Anaconda\\envs\\scvi_test\\Lib\\site-packages\\scvi\\module\\_vae.py:458: UserWarning: The value argument must be within the support of the distribution\n",
      "  reconst_loss = -generative_outputs[\"px\"].log_prob(x).sum(-1)\n",
      "D:\\Anaconda\\envs\\scvi_test\\Lib\\site-packages\\scvi\\module\\_vae.py:458: UserWarning: The value argument must be within the support of the distribution\n",
      "  reconst_loss = -generative_outputs[\"px\"].log_prob(x).sum(-1)\n",
      "D:\\Anaconda\\envs\\scvi_test\\Lib\\site-packages\\scvi\\module\\_vae.py:458: UserWarning: The value argument must be within the support of the distribution\n",
      "  reconst_loss = -generative_outputs[\"px\"].log_prob(x).sum(-1)\n"
     ]
    },
    {
     "name": "stdout",
     "output_type": "stream",
     "text": [
      "Epoch 384/400:  96%|██████████▌| 384/400 [00:10<00:00, 37.72it/s, v_num=1, train_loss_step=11.7, train_loss_epoch=13.2]"
     ]
    },
    {
     "name": "stderr",
     "output_type": "stream",
     "text": [
      "D:\\Anaconda\\envs\\scvi_test\\Lib\\site-packages\\scvi\\module\\_vae.py:458: UserWarning: The value argument must be within the support of the distribution\n",
      "  reconst_loss = -generative_outputs[\"px\"].log_prob(x).sum(-1)\n",
      "D:\\Anaconda\\envs\\scvi_test\\Lib\\site-packages\\scvi\\module\\_vae.py:458: UserWarning: The value argument must be within the support of the distribution\n",
      "  reconst_loss = -generative_outputs[\"px\"].log_prob(x).sum(-1)\n",
      "D:\\Anaconda\\envs\\scvi_test\\Lib\\site-packages\\scvi\\module\\_vae.py:458: UserWarning: The value argument must be within the support of the distribution\n",
      "  reconst_loss = -generative_outputs[\"px\"].log_prob(x).sum(-1)\n",
      "D:\\Anaconda\\envs\\scvi_test\\Lib\\site-packages\\scvi\\module\\_vae.py:458: UserWarning: The value argument must be within the support of the distribution\n",
      "  reconst_loss = -generative_outputs[\"px\"].log_prob(x).sum(-1)\n",
      "D:\\Anaconda\\envs\\scvi_test\\Lib\\site-packages\\scvi\\module\\_vae.py:458: UserWarning: The value argument must be within the support of the distribution\n",
      "  reconst_loss = -generative_outputs[\"px\"].log_prob(x).sum(-1)\n",
      "D:\\Anaconda\\envs\\scvi_test\\Lib\\site-packages\\scvi\\module\\_vae.py:458: UserWarning: The value argument must be within the support of the distribution\n",
      "  reconst_loss = -generative_outputs[\"px\"].log_prob(x).sum(-1)\n",
      "D:\\Anaconda\\envs\\scvi_test\\Lib\\site-packages\\scvi\\module\\_vae.py:458: UserWarning: The value argument must be within the support of the distribution\n",
      "  reconst_loss = -generative_outputs[\"px\"].log_prob(x).sum(-1)\n",
      "D:\\Anaconda\\envs\\scvi_test\\Lib\\site-packages\\scvi\\module\\_vae.py:458: UserWarning: The value argument must be within the support of the distribution\n",
      "  reconst_loss = -generative_outputs[\"px\"].log_prob(x).sum(-1)\n",
      "D:\\Anaconda\\envs\\scvi_test\\Lib\\site-packages\\scvi\\module\\_vae.py:458: UserWarning: The value argument must be within the support of the distribution\n",
      "  reconst_loss = -generative_outputs[\"px\"].log_prob(x).sum(-1)\n",
      "D:\\Anaconda\\envs\\scvi_test\\Lib\\site-packages\\scvi\\module\\_vae.py:458: UserWarning: The value argument must be within the support of the distribution\n",
      "  reconst_loss = -generative_outputs[\"px\"].log_prob(x).sum(-1)\n"
     ]
    },
    {
     "name": "stdout",
     "output_type": "stream",
     "text": [
      "Epoch 392/400:  98%|████████████▋| 391/400 [00:10<00:00, 38.49it/s, v_num=1, train_loss_step=15, train_loss_epoch=13.3]"
     ]
    },
    {
     "name": "stderr",
     "output_type": "stream",
     "text": [
      "D:\\Anaconda\\envs\\scvi_test\\Lib\\site-packages\\scvi\\module\\_vae.py:458: UserWarning: The value argument must be within the support of the distribution\n",
      "  reconst_loss = -generative_outputs[\"px\"].log_prob(x).sum(-1)\n",
      "D:\\Anaconda\\envs\\scvi_test\\Lib\\site-packages\\scvi\\module\\_vae.py:458: UserWarning: The value argument must be within the support of the distribution\n",
      "  reconst_loss = -generative_outputs[\"px\"].log_prob(x).sum(-1)\n",
      "D:\\Anaconda\\envs\\scvi_test\\Lib\\site-packages\\scvi\\module\\_vae.py:458: UserWarning: The value argument must be within the support of the distribution\n",
      "  reconst_loss = -generative_outputs[\"px\"].log_prob(x).sum(-1)\n",
      "D:\\Anaconda\\envs\\scvi_test\\Lib\\site-packages\\scvi\\module\\_vae.py:458: UserWarning: The value argument must be within the support of the distribution\n",
      "  reconst_loss = -generative_outputs[\"px\"].log_prob(x).sum(-1)\n",
      "D:\\Anaconda\\envs\\scvi_test\\Lib\\site-packages\\scvi\\module\\_vae.py:458: UserWarning: The value argument must be within the support of the distribution\n",
      "  reconst_loss = -generative_outputs[\"px\"].log_prob(x).sum(-1)\n",
      "D:\\Anaconda\\envs\\scvi_test\\Lib\\site-packages\\scvi\\module\\_vae.py:458: UserWarning: The value argument must be within the support of the distribution\n",
      "  reconst_loss = -generative_outputs[\"px\"].log_prob(x).sum(-1)\n",
      "D:\\Anaconda\\envs\\scvi_test\\Lib\\site-packages\\scvi\\module\\_vae.py:458: UserWarning: The value argument must be within the support of the distribution\n",
      "  reconst_loss = -generative_outputs[\"px\"].log_prob(x).sum(-1)\n",
      "D:\\Anaconda\\envs\\scvi_test\\Lib\\site-packages\\scvi\\module\\_vae.py:458: UserWarning: The value argument must be within the support of the distribution\n",
      "  reconst_loss = -generative_outputs[\"px\"].log_prob(x).sum(-1)\n"
     ]
    },
    {
     "name": "stdout",
     "output_type": "stream",
     "text": [
      "Epoch 399/400: 100%|██████████▉| 399/400 [00:10<00:00, 38.72it/s, v_num=1, train_loss_step=14.7, train_loss_epoch=13.3]"
     ]
    },
    {
     "name": "stderr",
     "output_type": "stream",
     "text": [
      "D:\\Anaconda\\envs\\scvi_test\\Lib\\site-packages\\scvi\\module\\_vae.py:458: UserWarning: The value argument must be within the support of the distribution\n",
      "  reconst_loss = -generative_outputs[\"px\"].log_prob(x).sum(-1)\n",
      "D:\\Anaconda\\envs\\scvi_test\\Lib\\site-packages\\scvi\\module\\_vae.py:458: UserWarning: The value argument must be within the support of the distribution\n",
      "  reconst_loss = -generative_outputs[\"px\"].log_prob(x).sum(-1)\n",
      "D:\\Anaconda\\envs\\scvi_test\\Lib\\site-packages\\scvi\\module\\_vae.py:458: UserWarning: The value argument must be within the support of the distribution\n",
      "  reconst_loss = -generative_outputs[\"px\"].log_prob(x).sum(-1)\n",
      "D:\\Anaconda\\envs\\scvi_test\\Lib\\site-packages\\scvi\\module\\_vae.py:458: UserWarning: The value argument must be within the support of the distribution\n",
      "  reconst_loss = -generative_outputs[\"px\"].log_prob(x).sum(-1)\n",
      "D:\\Anaconda\\envs\\scvi_test\\Lib\\site-packages\\scvi\\module\\_vae.py:458: UserWarning: The value argument must be within the support of the distribution\n",
      "  reconst_loss = -generative_outputs[\"px\"].log_prob(x).sum(-1)\n",
      "D:\\Anaconda\\envs\\scvi_test\\Lib\\site-packages\\scvi\\module\\_vae.py:458: UserWarning: The value argument must be within the support of the distribution\n",
      "  reconst_loss = -generative_outputs[\"px\"].log_prob(x).sum(-1)\n",
      "D:\\Anaconda\\envs\\scvi_test\\Lib\\site-packages\\scvi\\module\\_vae.py:458: UserWarning: The value argument must be within the support of the distribution\n",
      "  reconst_loss = -generative_outputs[\"px\"].log_prob(x).sum(-1)\n",
      "D:\\Anaconda\\envs\\scvi_test\\Lib\\site-packages\\scvi\\module\\_vae.py:458: UserWarning: The value argument must be within the support of the distribution\n",
      "  reconst_loss = -generative_outputs[\"px\"].log_prob(x).sum(-1)\n",
      "D:\\Anaconda\\envs\\scvi_test\\Lib\\site-packages\\scvi\\module\\_vae.py:458: UserWarning: The value argument must be within the support of the distribution\n",
      "  reconst_loss = -generative_outputs[\"px\"].log_prob(x).sum(-1)\n",
      "D:\\Anaconda\\envs\\scvi_test\\Lib\\site-packages\\scvi\\module\\_vae.py:458: UserWarning: The value argument must be within the support of the distribution\n",
      "  reconst_loss = -generative_outputs[\"px\"].log_prob(x).sum(-1)\n"
     ]
    },
    {
     "name": "stdout",
     "output_type": "stream",
     "text": [
      "Epoch 400/400: 100%|███████████| 400/400 [00:10<00:00, 38.72it/s, v_num=1, train_loss_step=13.7, train_loss_epoch=13.3]"
     ]
    },
    {
     "name": "stderr",
     "output_type": "stream",
     "text": [
      "D:\\Anaconda\\envs\\scvi_test\\Lib\\site-packages\\scvi\\module\\_vae.py:458: UserWarning: The value argument must be within the support of the distribution\n",
      "  reconst_loss = -generative_outputs[\"px\"].log_prob(x).sum(-1)\n",
      "`Trainer.fit` stopped: `max_epochs=400` reached.\n"
     ]
    },
    {
     "name": "stdout",
     "output_type": "stream",
     "text": [
      "Epoch 400/400: 100%|███████████| 400/400 [00:10<00:00, 37.67it/s, v_num=1, train_loss_step=13.7, train_loss_epoch=13.3]\n"
     ]
    }
   ],
   "source": [
    "vae.train()"
   ]
  },
  {
   "cell_type": "code",
   "execution_count": 19,
   "id": "3530d652",
   "metadata": {},
   "outputs": [],
   "source": [
    "adata.obsm[\"X_scVI\"] = vae.get_latent_representation()"
   ]
  },
  {
   "cell_type": "code",
   "execution_count": 20,
   "id": "0be6bbc4",
   "metadata": {},
   "outputs": [
    {
     "data": {
      "text/plain": [
       "(410, 10)"
      ]
     },
     "execution_count": 20,
     "metadata": {},
     "output_type": "execute_result"
    }
   ],
   "source": [
    "SCVI_LATENT_KEY = \"X_scVI\"\n",
    "\n",
    "latent = vae.get_latent_representation()\n",
    "adata.obsm[SCVI_LATENT_KEY] = latent\n",
    "latent.shape"
   ]
  },
  {
   "cell_type": "code",
   "execution_count": 21,
   "id": "12812680",
   "metadata": {},
   "outputs": [
    {
     "data": {
      "text/plain": [
       "(410, 106)"
      ]
     },
     "execution_count": 21,
     "metadata": {},
     "output_type": "execute_result"
    }
   ],
   "source": [
    "denoised = vae.get_normalized_expression(adata, library_size=1e4)\n",
    "denoised.shape"
   ]
  },
  {
   "cell_type": "code",
   "execution_count": 22,
   "id": "65a12cc8",
   "metadata": {},
   "outputs": [
    {
     "data": {
      "text/html": [
       "<div>\n",
       "<style scoped>\n",
       "    .dataframe tbody tr th:only-of-type {\n",
       "        vertical-align: middle;\n",
       "    }\n",
       "\n",
       "    .dataframe tbody tr th {\n",
       "        vertical-align: top;\n",
       "    }\n",
       "\n",
       "    .dataframe thead th {\n",
       "        text-align: right;\n",
       "    }\n",
       "</style>\n",
       "<table border=\"1\" class=\"dataframe\">\n",
       "  <thead>\n",
       "    <tr style=\"text-align: right;\">\n",
       "      <th></th>\n",
       "      <th>0</th>\n",
       "      <th>1</th>\n",
       "      <th>2</th>\n",
       "      <th>3</th>\n",
       "      <th>4</th>\n",
       "      <th>5</th>\n",
       "      <th>6</th>\n",
       "      <th>7</th>\n",
       "      <th>8</th>\n",
       "      <th>9</th>\n",
       "      <th>...</th>\n",
       "      <th>96</th>\n",
       "      <th>97</th>\n",
       "      <th>98</th>\n",
       "      <th>99</th>\n",
       "      <th>100</th>\n",
       "      <th>101</th>\n",
       "      <th>102</th>\n",
       "      <th>103</th>\n",
       "      <th>104</th>\n",
       "      <th>105</th>\n",
       "    </tr>\n",
       "  </thead>\n",
       "  <tbody>\n",
       "    <tr>\n",
       "      <th>0</th>\n",
       "      <td>1702.685791</td>\n",
       "      <td>0.978968</td>\n",
       "      <td>0.244076</td>\n",
       "      <td>0.012513</td>\n",
       "      <td>95.961311</td>\n",
       "      <td>76.657700</td>\n",
       "      <td>0.002454</td>\n",
       "      <td>97.341248</td>\n",
       "      <td>11.862943</td>\n",
       "      <td>0.063085</td>\n",
       "      <td>...</td>\n",
       "      <td>0.003743</td>\n",
       "      <td>0.028535</td>\n",
       "      <td>0.175610</td>\n",
       "      <td>0.002701</td>\n",
       "      <td>0.004087</td>\n",
       "      <td>0.009442</td>\n",
       "      <td>0.141615</td>\n",
       "      <td>0.046014</td>\n",
       "      <td>7.813401</td>\n",
       "      <td>0.000320</td>\n",
       "    </tr>\n",
       "    <tr>\n",
       "      <th>1</th>\n",
       "      <td>2566.170898</td>\n",
       "      <td>3.302536</td>\n",
       "      <td>0.039259</td>\n",
       "      <td>0.040902</td>\n",
       "      <td>24.740671</td>\n",
       "      <td>11.250848</td>\n",
       "      <td>0.822263</td>\n",
       "      <td>448.995148</td>\n",
       "      <td>0.484526</td>\n",
       "      <td>2.374751</td>\n",
       "      <td>...</td>\n",
       "      <td>0.046973</td>\n",
       "      <td>0.020768</td>\n",
       "      <td>0.032353</td>\n",
       "      <td>0.058967</td>\n",
       "      <td>0.022135</td>\n",
       "      <td>0.289352</td>\n",
       "      <td>1.575131</td>\n",
       "      <td>2.131968</td>\n",
       "      <td>3.450783</td>\n",
       "      <td>0.035387</td>\n",
       "    </tr>\n",
       "    <tr>\n",
       "      <th>2</th>\n",
       "      <td>1001.431335</td>\n",
       "      <td>19.417608</td>\n",
       "      <td>3.297479</td>\n",
       "      <td>2.080817</td>\n",
       "      <td>38.458225</td>\n",
       "      <td>41.898029</td>\n",
       "      <td>37.940521</td>\n",
       "      <td>91.326416</td>\n",
       "      <td>10.129892</td>\n",
       "      <td>5.769340</td>\n",
       "      <td>...</td>\n",
       "      <td>3.493703</td>\n",
       "      <td>2.032006</td>\n",
       "      <td>3.054575</td>\n",
       "      <td>2.527580</td>\n",
       "      <td>2.436892</td>\n",
       "      <td>3.938260</td>\n",
       "      <td>102.170700</td>\n",
       "      <td>9.249150</td>\n",
       "      <td>14.327413</td>\n",
       "      <td>3.498808</td>\n",
       "    </tr>\n",
       "    <tr>\n",
       "      <th>3</th>\n",
       "      <td>746.091919</td>\n",
       "      <td>10.388915</td>\n",
       "      <td>2.743108</td>\n",
       "      <td>3.358701</td>\n",
       "      <td>460.435791</td>\n",
       "      <td>84.601715</td>\n",
       "      <td>4.070991</td>\n",
       "      <td>76.087097</td>\n",
       "      <td>6.603870</td>\n",
       "      <td>6.868962</td>\n",
       "      <td>...</td>\n",
       "      <td>1.944075</td>\n",
       "      <td>0.275828</td>\n",
       "      <td>0.378870</td>\n",
       "      <td>0.560899</td>\n",
       "      <td>0.876278</td>\n",
       "      <td>0.601052</td>\n",
       "      <td>18.517523</td>\n",
       "      <td>13.592501</td>\n",
       "      <td>27.768326</td>\n",
       "      <td>1.727410</td>\n",
       "    </tr>\n",
       "    <tr>\n",
       "      <th>4</th>\n",
       "      <td>2246.720947</td>\n",
       "      <td>33.103138</td>\n",
       "      <td>0.129197</td>\n",
       "      <td>0.102090</td>\n",
       "      <td>16.954773</td>\n",
       "      <td>63.120842</td>\n",
       "      <td>2.530597</td>\n",
       "      <td>269.549683</td>\n",
       "      <td>0.429608</td>\n",
       "      <td>0.043806</td>\n",
       "      <td>...</td>\n",
       "      <td>0.047271</td>\n",
       "      <td>0.067413</td>\n",
       "      <td>0.125030</td>\n",
       "      <td>0.062153</td>\n",
       "      <td>0.037549</td>\n",
       "      <td>0.018097</td>\n",
       "      <td>11.803867</td>\n",
       "      <td>0.048919</td>\n",
       "      <td>12.591056</td>\n",
       "      <td>0.041312</td>\n",
       "    </tr>\n",
       "    <tr>\n",
       "      <th>...</th>\n",
       "      <td>...</td>\n",
       "      <td>...</td>\n",
       "      <td>...</td>\n",
       "      <td>...</td>\n",
       "      <td>...</td>\n",
       "      <td>...</td>\n",
       "      <td>...</td>\n",
       "      <td>...</td>\n",
       "      <td>...</td>\n",
       "      <td>...</td>\n",
       "      <td>...</td>\n",
       "      <td>...</td>\n",
       "      <td>...</td>\n",
       "      <td>...</td>\n",
       "      <td>...</td>\n",
       "      <td>...</td>\n",
       "      <td>...</td>\n",
       "      <td>...</td>\n",
       "      <td>...</td>\n",
       "      <td>...</td>\n",
       "      <td>...</td>\n",
       "    </tr>\n",
       "    <tr>\n",
       "      <th>405</th>\n",
       "      <td>1111.201294</td>\n",
       "      <td>2.375840</td>\n",
       "      <td>0.117298</td>\n",
       "      <td>0.291367</td>\n",
       "      <td>2.540542</td>\n",
       "      <td>8.341571</td>\n",
       "      <td>7.701284</td>\n",
       "      <td>19.675465</td>\n",
       "      <td>0.384054</td>\n",
       "      <td>0.038858</td>\n",
       "      <td>...</td>\n",
       "      <td>0.189767</td>\n",
       "      <td>0.023321</td>\n",
       "      <td>0.077986</td>\n",
       "      <td>0.114181</td>\n",
       "      <td>0.079088</td>\n",
       "      <td>0.136080</td>\n",
       "      <td>1340.275757</td>\n",
       "      <td>0.031372</td>\n",
       "      <td>0.909478</td>\n",
       "      <td>0.075773</td>\n",
       "    </tr>\n",
       "    <tr>\n",
       "      <th>406</th>\n",
       "      <td>1093.928711</td>\n",
       "      <td>30.908592</td>\n",
       "      <td>7.390895</td>\n",
       "      <td>4.472696</td>\n",
       "      <td>380.951721</td>\n",
       "      <td>268.474884</td>\n",
       "      <td>5.851510</td>\n",
       "      <td>462.363556</td>\n",
       "      <td>46.841675</td>\n",
       "      <td>4.414210</td>\n",
       "      <td>...</td>\n",
       "      <td>3.766765</td>\n",
       "      <td>1.473979</td>\n",
       "      <td>2.052898</td>\n",
       "      <td>3.039347</td>\n",
       "      <td>3.245087</td>\n",
       "      <td>1.815966</td>\n",
       "      <td>27.089142</td>\n",
       "      <td>3.699843</td>\n",
       "      <td>139.633942</td>\n",
       "      <td>1.543662</td>\n",
       "    </tr>\n",
       "    <tr>\n",
       "      <th>407</th>\n",
       "      <td>511.951508</td>\n",
       "      <td>6.487950</td>\n",
       "      <td>1.008579</td>\n",
       "      <td>0.038034</td>\n",
       "      <td>844.170837</td>\n",
       "      <td>714.587524</td>\n",
       "      <td>0.066098</td>\n",
       "      <td>146.063477</td>\n",
       "      <td>10.495024</td>\n",
       "      <td>0.287135</td>\n",
       "      <td>...</td>\n",
       "      <td>0.025833</td>\n",
       "      <td>0.562429</td>\n",
       "      <td>1.174548</td>\n",
       "      <td>0.054952</td>\n",
       "      <td>0.038135</td>\n",
       "      <td>0.050367</td>\n",
       "      <td>0.548938</td>\n",
       "      <td>0.055491</td>\n",
       "      <td>631.853882</td>\n",
       "      <td>0.009002</td>\n",
       "    </tr>\n",
       "    <tr>\n",
       "      <th>408</th>\n",
       "      <td>1000.505249</td>\n",
       "      <td>113.344955</td>\n",
       "      <td>2.114142</td>\n",
       "      <td>36.627228</td>\n",
       "      <td>150.911865</td>\n",
       "      <td>66.287323</td>\n",
       "      <td>3.026417</td>\n",
       "      <td>35.892666</td>\n",
       "      <td>16.383398</td>\n",
       "      <td>402.141968</td>\n",
       "      <td>...</td>\n",
       "      <td>2.154584</td>\n",
       "      <td>3.856749</td>\n",
       "      <td>4.755974</td>\n",
       "      <td>1.392886</td>\n",
       "      <td>1.615846</td>\n",
       "      <td>11.304996</td>\n",
       "      <td>16.827240</td>\n",
       "      <td>380.811279</td>\n",
       "      <td>6.327890</td>\n",
       "      <td>3.683639</td>\n",
       "    </tr>\n",
       "    <tr>\n",
       "      <th>409</th>\n",
       "      <td>1009.739258</td>\n",
       "      <td>2.456489</td>\n",
       "      <td>0.168471</td>\n",
       "      <td>0.306712</td>\n",
       "      <td>393.990997</td>\n",
       "      <td>66.720779</td>\n",
       "      <td>4.087301</td>\n",
       "      <td>222.950562</td>\n",
       "      <td>1.270873</td>\n",
       "      <td>2.112057</td>\n",
       "      <td>...</td>\n",
       "      <td>0.314330</td>\n",
       "      <td>0.027880</td>\n",
       "      <td>0.057424</td>\n",
       "      <td>0.294233</td>\n",
       "      <td>0.275108</td>\n",
       "      <td>0.378789</td>\n",
       "      <td>6.865535</td>\n",
       "      <td>1.042788</td>\n",
       "      <td>48.455280</td>\n",
       "      <td>0.141970</td>\n",
       "    </tr>\n",
       "  </tbody>\n",
       "</table>\n",
       "<p>410 rows × 106 columns</p>\n",
       "</div>"
      ],
      "text/plain": [
       "               0           1         2          3           4           5  \\\n",
       "0    1702.685791    0.978968  0.244076   0.012513   95.961311   76.657700   \n",
       "1    2566.170898    3.302536  0.039259   0.040902   24.740671   11.250848   \n",
       "2    1001.431335   19.417608  3.297479   2.080817   38.458225   41.898029   \n",
       "3     746.091919   10.388915  2.743108   3.358701  460.435791   84.601715   \n",
       "4    2246.720947   33.103138  0.129197   0.102090   16.954773   63.120842   \n",
       "..           ...         ...       ...        ...         ...         ...   \n",
       "405  1111.201294    2.375840  0.117298   0.291367    2.540542    8.341571   \n",
       "406  1093.928711   30.908592  7.390895   4.472696  380.951721  268.474884   \n",
       "407   511.951508    6.487950  1.008579   0.038034  844.170837  714.587524   \n",
       "408  1000.505249  113.344955  2.114142  36.627228  150.911865   66.287323   \n",
       "409  1009.739258    2.456489  0.168471   0.306712  393.990997   66.720779   \n",
       "\n",
       "             6           7          8           9  ...        96        97  \\\n",
       "0     0.002454   97.341248  11.862943    0.063085  ...  0.003743  0.028535   \n",
       "1     0.822263  448.995148   0.484526    2.374751  ...  0.046973  0.020768   \n",
       "2    37.940521   91.326416  10.129892    5.769340  ...  3.493703  2.032006   \n",
       "3     4.070991   76.087097   6.603870    6.868962  ...  1.944075  0.275828   \n",
       "4     2.530597  269.549683   0.429608    0.043806  ...  0.047271  0.067413   \n",
       "..         ...         ...        ...         ...  ...       ...       ...   \n",
       "405   7.701284   19.675465   0.384054    0.038858  ...  0.189767  0.023321   \n",
       "406   5.851510  462.363556  46.841675    4.414210  ...  3.766765  1.473979   \n",
       "407   0.066098  146.063477  10.495024    0.287135  ...  0.025833  0.562429   \n",
       "408   3.026417   35.892666  16.383398  402.141968  ...  2.154584  3.856749   \n",
       "409   4.087301  222.950562   1.270873    2.112057  ...  0.314330  0.027880   \n",
       "\n",
       "           98        99       100        101          102         103  \\\n",
       "0    0.175610  0.002701  0.004087   0.009442     0.141615    0.046014   \n",
       "1    0.032353  0.058967  0.022135   0.289352     1.575131    2.131968   \n",
       "2    3.054575  2.527580  2.436892   3.938260   102.170700    9.249150   \n",
       "3    0.378870  0.560899  0.876278   0.601052    18.517523   13.592501   \n",
       "4    0.125030  0.062153  0.037549   0.018097    11.803867    0.048919   \n",
       "..        ...       ...       ...        ...          ...         ...   \n",
       "405  0.077986  0.114181  0.079088   0.136080  1340.275757    0.031372   \n",
       "406  2.052898  3.039347  3.245087   1.815966    27.089142    3.699843   \n",
       "407  1.174548  0.054952  0.038135   0.050367     0.548938    0.055491   \n",
       "408  4.755974  1.392886  1.615846  11.304996    16.827240  380.811279   \n",
       "409  0.057424  0.294233  0.275108   0.378789     6.865535    1.042788   \n",
       "\n",
       "            104       105  \n",
       "0      7.813401  0.000320  \n",
       "1      3.450783  0.035387  \n",
       "2     14.327413  3.498808  \n",
       "3     27.768326  1.727410  \n",
       "4     12.591056  0.041312  \n",
       "..          ...       ...  \n",
       "405    0.909478  0.075773  \n",
       "406  139.633942  1.543662  \n",
       "407  631.853882  0.009002  \n",
       "408    6.327890  3.683639  \n",
       "409   48.455280  0.141970  \n",
       "\n",
       "[410 rows x 106 columns]"
      ]
     },
     "execution_count": 22,
     "metadata": {},
     "output_type": "execute_result"
    }
   ],
   "source": [
    "denoised"
   ]
  },
  {
   "cell_type": "code",
   "execution_count": 23,
   "id": "141d711b",
   "metadata": {},
   "outputs": [
    {
     "data": {
      "text/plain": [
       "(410, 106)"
      ]
     },
     "execution_count": 23,
     "metadata": {},
     "output_type": "execute_result"
    }
   ],
   "source": [
    "adata.X.shape"
   ]
  },
  {
   "cell_type": "code",
   "execution_count": 24,
   "id": "fbbfee3d",
   "metadata": {},
   "outputs": [
    {
     "data": {
      "text/html": [
       "<div>\n",
       "<style scoped>\n",
       "    .dataframe tbody tr th:only-of-type {\n",
       "        vertical-align: middle;\n",
       "    }\n",
       "\n",
       "    .dataframe tbody tr th {\n",
       "        vertical-align: top;\n",
       "    }\n",
       "\n",
       "    .dataframe thead th {\n",
       "        text-align: right;\n",
       "    }\n",
       "</style>\n",
       "<table border=\"1\" class=\"dataframe\">\n",
       "  <thead>\n",
       "    <tr style=\"text-align: right;\">\n",
       "      <th></th>\n",
       "      <th>0</th>\n",
       "      <th>1</th>\n",
       "      <th>2</th>\n",
       "      <th>3</th>\n",
       "      <th>4</th>\n",
       "      <th>5</th>\n",
       "      <th>6</th>\n",
       "      <th>7</th>\n",
       "      <th>8</th>\n",
       "      <th>9</th>\n",
       "      <th>...</th>\n",
       "      <th>96</th>\n",
       "      <th>97</th>\n",
       "      <th>98</th>\n",
       "      <th>99</th>\n",
       "      <th>100</th>\n",
       "      <th>101</th>\n",
       "      <th>102</th>\n",
       "      <th>103</th>\n",
       "      <th>104</th>\n",
       "      <th>105</th>\n",
       "    </tr>\n",
       "  </thead>\n",
       "  <tbody>\n",
       "    <tr>\n",
       "      <th>0</th>\n",
       "      <td>11.039929</td>\n",
       "      <td>0.0</td>\n",
       "      <td>0.0</td>\n",
       "      <td>0.0</td>\n",
       "      <td>0.000000</td>\n",
       "      <td>0.000000</td>\n",
       "      <td>0.0</td>\n",
       "      <td>0.0</td>\n",
       "      <td>0.0</td>\n",
       "      <td>0.0</td>\n",
       "      <td>...</td>\n",
       "      <td>0.0</td>\n",
       "      <td>0.0</td>\n",
       "      <td>0.0</td>\n",
       "      <td>0.0</td>\n",
       "      <td>0.0</td>\n",
       "      <td>0.0</td>\n",
       "      <td>0.000000</td>\n",
       "      <td>0.0</td>\n",
       "      <td>0.0</td>\n",
       "      <td>0.0</td>\n",
       "    </tr>\n",
       "    <tr>\n",
       "      <th>1</th>\n",
       "      <td>0.000000</td>\n",
       "      <td>0.0</td>\n",
       "      <td>0.0</td>\n",
       "      <td>0.0</td>\n",
       "      <td>0.000000</td>\n",
       "      <td>0.000000</td>\n",
       "      <td>0.0</td>\n",
       "      <td>0.0</td>\n",
       "      <td>0.0</td>\n",
       "      <td>0.0</td>\n",
       "      <td>...</td>\n",
       "      <td>0.0</td>\n",
       "      <td>0.0</td>\n",
       "      <td>0.0</td>\n",
       "      <td>0.0</td>\n",
       "      <td>0.0</td>\n",
       "      <td>0.0</td>\n",
       "      <td>0.000000</td>\n",
       "      <td>0.0</td>\n",
       "      <td>0.0</td>\n",
       "      <td>0.0</td>\n",
       "    </tr>\n",
       "    <tr>\n",
       "      <th>2</th>\n",
       "      <td>0.000000</td>\n",
       "      <td>0.0</td>\n",
       "      <td>0.0</td>\n",
       "      <td>0.0</td>\n",
       "      <td>0.000000</td>\n",
       "      <td>0.000000</td>\n",
       "      <td>0.0</td>\n",
       "      <td>0.0</td>\n",
       "      <td>0.0</td>\n",
       "      <td>0.0</td>\n",
       "      <td>...</td>\n",
       "      <td>0.0</td>\n",
       "      <td>0.0</td>\n",
       "      <td>0.0</td>\n",
       "      <td>0.0</td>\n",
       "      <td>0.0</td>\n",
       "      <td>0.0</td>\n",
       "      <td>0.000000</td>\n",
       "      <td>0.0</td>\n",
       "      <td>0.0</td>\n",
       "      <td>0.0</td>\n",
       "    </tr>\n",
       "    <tr>\n",
       "      <th>3</th>\n",
       "      <td>10.697250</td>\n",
       "      <td>0.0</td>\n",
       "      <td>0.0</td>\n",
       "      <td>0.0</td>\n",
       "      <td>8.803836</td>\n",
       "      <td>0.000000</td>\n",
       "      <td>0.0</td>\n",
       "      <td>0.0</td>\n",
       "      <td>0.0</td>\n",
       "      <td>0.0</td>\n",
       "      <td>...</td>\n",
       "      <td>0.0</td>\n",
       "      <td>0.0</td>\n",
       "      <td>0.0</td>\n",
       "      <td>0.0</td>\n",
       "      <td>0.0</td>\n",
       "      <td>0.0</td>\n",
       "      <td>0.000000</td>\n",
       "      <td>0.0</td>\n",
       "      <td>0.0</td>\n",
       "      <td>0.0</td>\n",
       "    </tr>\n",
       "    <tr>\n",
       "      <th>4</th>\n",
       "      <td>0.000000</td>\n",
       "      <td>0.0</td>\n",
       "      <td>0.0</td>\n",
       "      <td>0.0</td>\n",
       "      <td>0.000000</td>\n",
       "      <td>0.000000</td>\n",
       "      <td>0.0</td>\n",
       "      <td>0.0</td>\n",
       "      <td>0.0</td>\n",
       "      <td>0.0</td>\n",
       "      <td>...</td>\n",
       "      <td>0.0</td>\n",
       "      <td>0.0</td>\n",
       "      <td>0.0</td>\n",
       "      <td>0.0</td>\n",
       "      <td>0.0</td>\n",
       "      <td>0.0</td>\n",
       "      <td>0.000000</td>\n",
       "      <td>0.0</td>\n",
       "      <td>0.0</td>\n",
       "      <td>0.0</td>\n",
       "    </tr>\n",
       "    <tr>\n",
       "      <th>...</th>\n",
       "      <td>...</td>\n",
       "      <td>...</td>\n",
       "      <td>...</td>\n",
       "      <td>...</td>\n",
       "      <td>...</td>\n",
       "      <td>...</td>\n",
       "      <td>...</td>\n",
       "      <td>...</td>\n",
       "      <td>...</td>\n",
       "      <td>...</td>\n",
       "      <td>...</td>\n",
       "      <td>...</td>\n",
       "      <td>...</td>\n",
       "      <td>...</td>\n",
       "      <td>...</td>\n",
       "      <td>...</td>\n",
       "      <td>...</td>\n",
       "      <td>...</td>\n",
       "      <td>...</td>\n",
       "      <td>...</td>\n",
       "      <td>...</td>\n",
       "    </tr>\n",
       "    <tr>\n",
       "      <th>405</th>\n",
       "      <td>11.322634</td>\n",
       "      <td>0.0</td>\n",
       "      <td>0.0</td>\n",
       "      <td>0.0</td>\n",
       "      <td>0.000000</td>\n",
       "      <td>0.000000</td>\n",
       "      <td>0.0</td>\n",
       "      <td>0.0</td>\n",
       "      <td>0.0</td>\n",
       "      <td>0.0</td>\n",
       "      <td>...</td>\n",
       "      <td>0.0</td>\n",
       "      <td>0.0</td>\n",
       "      <td>0.0</td>\n",
       "      <td>0.0</td>\n",
       "      <td>0.0</td>\n",
       "      <td>0.0</td>\n",
       "      <td>8.086479</td>\n",
       "      <td>0.0</td>\n",
       "      <td>0.0</td>\n",
       "      <td>0.0</td>\n",
       "    </tr>\n",
       "    <tr>\n",
       "      <th>406</th>\n",
       "      <td>0.000000</td>\n",
       "      <td>0.0</td>\n",
       "      <td>0.0</td>\n",
       "      <td>0.0</td>\n",
       "      <td>0.000000</td>\n",
       "      <td>0.000000</td>\n",
       "      <td>0.0</td>\n",
       "      <td>0.0</td>\n",
       "      <td>0.0</td>\n",
       "      <td>0.0</td>\n",
       "      <td>...</td>\n",
       "      <td>0.0</td>\n",
       "      <td>0.0</td>\n",
       "      <td>0.0</td>\n",
       "      <td>0.0</td>\n",
       "      <td>0.0</td>\n",
       "      <td>0.0</td>\n",
       "      <td>0.000000</td>\n",
       "      <td>0.0</td>\n",
       "      <td>0.0</td>\n",
       "      <td>0.0</td>\n",
       "    </tr>\n",
       "    <tr>\n",
       "      <th>407</th>\n",
       "      <td>0.000000</td>\n",
       "      <td>0.0</td>\n",
       "      <td>0.0</td>\n",
       "      <td>0.0</td>\n",
       "      <td>8.016748</td>\n",
       "      <td>8.016748</td>\n",
       "      <td>0.0</td>\n",
       "      <td>0.0</td>\n",
       "      <td>0.0</td>\n",
       "      <td>0.0</td>\n",
       "      <td>...</td>\n",
       "      <td>0.0</td>\n",
       "      <td>0.0</td>\n",
       "      <td>0.0</td>\n",
       "      <td>0.0</td>\n",
       "      <td>0.0</td>\n",
       "      <td>0.0</td>\n",
       "      <td>0.000000</td>\n",
       "      <td>0.0</td>\n",
       "      <td>0.0</td>\n",
       "      <td>0.0</td>\n",
       "    </tr>\n",
       "    <tr>\n",
       "      <th>408</th>\n",
       "      <td>0.000000</td>\n",
       "      <td>0.0</td>\n",
       "      <td>0.0</td>\n",
       "      <td>0.0</td>\n",
       "      <td>0.000000</td>\n",
       "      <td>0.000000</td>\n",
       "      <td>0.0</td>\n",
       "      <td>0.0</td>\n",
       "      <td>0.0</td>\n",
       "      <td>0.0</td>\n",
       "      <td>...</td>\n",
       "      <td>0.0</td>\n",
       "      <td>0.0</td>\n",
       "      <td>0.0</td>\n",
       "      <td>0.0</td>\n",
       "      <td>0.0</td>\n",
       "      <td>0.0</td>\n",
       "      <td>0.000000</td>\n",
       "      <td>0.0</td>\n",
       "      <td>0.0</td>\n",
       "      <td>0.0</td>\n",
       "    </tr>\n",
       "    <tr>\n",
       "      <th>409</th>\n",
       "      <td>9.219350</td>\n",
       "      <td>0.0</td>\n",
       "      <td>0.0</td>\n",
       "      <td>0.0</td>\n",
       "      <td>0.000000</td>\n",
       "      <td>0.000000</td>\n",
       "      <td>0.0</td>\n",
       "      <td>0.0</td>\n",
       "      <td>0.0</td>\n",
       "      <td>0.0</td>\n",
       "      <td>...</td>\n",
       "      <td>0.0</td>\n",
       "      <td>0.0</td>\n",
       "      <td>0.0</td>\n",
       "      <td>0.0</td>\n",
       "      <td>0.0</td>\n",
       "      <td>0.0</td>\n",
       "      <td>0.000000</td>\n",
       "      <td>0.0</td>\n",
       "      <td>0.0</td>\n",
       "      <td>0.0</td>\n",
       "    </tr>\n",
       "  </tbody>\n",
       "</table>\n",
       "<p>410 rows × 106 columns</p>\n",
       "</div>"
      ],
      "text/plain": [
       "           0    1    2    3         4         5    6    7    8    9    ...  \\\n",
       "0    11.039929  0.0  0.0  0.0  0.000000  0.000000  0.0  0.0  0.0  0.0  ...   \n",
       "1     0.000000  0.0  0.0  0.0  0.000000  0.000000  0.0  0.0  0.0  0.0  ...   \n",
       "2     0.000000  0.0  0.0  0.0  0.000000  0.000000  0.0  0.0  0.0  0.0  ...   \n",
       "3    10.697250  0.0  0.0  0.0  8.803836  0.000000  0.0  0.0  0.0  0.0  ...   \n",
       "4     0.000000  0.0  0.0  0.0  0.000000  0.000000  0.0  0.0  0.0  0.0  ...   \n",
       "..         ...  ...  ...  ...       ...       ...  ...  ...  ...  ...  ...   \n",
       "405  11.322634  0.0  0.0  0.0  0.000000  0.000000  0.0  0.0  0.0  0.0  ...   \n",
       "406   0.000000  0.0  0.0  0.0  0.000000  0.000000  0.0  0.0  0.0  0.0  ...   \n",
       "407   0.000000  0.0  0.0  0.0  8.016748  8.016748  0.0  0.0  0.0  0.0  ...   \n",
       "408   0.000000  0.0  0.0  0.0  0.000000  0.000000  0.0  0.0  0.0  0.0  ...   \n",
       "409   9.219350  0.0  0.0  0.0  0.000000  0.000000  0.0  0.0  0.0  0.0  ...   \n",
       "\n",
       "     96   97   98   99   100  101       102  103  104  105  \n",
       "0    0.0  0.0  0.0  0.0  0.0  0.0  0.000000  0.0  0.0  0.0  \n",
       "1    0.0  0.0  0.0  0.0  0.0  0.0  0.000000  0.0  0.0  0.0  \n",
       "2    0.0  0.0  0.0  0.0  0.0  0.0  0.000000  0.0  0.0  0.0  \n",
       "3    0.0  0.0  0.0  0.0  0.0  0.0  0.000000  0.0  0.0  0.0  \n",
       "4    0.0  0.0  0.0  0.0  0.0  0.0  0.000000  0.0  0.0  0.0  \n",
       "..   ...  ...  ...  ...  ...  ...       ...  ...  ...  ...  \n",
       "405  0.0  0.0  0.0  0.0  0.0  0.0  8.086479  0.0  0.0  0.0  \n",
       "406  0.0  0.0  0.0  0.0  0.0  0.0  0.000000  0.0  0.0  0.0  \n",
       "407  0.0  0.0  0.0  0.0  0.0  0.0  0.000000  0.0  0.0  0.0  \n",
       "408  0.0  0.0  0.0  0.0  0.0  0.0  0.000000  0.0  0.0  0.0  \n",
       "409  0.0  0.0  0.0  0.0  0.0  0.0  0.000000  0.0  0.0  0.0  \n",
       "\n",
       "[410 rows x 106 columns]"
      ]
     },
     "execution_count": 24,
     "metadata": {},
     "output_type": "execute_result"
    }
   ],
   "source": [
    "import pandas as pd\n",
    "import numpy as np\n",
    "pd.DataFrame(np.array(adata.X))"
   ]
  },
  {
   "cell_type": "code",
   "execution_count": 25,
   "id": "95f2c305",
   "metadata": {},
   "outputs": [],
   "source": [
    "import numpy as np"
   ]
  },
  {
   "cell_type": "code",
   "execution_count": 26,
   "id": "4473ba1f",
   "metadata": {},
   "outputs": [
    {
     "data": {
      "text/plain": [
       "(410, 106)"
      ]
     },
     "execution_count": 26,
     "metadata": {},
     "output_type": "execute_result"
    }
   ],
   "source": [
    "impute = np.array(denoised)\n",
    "impute.shape"
   ]
  },
  {
   "cell_type": "code",
   "execution_count": 27,
   "id": "0154e67a",
   "metadata": {},
   "outputs": [
    {
     "data": {
      "text/plain": [
       "(464,)"
      ]
     },
     "execution_count": 27,
     "metadata": {},
     "output_type": "execute_result"
    }
   ],
   "source": [
    "org_data.shape"
   ]
  },
  {
   "cell_type": "code",
   "execution_count": 28,
   "id": "a5252dbb",
   "metadata": {},
   "outputs": [
    {
     "data": {
      "text/plain": [
       "(464,)"
      ]
     },
     "execution_count": 28,
     "metadata": {},
     "output_type": "execute_result"
    }
   ],
   "source": [
    "all_mask = np.array(nonzero_mask)\n",
    "mask = all_mask == 1\n",
    "impute_data = impute[mask]\n",
    "impute_data.shape"
   ]
  },
  {
   "cell_type": "code",
   "execution_count": 29,
   "id": "c2077880",
   "metadata": {},
   "outputs": [
    {
     "data": {
      "text/plain": [
       "0.5153277093705242"
      ]
     },
     "execution_count": 29,
     "metadata": {},
     "output_type": "execute_result"
    }
   ],
   "source": [
    "from scipy.stats import pearsonr\n",
    "pearsonr(impute_data, org_data)[0]"
   ]
  },
  {
   "cell_type": "code",
   "execution_count": 30,
   "id": "88979600",
   "metadata": {},
   "outputs": [],
   "source": [
    "def cosine_similarity(a, b):\n",
    "    dot_product = np.dot(a, b)\n",
    "    norm_a = np.linalg.norm(a)\n",
    "    norm_b = np.linalg.norm(b)\n",
    "    similarity = dot_product / (norm_a * norm_b)\n",
    "    return similarity\n",
    "\n",
    "def rmse(a, b):\n",
    "    mse = np.mean((a - b) ** 2)\n",
    "    rmse = np.sqrt(mse)\n",
    "    return rmse\n",
    "\n",
    "def mae(a, b):\n",
    "    mae = np.mean(np.abs(a - b))\n",
    "    return mae"
   ]
  },
  {
   "cell_type": "code",
   "execution_count": 31,
   "id": "4efcab11",
   "metadata": {},
   "outputs": [
    {
     "data": {
      "text/plain": [
       "0.7476771879847866"
      ]
     },
     "execution_count": 31,
     "metadata": {},
     "output_type": "execute_result"
    }
   ],
   "source": [
    "cosine_similarity(impute_data, org_data)"
   ]
  },
  {
   "cell_type": "code",
   "execution_count": 32,
   "id": "6c0a61ef",
   "metadata": {},
   "outputs": [
    {
     "data": {
      "text/html": [
       "<div>\n",
       "<style scoped>\n",
       "    .dataframe tbody tr th:only-of-type {\n",
       "        vertical-align: middle;\n",
       "    }\n",
       "\n",
       "    .dataframe tbody tr th {\n",
       "        vertical-align: top;\n",
       "    }\n",
       "\n",
       "    .dataframe thead th {\n",
       "        text-align: right;\n",
       "    }\n",
       "</style>\n",
       "<table border=\"1\" class=\"dataframe\">\n",
       "  <thead>\n",
       "    <tr style=\"text-align: right;\">\n",
       "      <th></th>\n",
       "      <th>0</th>\n",
       "      <th>1</th>\n",
       "      <th>2</th>\n",
       "      <th>3</th>\n",
       "      <th>4</th>\n",
       "      <th>5</th>\n",
       "      <th>6</th>\n",
       "      <th>7</th>\n",
       "      <th>8</th>\n",
       "      <th>9</th>\n",
       "      <th>...</th>\n",
       "      <th>96</th>\n",
       "      <th>97</th>\n",
       "      <th>98</th>\n",
       "      <th>99</th>\n",
       "      <th>100</th>\n",
       "      <th>101</th>\n",
       "      <th>102</th>\n",
       "      <th>103</th>\n",
       "      <th>104</th>\n",
       "      <th>105</th>\n",
       "    </tr>\n",
       "  </thead>\n",
       "  <tbody>\n",
       "    <tr>\n",
       "      <th>0</th>\n",
       "      <td>1713.725720</td>\n",
       "      <td>0.978968</td>\n",
       "      <td>0.244076</td>\n",
       "      <td>0.012513</td>\n",
       "      <td>95.961311</td>\n",
       "      <td>76.657700</td>\n",
       "      <td>0.002454</td>\n",
       "      <td>97.341248</td>\n",
       "      <td>11.862943</td>\n",
       "      <td>0.063085</td>\n",
       "      <td>...</td>\n",
       "      <td>0.003743</td>\n",
       "      <td>0.028535</td>\n",
       "      <td>0.175610</td>\n",
       "      <td>0.002701</td>\n",
       "      <td>0.004087</td>\n",
       "      <td>0.009442</td>\n",
       "      <td>0.141615</td>\n",
       "      <td>0.046014</td>\n",
       "      <td>7.813401</td>\n",
       "      <td>0.000320</td>\n",
       "    </tr>\n",
       "    <tr>\n",
       "      <th>1</th>\n",
       "      <td>2566.170898</td>\n",
       "      <td>3.302536</td>\n",
       "      <td>0.039259</td>\n",
       "      <td>0.040902</td>\n",
       "      <td>24.740671</td>\n",
       "      <td>11.250848</td>\n",
       "      <td>0.822263</td>\n",
       "      <td>448.995148</td>\n",
       "      <td>0.484526</td>\n",
       "      <td>2.374751</td>\n",
       "      <td>...</td>\n",
       "      <td>0.046973</td>\n",
       "      <td>0.020768</td>\n",
       "      <td>0.032353</td>\n",
       "      <td>0.058967</td>\n",
       "      <td>0.022135</td>\n",
       "      <td>0.289352</td>\n",
       "      <td>1.575131</td>\n",
       "      <td>2.131968</td>\n",
       "      <td>3.450783</td>\n",
       "      <td>0.035387</td>\n",
       "    </tr>\n",
       "    <tr>\n",
       "      <th>2</th>\n",
       "      <td>1001.431335</td>\n",
       "      <td>19.417608</td>\n",
       "      <td>3.297479</td>\n",
       "      <td>2.080817</td>\n",
       "      <td>38.458225</td>\n",
       "      <td>41.898029</td>\n",
       "      <td>37.940521</td>\n",
       "      <td>91.326416</td>\n",
       "      <td>10.129892</td>\n",
       "      <td>5.769340</td>\n",
       "      <td>...</td>\n",
       "      <td>3.493703</td>\n",
       "      <td>2.032006</td>\n",
       "      <td>3.054575</td>\n",
       "      <td>2.527580</td>\n",
       "      <td>2.436892</td>\n",
       "      <td>3.938260</td>\n",
       "      <td>102.170700</td>\n",
       "      <td>9.249150</td>\n",
       "      <td>14.327413</td>\n",
       "      <td>3.498808</td>\n",
       "    </tr>\n",
       "    <tr>\n",
       "      <th>3</th>\n",
       "      <td>756.789169</td>\n",
       "      <td>10.388915</td>\n",
       "      <td>2.743108</td>\n",
       "      <td>3.358701</td>\n",
       "      <td>469.239627</td>\n",
       "      <td>8.803836</td>\n",
       "      <td>4.070991</td>\n",
       "      <td>76.087097</td>\n",
       "      <td>6.603870</td>\n",
       "      <td>6.868962</td>\n",
       "      <td>...</td>\n",
       "      <td>1.944075</td>\n",
       "      <td>0.275828</td>\n",
       "      <td>0.378870</td>\n",
       "      <td>0.560899</td>\n",
       "      <td>0.876278</td>\n",
       "      <td>0.601052</td>\n",
       "      <td>18.517523</td>\n",
       "      <td>13.592501</td>\n",
       "      <td>27.768326</td>\n",
       "      <td>1.727410</td>\n",
       "    </tr>\n",
       "    <tr>\n",
       "      <th>4</th>\n",
       "      <td>2246.720947</td>\n",
       "      <td>33.103138</td>\n",
       "      <td>0.129197</td>\n",
       "      <td>0.102090</td>\n",
       "      <td>16.954773</td>\n",
       "      <td>63.120842</td>\n",
       "      <td>2.530597</td>\n",
       "      <td>269.549683</td>\n",
       "      <td>0.429608</td>\n",
       "      <td>0.043806</td>\n",
       "      <td>...</td>\n",
       "      <td>0.047271</td>\n",
       "      <td>0.067413</td>\n",
       "      <td>0.125030</td>\n",
       "      <td>0.062153</td>\n",
       "      <td>0.037549</td>\n",
       "      <td>0.018097</td>\n",
       "      <td>11.803867</td>\n",
       "      <td>0.048919</td>\n",
       "      <td>12.591056</td>\n",
       "      <td>0.041312</td>\n",
       "    </tr>\n",
       "    <tr>\n",
       "      <th>...</th>\n",
       "      <td>...</td>\n",
       "      <td>...</td>\n",
       "      <td>...</td>\n",
       "      <td>...</td>\n",
       "      <td>...</td>\n",
       "      <td>...</td>\n",
       "      <td>...</td>\n",
       "      <td>...</td>\n",
       "      <td>...</td>\n",
       "      <td>...</td>\n",
       "      <td>...</td>\n",
       "      <td>...</td>\n",
       "      <td>...</td>\n",
       "      <td>...</td>\n",
       "      <td>...</td>\n",
       "      <td>...</td>\n",
       "      <td>...</td>\n",
       "      <td>...</td>\n",
       "      <td>...</td>\n",
       "      <td>...</td>\n",
       "      <td>...</td>\n",
       "    </tr>\n",
       "    <tr>\n",
       "      <th>405</th>\n",
       "      <td>1122.523928</td>\n",
       "      <td>2.375840</td>\n",
       "      <td>0.117298</td>\n",
       "      <td>0.291367</td>\n",
       "      <td>2.540542</td>\n",
       "      <td>8.341571</td>\n",
       "      <td>7.701284</td>\n",
       "      <td>19.675465</td>\n",
       "      <td>0.384054</td>\n",
       "      <td>0.038858</td>\n",
       "      <td>...</td>\n",
       "      <td>0.189767</td>\n",
       "      <td>0.023321</td>\n",
       "      <td>0.077986</td>\n",
       "      <td>0.114181</td>\n",
       "      <td>0.079088</td>\n",
       "      <td>0.136080</td>\n",
       "      <td>1348.362236</td>\n",
       "      <td>0.031372</td>\n",
       "      <td>0.909478</td>\n",
       "      <td>0.075773</td>\n",
       "    </tr>\n",
       "    <tr>\n",
       "      <th>406</th>\n",
       "      <td>1093.928711</td>\n",
       "      <td>30.908592</td>\n",
       "      <td>7.390895</td>\n",
       "      <td>4.472696</td>\n",
       "      <td>380.951721</td>\n",
       "      <td>268.474884</td>\n",
       "      <td>5.851510</td>\n",
       "      <td>462.363556</td>\n",
       "      <td>46.841675</td>\n",
       "      <td>4.414210</td>\n",
       "      <td>...</td>\n",
       "      <td>3.766765</td>\n",
       "      <td>1.473979</td>\n",
       "      <td>2.052898</td>\n",
       "      <td>3.039347</td>\n",
       "      <td>3.245087</td>\n",
       "      <td>1.815966</td>\n",
       "      <td>27.089142</td>\n",
       "      <td>3.699843</td>\n",
       "      <td>139.633942</td>\n",
       "      <td>1.543662</td>\n",
       "    </tr>\n",
       "    <tr>\n",
       "      <th>407</th>\n",
       "      <td>11.151926</td>\n",
       "      <td>6.487950</td>\n",
       "      <td>1.008579</td>\n",
       "      <td>0.038034</td>\n",
       "      <td>852.187585</td>\n",
       "      <td>722.604272</td>\n",
       "      <td>0.066098</td>\n",
       "      <td>146.063477</td>\n",
       "      <td>10.495024</td>\n",
       "      <td>0.287135</td>\n",
       "      <td>...</td>\n",
       "      <td>0.025833</td>\n",
       "      <td>0.562429</td>\n",
       "      <td>1.174548</td>\n",
       "      <td>0.054952</td>\n",
       "      <td>0.038135</td>\n",
       "      <td>0.050367</td>\n",
       "      <td>0.548938</td>\n",
       "      <td>0.055491</td>\n",
       "      <td>631.853882</td>\n",
       "      <td>0.009002</td>\n",
       "    </tr>\n",
       "    <tr>\n",
       "      <th>408</th>\n",
       "      <td>1000.505249</td>\n",
       "      <td>113.344955</td>\n",
       "      <td>2.114142</td>\n",
       "      <td>36.627228</td>\n",
       "      <td>150.911865</td>\n",
       "      <td>66.287323</td>\n",
       "      <td>3.026417</td>\n",
       "      <td>35.892666</td>\n",
       "      <td>16.383398</td>\n",
       "      <td>402.141968</td>\n",
       "      <td>...</td>\n",
       "      <td>2.154584</td>\n",
       "      <td>3.856749</td>\n",
       "      <td>4.755974</td>\n",
       "      <td>1.392886</td>\n",
       "      <td>1.615846</td>\n",
       "      <td>11.304996</td>\n",
       "      <td>16.827240</td>\n",
       "      <td>380.811279</td>\n",
       "      <td>6.327890</td>\n",
       "      <td>3.683639</td>\n",
       "    </tr>\n",
       "    <tr>\n",
       "      <th>409</th>\n",
       "      <td>1018.958608</td>\n",
       "      <td>2.456489</td>\n",
       "      <td>0.168471</td>\n",
       "      <td>0.306712</td>\n",
       "      <td>393.990997</td>\n",
       "      <td>66.720779</td>\n",
       "      <td>4.087301</td>\n",
       "      <td>222.950562</td>\n",
       "      <td>1.270873</td>\n",
       "      <td>2.112057</td>\n",
       "      <td>...</td>\n",
       "      <td>0.314330</td>\n",
       "      <td>0.027880</td>\n",
       "      <td>0.057424</td>\n",
       "      <td>0.294233</td>\n",
       "      <td>0.275108</td>\n",
       "      <td>0.378789</td>\n",
       "      <td>6.865535</td>\n",
       "      <td>1.042788</td>\n",
       "      <td>48.455280</td>\n",
       "      <td>0.141970</td>\n",
       "    </tr>\n",
       "  </tbody>\n",
       "</table>\n",
       "<p>410 rows × 106 columns</p>\n",
       "</div>"
      ],
      "text/plain": [
       "             0           1         2          3           4           5    \\\n",
       "0    1713.725720    0.978968  0.244076   0.012513   95.961311   76.657700   \n",
       "1    2566.170898    3.302536  0.039259   0.040902   24.740671   11.250848   \n",
       "2    1001.431335   19.417608  3.297479   2.080817   38.458225   41.898029   \n",
       "3     756.789169   10.388915  2.743108   3.358701  469.239627    8.803836   \n",
       "4    2246.720947   33.103138  0.129197   0.102090   16.954773   63.120842   \n",
       "..           ...         ...       ...        ...         ...         ...   \n",
       "405  1122.523928    2.375840  0.117298   0.291367    2.540542    8.341571   \n",
       "406  1093.928711   30.908592  7.390895   4.472696  380.951721  268.474884   \n",
       "407    11.151926    6.487950  1.008579   0.038034  852.187585  722.604272   \n",
       "408  1000.505249  113.344955  2.114142  36.627228  150.911865   66.287323   \n",
       "409  1018.958608    2.456489  0.168471   0.306712  393.990997   66.720779   \n",
       "\n",
       "           6           7          8           9    ...       96        97   \\\n",
       "0     0.002454   97.341248  11.862943    0.063085  ...  0.003743  0.028535   \n",
       "1     0.822263  448.995148   0.484526    2.374751  ...  0.046973  0.020768   \n",
       "2    37.940521   91.326416  10.129892    5.769340  ...  3.493703  2.032006   \n",
       "3     4.070991   76.087097   6.603870    6.868962  ...  1.944075  0.275828   \n",
       "4     2.530597  269.549683   0.429608    0.043806  ...  0.047271  0.067413   \n",
       "..         ...         ...        ...         ...  ...       ...       ...   \n",
       "405   7.701284   19.675465   0.384054    0.038858  ...  0.189767  0.023321   \n",
       "406   5.851510  462.363556  46.841675    4.414210  ...  3.766765  1.473979   \n",
       "407   0.066098  146.063477  10.495024    0.287135  ...  0.025833  0.562429   \n",
       "408   3.026417   35.892666  16.383398  402.141968  ...  2.154584  3.856749   \n",
       "409   4.087301  222.950562   1.270873    2.112057  ...  0.314330  0.027880   \n",
       "\n",
       "          98        99        100        101          102         103  \\\n",
       "0    0.175610  0.002701  0.004087   0.009442     0.141615    0.046014   \n",
       "1    0.032353  0.058967  0.022135   0.289352     1.575131    2.131968   \n",
       "2    3.054575  2.527580  2.436892   3.938260   102.170700    9.249150   \n",
       "3    0.378870  0.560899  0.876278   0.601052    18.517523   13.592501   \n",
       "4    0.125030  0.062153  0.037549   0.018097    11.803867    0.048919   \n",
       "..        ...       ...       ...        ...          ...         ...   \n",
       "405  0.077986  0.114181  0.079088   0.136080  1348.362236    0.031372   \n",
       "406  2.052898  3.039347  3.245087   1.815966    27.089142    3.699843   \n",
       "407  1.174548  0.054952  0.038135   0.050367     0.548938    0.055491   \n",
       "408  4.755974  1.392886  1.615846  11.304996    16.827240  380.811279   \n",
       "409  0.057424  0.294233  0.275108   0.378789     6.865535    1.042788   \n",
       "\n",
       "            104       105  \n",
       "0      7.813401  0.000320  \n",
       "1      3.450783  0.035387  \n",
       "2     14.327413  3.498808  \n",
       "3     27.768326  1.727410  \n",
       "4     12.591056  0.041312  \n",
       "..          ...       ...  \n",
       "405    0.909478  0.075773  \n",
       "406  139.633942  1.543662  \n",
       "407  631.853882  0.009002  \n",
       "408    6.327890  3.683639  \n",
       "409   48.455280  0.141970  \n",
       "\n",
       "[410 rows x 106 columns]"
      ]
     },
     "execution_count": 32,
     "metadata": {},
     "output_type": "execute_result"
    }
   ],
   "source": [
    "prediction_result_final = origin_data + impute * (1 - nonzero_mask)\n",
    "pred_result = pd.DataFrame(prediction_result_final)\n",
    "pred_result"
   ]
  },
  {
   "cell_type": "code",
   "execution_count": 33,
   "id": "c0e6e8c9",
   "metadata": {},
   "outputs": [],
   "source": [
    "# raw = pd.read_csv('D:\\\\PyCharm\\\\Py_Projects\\\\DiTT\\\\result\\\\data_hnsc\\\\original.csv', index_col=0)\n",
    "raw = adata.X\n",
    "result_mask = raw\n",
    "result_mask = np.where(result_mask != 0, 1, 0)\n",
    "prediction_result_final = raw + impute * (1 - result_mask)\n",
    "pred_result = pd.DataFrame(prediction_result_final)\n",
    "raw_data = pd.DataFrame(raw)\n",
    "\n",
    "pred_result.to_csv('D:/PyCharm/Py_Projects/Diffusion/baseline_result/scVI/scVI_coad_blood_prediction.csv', header=True, index=True)"
   ]
  },
  {
   "cell_type": "code",
   "execution_count": null,
   "id": "dfa1d9c2",
   "metadata": {},
   "outputs": [],
   "source": []
  },
  {
   "cell_type": "code",
   "execution_count": null,
   "id": "6ac81257",
   "metadata": {},
   "outputs": [],
   "source": []
  },
  {
   "cell_type": "code",
   "execution_count": null,
   "id": "9f47145f",
   "metadata": {},
   "outputs": [],
   "source": []
  },
  {
   "cell_type": "code",
   "execution_count": null,
   "id": "009d3648",
   "metadata": {},
   "outputs": [],
   "source": []
  },
  {
   "cell_type": "code",
   "execution_count": null,
   "id": "212744aa",
   "metadata": {},
   "outputs": [],
   "source": []
  },
  {
   "cell_type": "code",
   "execution_count": null,
   "id": "2c982c66",
   "metadata": {},
   "outputs": [],
   "source": []
  },
  {
   "cell_type": "code",
   "execution_count": null,
   "id": "d1366b9e",
   "metadata": {},
   "outputs": [],
   "source": []
  }
 ],
 "metadata": {
  "kernelspec": {
   "display_name": "scvi_test",
   "language": "python",
   "name": "scvi_test"
  },
  "language_info": {
   "codemirror_mode": {
    "name": "ipython",
    "version": 3
   },
   "file_extension": ".py",
   "mimetype": "text/x-python",
   "name": "python",
   "nbconvert_exporter": "python",
   "pygments_lexer": "ipython3",
   "version": "3.12.1"
  }
 },
 "nbformat": 4,
 "nbformat_minor": 5
}
